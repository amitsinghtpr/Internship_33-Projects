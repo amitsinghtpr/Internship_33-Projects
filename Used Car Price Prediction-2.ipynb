{
 "cells": [
  {
   "cell_type": "code",
   "execution_count": 1,
   "id": "2b41630b",
   "metadata": {},
   "outputs": [],
   "source": [
    "#Importing important Library\n",
    "import pandas as pd\n",
    "import numpy as np\n",
    "from sklearn.ensemble import RandomForestRegressor\n",
    "from sklearn.model_selection import train_test_split\n",
    "from sklearn.metrics import mean_absolute_error\n",
    "import matplotlib.pyplot as plt\n",
    "import seaborn as sns\n",
    "import warnings\n",
    "warnings.filterwarnings('ignore')\n"
   ]
  },
  {
   "cell_type": "code",
   "execution_count": 2,
   "id": "c61fc403",
   "metadata": {},
   "outputs": [
    {
     "data": {
      "text/html": [
       "<div>\n",
       "<style scoped>\n",
       "    .dataframe tbody tr th:only-of-type {\n",
       "        vertical-align: middle;\n",
       "    }\n",
       "\n",
       "    .dataframe tbody tr th {\n",
       "        vertical-align: top;\n",
       "    }\n",
       "\n",
       "    .dataframe thead th {\n",
       "        text-align: right;\n",
       "    }\n",
       "</style>\n",
       "<table border=\"1\" class=\"dataframe\">\n",
       "  <thead>\n",
       "    <tr style=\"text-align: right;\">\n",
       "      <th></th>\n",
       "      <th>Unnamed: 0</th>\n",
       "      <th>Brand</th>\n",
       "      <th>Model</th>\n",
       "      <th>Manufacturing Year</th>\n",
       "      <th>Driven Kilometer</th>\n",
       "      <th>Fuels</th>\n",
       "      <th>No. of Owner</th>\n",
       "      <th>Variant</th>\n",
       "      <th>Location</th>\n",
       "      <th>Price</th>\n",
       "    </tr>\n",
       "  </thead>\n",
       "  <tbody>\n",
       "    <tr>\n",
       "      <th>0</th>\n",
       "      <td>0</td>\n",
       "      <td>KIA</td>\n",
       "      <td>SELTOS</td>\n",
       "      <td>2020</td>\n",
       "      <td>5,999 km</td>\n",
       "      <td>Petrol</td>\n",
       "      <td>1st Owner</td>\n",
       "      <td>GTX+</td>\n",
       "      <td>New Delhi</td>\n",
       "      <td>₹17,22,000</td>\n",
       "    </tr>\n",
       "    <tr>\n",
       "      <th>1</th>\n",
       "      <td>1</td>\n",
       "      <td>KIA</td>\n",
       "      <td>SELTOS</td>\n",
       "      <td>2020</td>\n",
       "      <td>9,417 km</td>\n",
       "      <td>Petrol</td>\n",
       "      <td>1st Owner</td>\n",
       "      <td>GTX</td>\n",
       "      <td>New Delhi</td>\n",
       "      <td>₹16,81,000</td>\n",
       "    </tr>\n",
       "    <tr>\n",
       "      <th>2</th>\n",
       "      <td>2</td>\n",
       "      <td>Hyundai</td>\n",
       "      <td>Grand</td>\n",
       "      <td>2019</td>\n",
       "      <td>19,964 km</td>\n",
       "      <td>Petrol</td>\n",
       "      <td>1st Owner</td>\n",
       "      <td>MAGNA</td>\n",
       "      <td>New Delhi</td>\n",
       "      <td>₹5,03,000</td>\n",
       "    </tr>\n",
       "    <tr>\n",
       "      <th>3</th>\n",
       "      <td>3</td>\n",
       "      <td>Maruti</td>\n",
       "      <td>Alto</td>\n",
       "      <td>2011</td>\n",
       "      <td>12,030 km</td>\n",
       "      <td>Petrol</td>\n",
       "      <td>2nd Owner</td>\n",
       "      <td>LXI</td>\n",
       "      <td>New Delhi</td>\n",
       "      <td>₹1,74,000</td>\n",
       "    </tr>\n",
       "    <tr>\n",
       "      <th>4</th>\n",
       "      <td>4</td>\n",
       "      <td>Hyundai</td>\n",
       "      <td>Grand</td>\n",
       "      <td>2019</td>\n",
       "      <td>20,969 km</td>\n",
       "      <td>Petrol</td>\n",
       "      <td>1st Owner</td>\n",
       "      <td>MAGNA</td>\n",
       "      <td>New Delhi</td>\n",
       "      <td>₹5,28,000</td>\n",
       "    </tr>\n",
       "    <tr>\n",
       "      <th>...</th>\n",
       "      <td>...</td>\n",
       "      <td>...</td>\n",
       "      <td>...</td>\n",
       "      <td>...</td>\n",
       "      <td>...</td>\n",
       "      <td>...</td>\n",
       "      <td>...</td>\n",
       "      <td>...</td>\n",
       "      <td>...</td>\n",
       "      <td>...</td>\n",
       "    </tr>\n",
       "    <tr>\n",
       "      <th>5501</th>\n",
       "      <td>5501</td>\n",
       "      <td>HONDA</td>\n",
       "      <td>AMAZE</td>\n",
       "      <td>2019</td>\n",
       "      <td>20,700 KM</td>\n",
       "      <td>PETROL</td>\n",
       "      <td>1ST OWNER</td>\n",
       "      <td>1.2L</td>\n",
       "      <td>Noida</td>\n",
       "      <td>₹6,50,000</td>\n",
       "    </tr>\n",
       "    <tr>\n",
       "      <th>5502</th>\n",
       "      <td>5502</td>\n",
       "      <td>Maruti</td>\n",
       "      <td>Suzuki</td>\n",
       "      <td>2011</td>\n",
       "      <td>29,838 KM</td>\n",
       "      <td>PETROL</td>\n",
       "      <td>2ND OWNER</td>\n",
       "      <td>LXIManual</td>\n",
       "      <td>Noida</td>\n",
       "      <td>₹1,69,000</td>\n",
       "    </tr>\n",
       "    <tr>\n",
       "      <th>5503</th>\n",
       "      <td>5503</td>\n",
       "      <td>Maruti</td>\n",
       "      <td>Suzuki</td>\n",
       "      <td>2018</td>\n",
       "      <td>58,200 KM</td>\n",
       "      <td>CNG</td>\n",
       "      <td>1ST OWNER</td>\n",
       "      <td>LXI</td>\n",
       "      <td>Noida</td>\n",
       "      <td>₹4,28,000</td>\n",
       "    </tr>\n",
       "    <tr>\n",
       "      <th>5504</th>\n",
       "      <td>5504</td>\n",
       "      <td>Mahindra</td>\n",
       "      <td>Thar</td>\n",
       "      <td>2022</td>\n",
       "      <td>1,102 KM</td>\n",
       "      <td>PETROL</td>\n",
       "      <td>1ST OWNER</td>\n",
       "      <td>LX</td>\n",
       "      <td>Noida</td>\n",
       "      <td>₹15,52,000</td>\n",
       "    </tr>\n",
       "    <tr>\n",
       "      <th>5505</th>\n",
       "      <td>5505</td>\n",
       "      <td>Renault</td>\n",
       "      <td>Kwid</td>\n",
       "      <td>2019</td>\n",
       "      <td>25,519 KM</td>\n",
       "      <td>PETROL</td>\n",
       "      <td>2ND OWNER</td>\n",
       "      <td>RXLManual</td>\n",
       "      <td>Noida</td>\n",
       "      <td>₹3,71,000</td>\n",
       "    </tr>\n",
       "  </tbody>\n",
       "</table>\n",
       "<p>5506 rows × 10 columns</p>\n",
       "</div>"
      ],
      "text/plain": [
       "      Unnamed: 0     Brand   Model  Manufacturing Year Driven Kilometer  \\\n",
       "0              0       KIA  SELTOS                2020         5,999 km   \n",
       "1              1       KIA  SELTOS                2020         9,417 km   \n",
       "2              2   Hyundai   Grand                2019        19,964 km   \n",
       "3              3    Maruti    Alto                2011        12,030 km   \n",
       "4              4   Hyundai   Grand                2019        20,969 km   \n",
       "...          ...       ...     ...                 ...              ...   \n",
       "5501        5501     HONDA   AMAZE                2019        20,700 KM   \n",
       "5502        5502    Maruti  Suzuki                2011        29,838 KM   \n",
       "5503        5503    Maruti  Suzuki                2018        58,200 KM   \n",
       "5504        5504  Mahindra    Thar                2022         1,102 KM   \n",
       "5505        5505   Renault    Kwid                2019        25,519 KM   \n",
       "\n",
       "       Fuels No. of Owner    Variant   Location       Price  \n",
       "0     Petrol    1st Owner       GTX+  New Delhi  ₹17,22,000  \n",
       "1     Petrol    1st Owner        GTX  New Delhi  ₹16,81,000  \n",
       "2     Petrol    1st Owner      MAGNA  New Delhi   ₹5,03,000  \n",
       "3     Petrol    2nd Owner        LXI  New Delhi   ₹1,74,000  \n",
       "4     Petrol    1st Owner      MAGNA  New Delhi   ₹5,28,000  \n",
       "...      ...          ...        ...        ...         ...  \n",
       "5501  PETROL    1ST OWNER       1.2L      Noida   ₹6,50,000  \n",
       "5502  PETROL    2ND OWNER  LXIManual      Noida   ₹1,69,000  \n",
       "5503     CNG    1ST OWNER        LXI      Noida   ₹4,28,000  \n",
       "5504  PETROL    1ST OWNER         LX      Noida  ₹15,52,000  \n",
       "5505  PETROL    2ND OWNER  RXLManual      Noida   ₹3,71,000  \n",
       "\n",
       "[5506 rows x 10 columns]"
      ]
     },
     "execution_count": 2,
     "metadata": {},
     "output_type": "execute_result"
    }
   ],
   "source": [
    "# Loading the csv file\n",
    "car=pd.read_csv(\"Car_Prediction.csv\")\n",
    "car"
   ]
  },
  {
   "cell_type": "code",
   "execution_count": 3,
   "id": "bdae3ad1",
   "metadata": {},
   "outputs": [],
   "source": [
    "#Dropping Unnecessary Columns\n",
    "car.drop(['Unnamed: 0','Location'],axis=1,inplace=True)"
   ]
  },
  {
   "cell_type": "markdown",
   "id": "524ee6be",
   "metadata": {},
   "source": [
    "**Data Preprocessing**"
   ]
  },
  {
   "cell_type": "code",
   "execution_count": 4,
   "id": "263d18f3",
   "metadata": {
    "scrolled": true
   },
   "outputs": [
    {
     "data": {
      "text/html": [
       "<div>\n",
       "<style scoped>\n",
       "    .dataframe tbody tr th:only-of-type {\n",
       "        vertical-align: middle;\n",
       "    }\n",
       "\n",
       "    .dataframe tbody tr th {\n",
       "        vertical-align: top;\n",
       "    }\n",
       "\n",
       "    .dataframe thead th {\n",
       "        text-align: right;\n",
       "    }\n",
       "</style>\n",
       "<table border=\"1\" class=\"dataframe\">\n",
       "  <thead>\n",
       "    <tr style=\"text-align: right;\">\n",
       "      <th></th>\n",
       "      <th>Brand</th>\n",
       "      <th>Model</th>\n",
       "      <th>Manufacturing Year</th>\n",
       "      <th>Driven Kilometer</th>\n",
       "      <th>Fuels</th>\n",
       "      <th>No. of Owner</th>\n",
       "      <th>Variant</th>\n",
       "      <th>Price</th>\n",
       "    </tr>\n",
       "  </thead>\n",
       "  <tbody>\n",
       "    <tr>\n",
       "      <th>0</th>\n",
       "      <td>KIA</td>\n",
       "      <td>SELTOS</td>\n",
       "      <td>2020</td>\n",
       "      <td>5,999 km</td>\n",
       "      <td>Petrol</td>\n",
       "      <td>1st Owner</td>\n",
       "      <td>GTX+</td>\n",
       "      <td>₹17,22,000</td>\n",
       "    </tr>\n",
       "    <tr>\n",
       "      <th>1</th>\n",
       "      <td>KIA</td>\n",
       "      <td>SELTOS</td>\n",
       "      <td>2020</td>\n",
       "      <td>9,417 km</td>\n",
       "      <td>Petrol</td>\n",
       "      <td>1st Owner</td>\n",
       "      <td>GTX</td>\n",
       "      <td>₹16,81,000</td>\n",
       "    </tr>\n",
       "    <tr>\n",
       "      <th>2</th>\n",
       "      <td>Hyundai</td>\n",
       "      <td>Grand</td>\n",
       "      <td>2019</td>\n",
       "      <td>19,964 km</td>\n",
       "      <td>Petrol</td>\n",
       "      <td>1st Owner</td>\n",
       "      <td>MAGNA</td>\n",
       "      <td>₹5,03,000</td>\n",
       "    </tr>\n",
       "    <tr>\n",
       "      <th>3</th>\n",
       "      <td>Maruti</td>\n",
       "      <td>Alto</td>\n",
       "      <td>2011</td>\n",
       "      <td>12,030 km</td>\n",
       "      <td>Petrol</td>\n",
       "      <td>2nd Owner</td>\n",
       "      <td>LXI</td>\n",
       "      <td>₹1,74,000</td>\n",
       "    </tr>\n",
       "    <tr>\n",
       "      <th>4</th>\n",
       "      <td>Hyundai</td>\n",
       "      <td>Grand</td>\n",
       "      <td>2019</td>\n",
       "      <td>20,969 km</td>\n",
       "      <td>Petrol</td>\n",
       "      <td>1st Owner</td>\n",
       "      <td>MAGNA</td>\n",
       "      <td>₹5,28,000</td>\n",
       "    </tr>\n",
       "    <tr>\n",
       "      <th>...</th>\n",
       "      <td>...</td>\n",
       "      <td>...</td>\n",
       "      <td>...</td>\n",
       "      <td>...</td>\n",
       "      <td>...</td>\n",
       "      <td>...</td>\n",
       "      <td>...</td>\n",
       "      <td>...</td>\n",
       "    </tr>\n",
       "    <tr>\n",
       "      <th>5501</th>\n",
       "      <td>HONDA</td>\n",
       "      <td>AMAZE</td>\n",
       "      <td>2019</td>\n",
       "      <td>20,700 KM</td>\n",
       "      <td>PETROL</td>\n",
       "      <td>1ST OWNER</td>\n",
       "      <td>1.2L</td>\n",
       "      <td>₹6,50,000</td>\n",
       "    </tr>\n",
       "    <tr>\n",
       "      <th>5502</th>\n",
       "      <td>Maruti</td>\n",
       "      <td>Suzuki</td>\n",
       "      <td>2011</td>\n",
       "      <td>29,838 KM</td>\n",
       "      <td>PETROL</td>\n",
       "      <td>2ND OWNER</td>\n",
       "      <td>LXIManual</td>\n",
       "      <td>₹1,69,000</td>\n",
       "    </tr>\n",
       "    <tr>\n",
       "      <th>5503</th>\n",
       "      <td>Maruti</td>\n",
       "      <td>Suzuki</td>\n",
       "      <td>2018</td>\n",
       "      <td>58,200 KM</td>\n",
       "      <td>CNG</td>\n",
       "      <td>1ST OWNER</td>\n",
       "      <td>LXI</td>\n",
       "      <td>₹4,28,000</td>\n",
       "    </tr>\n",
       "    <tr>\n",
       "      <th>5504</th>\n",
       "      <td>Mahindra</td>\n",
       "      <td>Thar</td>\n",
       "      <td>2022</td>\n",
       "      <td>1,102 KM</td>\n",
       "      <td>PETROL</td>\n",
       "      <td>1ST OWNER</td>\n",
       "      <td>LX</td>\n",
       "      <td>₹15,52,000</td>\n",
       "    </tr>\n",
       "    <tr>\n",
       "      <th>5505</th>\n",
       "      <td>Renault</td>\n",
       "      <td>Kwid</td>\n",
       "      <td>2019</td>\n",
       "      <td>25,519 KM</td>\n",
       "      <td>PETROL</td>\n",
       "      <td>2ND OWNER</td>\n",
       "      <td>RXLManual</td>\n",
       "      <td>₹3,71,000</td>\n",
       "    </tr>\n",
       "  </tbody>\n",
       "</table>\n",
       "<p>5506 rows × 8 columns</p>\n",
       "</div>"
      ],
      "text/plain": [
       "         Brand   Model  Manufacturing Year Driven Kilometer   Fuels  \\\n",
       "0          KIA  SELTOS                2020         5,999 km  Petrol   \n",
       "1          KIA  SELTOS                2020         9,417 km  Petrol   \n",
       "2      Hyundai   Grand                2019        19,964 km  Petrol   \n",
       "3       Maruti    Alto                2011        12,030 km  Petrol   \n",
       "4      Hyundai   Grand                2019        20,969 km  Petrol   \n",
       "...        ...     ...                 ...              ...     ...   \n",
       "5501     HONDA   AMAZE                2019        20,700 KM  PETROL   \n",
       "5502    Maruti  Suzuki                2011        29,838 KM  PETROL   \n",
       "5503    Maruti  Suzuki                2018        58,200 KM     CNG   \n",
       "5504  Mahindra    Thar                2022         1,102 KM  PETROL   \n",
       "5505   Renault    Kwid                2019        25,519 KM  PETROL   \n",
       "\n",
       "     No. of Owner    Variant       Price  \n",
       "0       1st Owner       GTX+  ₹17,22,000  \n",
       "1       1st Owner        GTX  ₹16,81,000  \n",
       "2       1st Owner      MAGNA   ₹5,03,000  \n",
       "3       2nd Owner        LXI   ₹1,74,000  \n",
       "4       1st Owner      MAGNA   ₹5,28,000  \n",
       "...           ...        ...         ...  \n",
       "5501    1ST OWNER       1.2L   ₹6,50,000  \n",
       "5502    2ND OWNER  LXIManual   ₹1,69,000  \n",
       "5503    1ST OWNER        LXI   ₹4,28,000  \n",
       "5504    1ST OWNER         LX  ₹15,52,000  \n",
       "5505    2ND OWNER  RXLManual   ₹3,71,000  \n",
       "\n",
       "[5506 rows x 8 columns]"
      ]
     },
     "execution_count": 4,
     "metadata": {},
     "output_type": "execute_result"
    }
   ],
   "source": [
    "car"
   ]
  },
  {
   "cell_type": "code",
   "execution_count": 5,
   "id": "1aba7a30",
   "metadata": {},
   "outputs": [
    {
     "name": "stdout",
     "output_type": "stream",
     "text": [
      "Shape of Data : (5506, 8)\n"
     ]
    }
   ],
   "source": [
    "#Checking the shape of the dataset\n",
    "print('Shape of Data :',car.shape)"
   ]
  },
  {
   "cell_type": "code",
   "execution_count": 6,
   "id": "3b59d92f",
   "metadata": {},
   "outputs": [
    {
     "data": {
      "text/plain": [
       "Brand                   0\n",
       "Model                   0\n",
       "Manufacturing Year      0\n",
       "Driven Kilometer        0\n",
       "Fuels                   0\n",
       "No. of Owner            0\n",
       "Variant                 0\n",
       "Price                 732\n",
       "dtype: int64"
      ]
     },
     "execution_count": 6,
     "metadata": {},
     "output_type": "execute_result"
    }
   ],
   "source": [
    "#Checking the null values if any\n",
    "car.isnull().sum()"
   ]
  },
  {
   "cell_type": "markdown",
   "id": "f92be982",
   "metadata": {},
   "source": [
    "As we can that there are many null value present in our target column which isthe Price column we have to drop the null value to get the better accuracy of the Model"
   ]
  },
  {
   "cell_type": "code",
   "execution_count": 7,
   "id": "75cc560b",
   "metadata": {},
   "outputs": [
    {
     "data": {
      "text/plain": [
       "<AxesSubplot:>"
      ]
     },
     "execution_count": 7,
     "metadata": {},
     "output_type": "execute_result"
    },
    {
     "data": {
      "image/png": "[encoded data removed]",
      "text/plain": [
       "<Figure size 432x288 with 2 Axes>"
      ]
     },
     "metadata": {
      "needs_background": "light"
     },
     "output_type": "display_data"
    }
   ],
   "source": [
    "#plotting heatmap to show the null value present in each column.\n",
    "sns.heatmap(car.isnull())"
   ]
  },
  {
   "cell_type": "code",
   "execution_count": 8,
   "id": "87eff59d",
   "metadata": {},
   "outputs": [
    {
     "name": "stdout",
     "output_type": "stream",
     "text": [
      "<class 'pandas.core.frame.DataFrame'>\n",
      "RangeIndex: 5506 entries, 0 to 5505\n",
      "Data columns (total 8 columns):\n",
      " #   Column              Non-Null Count  Dtype \n",
      "---  ------              --------------  ----- \n",
      " 0   Brand               5506 non-null   object\n",
      " 1   Model               5506 non-null   object\n",
      " 2   Manufacturing Year  5506 non-null   int64 \n",
      " 3   Driven Kilometer    5506 non-null   object\n",
      " 4   Fuels               5506 non-null   object\n",
      " 5   No. of Owner        5506 non-null   object\n",
      " 6   Variant             5506 non-null   object\n",
      " 7   Price               4774 non-null   object\n",
      "dtypes: int64(1), object(7)\n",
      "memory usage: 344.2+ KB\n"
     ]
    }
   ],
   "source": [
    "#Checking the nature of DType\n",
    "car.info()"
   ]
  },
  {
   "cell_type": "code",
   "execution_count": 9,
   "id": "de6461c7",
   "metadata": {},
   "outputs": [],
   "source": [
    "#Price is an object data we have convert it into float  value."
   ]
  },
  {
   "cell_type": "code",
   "execution_count": 10,
   "id": "07c79e8d",
   "metadata": {},
   "outputs": [],
   "source": [
    "car['Price']=car['Price'].str.replace(',', '').str.replace('₹', '')"
   ]
  },
  {
   "cell_type": "code",
   "execution_count": 11,
   "id": "2e171e13",
   "metadata": {},
   "outputs": [],
   "source": [
    "car['Price'].fillna(0,inplace=True)"
   ]
  },
  {
   "cell_type": "code",
   "execution_count": 12,
   "id": "c167a3ae",
   "metadata": {},
   "outputs": [],
   "source": [
    "car['Price']=car['Price'].astype(float)"
   ]
  },
  {
   "cell_type": "code",
   "execution_count": 13,
   "id": "68e1588b",
   "metadata": {},
   "outputs": [],
   "source": [
    "#Driven Kilometer also have have some unnecessary value with it remove defaults space and KM and converting it into int value Dtype\n",
    "car['Driven Kilometer']=car['Driven Kilometer'].str.replace(',', '').str.replace('KM', '')\n"
   ]
  },
  {
   "cell_type": "code",
   "execution_count": 14,
   "id": "2948a798",
   "metadata": {},
   "outputs": [],
   "source": [
    "car['Driven Kilometer']=car['Driven Kilometer'].str.replace(',', '').str.replace('km', '')\n"
   ]
  },
  {
   "cell_type": "code",
   "execution_count": 15,
   "id": "70ad0dde",
   "metadata": {},
   "outputs": [],
   "source": [
    "car['Driven Kilometer']=car['Driven Kilometer'].astype(float)"
   ]
  },
  {
   "cell_type": "code",
   "execution_count": 16,
   "id": "56e6e77c",
   "metadata": {},
   "outputs": [
    {
     "data": {
      "text/html": [
       "<div>\n",
       "<style scoped>\n",
       "    .dataframe tbody tr th:only-of-type {\n",
       "        vertical-align: middle;\n",
       "    }\n",
       "\n",
       "    .dataframe tbody tr th {\n",
       "        vertical-align: top;\n",
       "    }\n",
       "\n",
       "    .dataframe thead th {\n",
       "        text-align: right;\n",
       "    }\n",
       "</style>\n",
       "<table border=\"1\" class=\"dataframe\">\n",
       "  <thead>\n",
       "    <tr style=\"text-align: right;\">\n",
       "      <th></th>\n",
       "      <th>Brand</th>\n",
       "      <th>Model</th>\n",
       "      <th>Manufacturing Year</th>\n",
       "      <th>Driven Kilometer</th>\n",
       "      <th>Fuels</th>\n",
       "      <th>No. of Owner</th>\n",
       "      <th>Variant</th>\n",
       "      <th>Price</th>\n",
       "      <th>log_Price</th>\n",
       "    </tr>\n",
       "  </thead>\n",
       "  <tbody>\n",
       "    <tr>\n",
       "      <th>0</th>\n",
       "      <td>KIA</td>\n",
       "      <td>SELTOS</td>\n",
       "      <td>2020</td>\n",
       "      <td>5999.0</td>\n",
       "      <td>Petrol</td>\n",
       "      <td>1st Owner</td>\n",
       "      <td>GTX+</td>\n",
       "      <td>1722000.0</td>\n",
       "      <td>14.358997</td>\n",
       "    </tr>\n",
       "    <tr>\n",
       "      <th>1</th>\n",
       "      <td>KIA</td>\n",
       "      <td>SELTOS</td>\n",
       "      <td>2020</td>\n",
       "      <td>9417.0</td>\n",
       "      <td>Petrol</td>\n",
       "      <td>1st Owner</td>\n",
       "      <td>GTX</td>\n",
       "      <td>1681000.0</td>\n",
       "      <td>14.334899</td>\n",
       "    </tr>\n",
       "    <tr>\n",
       "      <th>2</th>\n",
       "      <td>Hyundai</td>\n",
       "      <td>Grand</td>\n",
       "      <td>2019</td>\n",
       "      <td>19964.0</td>\n",
       "      <td>Petrol</td>\n",
       "      <td>1st Owner</td>\n",
       "      <td>MAGNA</td>\n",
       "      <td>503000.0</td>\n",
       "      <td>13.128345</td>\n",
       "    </tr>\n",
       "    <tr>\n",
       "      <th>3</th>\n",
       "      <td>Maruti</td>\n",
       "      <td>Alto</td>\n",
       "      <td>2011</td>\n",
       "      <td>12030.0</td>\n",
       "      <td>Petrol</td>\n",
       "      <td>2nd Owner</td>\n",
       "      <td>LXI</td>\n",
       "      <td>174000.0</td>\n",
       "      <td>12.066811</td>\n",
       "    </tr>\n",
       "    <tr>\n",
       "      <th>4</th>\n",
       "      <td>Hyundai</td>\n",
       "      <td>Grand</td>\n",
       "      <td>2019</td>\n",
       "      <td>20969.0</td>\n",
       "      <td>Petrol</td>\n",
       "      <td>1st Owner</td>\n",
       "      <td>MAGNA</td>\n",
       "      <td>528000.0</td>\n",
       "      <td>13.176852</td>\n",
       "    </tr>\n",
       "  </tbody>\n",
       "</table>\n",
       "</div>"
      ],
      "text/plain": [
       "     Brand   Model  Manufacturing Year  Driven Kilometer   Fuels No. of Owner  \\\n",
       "0      KIA  SELTOS                2020            5999.0  Petrol    1st Owner   \n",
       "1      KIA  SELTOS                2020            9417.0  Petrol    1st Owner   \n",
       "2  Hyundai   Grand                2019           19964.0  Petrol    1st Owner   \n",
       "3   Maruti    Alto                2011           12030.0  Petrol    2nd Owner   \n",
       "4  Hyundai   Grand                2019           20969.0  Petrol    1st Owner   \n",
       "\n",
       "  Variant      Price  log_Price  \n",
       "0    GTX+  1722000.0  14.358997  \n",
       "1     GTX  1681000.0  14.334899  \n",
       "2   MAGNA   503000.0  13.128345  \n",
       "3     LXI   174000.0  12.066811  \n",
       "4   MAGNA   528000.0  13.176852  "
      ]
     },
     "execution_count": 16,
     "metadata": {},
     "output_type": "execute_result"
    }
   ],
   "source": [
    "# transforming 'Price' with a log transformation to reduce the effect of extreme Value improve model accuracy\n",
    "log_price = np.log(car['Price'])\n",
    "\n",
    "# Then we add it to our data frame\n",
    "car['log_Price'] = log_price\n",
    "car.head()"
   ]
  },
  {
   "cell_type": "code",
   "execution_count": 17,
   "id": "7d00c97a",
   "metadata": {},
   "outputs": [
    {
     "data": {
      "text/plain": [
       "0        5999.0\n",
       "1        9417.0\n",
       "2       19964.0\n",
       "3       12030.0\n",
       "4       20969.0\n",
       "         ...   \n",
       "5501    20700.0\n",
       "5502    29838.0\n",
       "5503    58200.0\n",
       "5504     1102.0\n",
       "5505    25519.0\n",
       "Name: Driven Kilometer, Length: 5506, dtype: float64"
      ]
     },
     "execution_count": 17,
     "metadata": {},
     "output_type": "execute_result"
    }
   ],
   "source": [
    "car['Driven Kilometer']"
   ]
  },
  {
   "cell_type": "code",
   "execution_count": 18,
   "id": "2a53b158",
   "metadata": {},
   "outputs": [
    {
     "name": "stdout",
     "output_type": "stream",
     "text": [
      "0       petrol\n",
      "1       petrol\n",
      "2       petrol\n",
      "3       petrol\n",
      "4       petrol\n",
      "         ...  \n",
      "5501    petrol\n",
      "5502    petrol\n",
      "5503       cng\n",
      "5504    petrol\n",
      "5505    petrol\n",
      "Name: Fuels, Length: 5506, dtype: object\n"
     ]
    }
   ],
   "source": [
    "#Changing data to lower case as it will show two diffrent data.  \n",
    "car['Fuels']=[x.lower() for x in car['Fuels']]\n",
    "print(car['Fuels'])"
   ]
  },
  {
   "cell_type": "code",
   "execution_count": 19,
   "id": "df3e1b59",
   "metadata": {},
   "outputs": [
    {
     "name": "stdout",
     "output_type": "stream",
     "text": [
      "0       1st owner\n",
      "1       1st owner\n",
      "2       1st owner\n",
      "3       2nd owner\n",
      "4       1st owner\n",
      "          ...    \n",
      "5501    1st owner\n",
      "5502    2nd owner\n",
      "5503    1st owner\n",
      "5504    1st owner\n",
      "5505    2nd owner\n",
      "Name: No. of Owner, Length: 5506, dtype: object\n"
     ]
    }
   ],
   "source": [
    "#Changing data to lower case as it will show two diffrent data.  \n",
    "car['No. of Owner']=[x.lower() for x in car['No. of Owner']]\n",
    "print(car['No. of Owner'])"
   ]
  },
  {
   "cell_type": "code",
   "execution_count": 20,
   "id": "378d095d",
   "metadata": {},
   "outputs": [
    {
     "name": "stdout",
     "output_type": "stream",
     "text": [
      "0            kia\n",
      "1            kia\n",
      "2        hyundai\n",
      "3         maruti\n",
      "4        hyundai\n",
      "          ...   \n",
      "5501       honda\n",
      "5502      maruti\n",
      "5503      maruti\n",
      "5504    mahindra\n",
      "5505     renault\n",
      "Name: Brand, Length: 5506, dtype: object\n"
     ]
    }
   ],
   "source": [
    "#Changing data to lower case as it will show two diffrent data.  \n",
    "car['Brand']=[x.lower() for x in car['Brand']]\n",
    "print(car['Brand'])"
   ]
  },
  {
   "cell_type": "code",
   "execution_count": 21,
   "id": "3be870a1",
   "metadata": {},
   "outputs": [
    {
     "data": {
      "text/plain": [
       "<AxesSubplot:>"
      ]
     },
     "execution_count": 21,
     "metadata": {},
     "output_type": "execute_result"
    },
    {
     "data": {
      "image/png": "[encoded data removed]",
      "text/plain": [
       "<Figure size 432x288 with 2 Axes>"
      ]
     },
     "metadata": {
      "needs_background": "light"
     },
     "output_type": "display_data"
    }
   ],
   "source": [
    "sns.heatmap(car.isnull())"
   ]
  },
  {
   "cell_type": "markdown",
   "id": "9ff2eac1",
   "metadata": {},
   "source": [
    "**Feature Extraction**"
   ]
  },
  {
   "cell_type": "code",
   "execution_count": 22,
   "id": "9ba831f1",
   "metadata": {},
   "outputs": [],
   "source": [
    " #Calculating  the actual Age of the car.\n",
    "\n",
    "car[\"Age\"]=2023-car[\"Manufacturing Year\"]"
   ]
  },
  {
   "cell_type": "code",
   "execution_count": 23,
   "id": "084350bb",
   "metadata": {},
   "outputs": [],
   "source": [
    "car.drop(['Manufacturing Year'],axis=1,inplace=True) #Dropping the Manufacture_Year  it serves no purpose now"
   ]
  },
  {
   "cell_type": "code",
   "execution_count": 24,
   "id": "0d74f16e",
   "metadata": {},
   "outputs": [],
   "source": [
    "car.drop(['Variant'],axis=1,inplace=True)"
   ]
  },
  {
   "cell_type": "markdown",
   "id": "39934394",
   "metadata": {},
   "source": [
    "#    Data Exploration & Visualization"
   ]
  },
  {
   "cell_type": "markdown",
   "id": "7d7368ac",
   "metadata": {},
   "source": [
    "**Checking no of max unique value of  in each columns through Barplot**"
   ]
  },
  {
   "cell_type": "code",
   "execution_count": 25,
   "id": "06ac8e19",
   "metadata": {},
   "outputs": [
    {
     "name": "stdout",
     "output_type": "stream",
     "text": [
      "Categorical variables:\n",
      "['Brand', 'Model', 'Fuels', 'No. of Owner']\n"
     ]
    }
   ],
   "source": [
    "#keeping  all the categorical variables in object_cols\n",
    "s = (car.dtypes == 'object')\n",
    "object_cols = list(s[s].index)\n",
    "print(\"Categorical variables:\")\n",
    "print(object_cols)"
   ]
  },
  {
   "cell_type": "code",
   "execution_count": 26,
   "id": "f4eed317",
   "metadata": {},
   "outputs": [
    {
     "data": {
      "text/plain": [
       "<AxesSubplot:title={'center':'Number Of Unique value of the categorical Features'}>"
      ]
     },
     "execution_count": 26,
     "metadata": {},
     "output_type": "execute_result"
    },
    {
     "data": {
      "image/png": "[encoded data removed]",
      "text/plain": [
       "<Figure size 864x576 with 1 Axes>"
      ]
     },
     "metadata": {
      "needs_background": "light"
     },
     "output_type": "display_data"
    }
   ],
   "source": [
    "# Creating barplot to visualize which colum has high no. of unque value count of categorical feature.\n",
    "unique_val=[]\n",
    "for col in object_cols:\n",
    "    unique_val.append (car[col].unique().size)\n",
    "plt.figure(figsize=(12,8))\n",
    "plt.title('Number Of Unique value of the categorical Features')\n",
    "plt.xticks(rotation=90)\n",
    "sns.barplot(x=object_cols,y=unique_val)"
   ]
  },
  {
   "cell_type": "markdown",
   "id": "43e62cb4",
   "metadata": {},
   "source": [
    "observation :As from the above result driven Variant  has the high no of Unique value followed by Model brand has 31 unique value."
   ]
  },
  {
   "cell_type": "code",
   "execution_count": 27,
   "id": "988153ef",
   "metadata": {},
   "outputs": [
    {
     "data": {
      "image/png": "[encoded data removed]",
      "text/plain": [
       "<Figure size 1296x2592 with 4 Axes>"
      ]
     },
     "metadata": {
      "needs_background": "light"
     },
     "output_type": "display_data"
    }
   ],
   "source": [
    "# Visulaizing the value counts in each of the columns. \n",
    "plt.figure(figsize=(18,36))\n",
    "plt.title('Categorical Features: Distribution')\n",
    "plt.xticks(rotation=90)\n",
    "index=1\n",
    "for col in object_cols:\n",
    "    y= car[col].value_counts()\n",
    "    plt.subplot(11,3,index)\n",
    "    plt.xticks(rotation=90)\n",
    "    sns.barplot(x=list(y.index),y=y)\n",
    "    index+=1"
   ]
  },
  {
   "cell_type": "code",
   "execution_count": 28,
   "id": "507fd47a",
   "metadata": {},
   "outputs": [
    {
     "data": {
      "image/png": "[encoded data removed]",
      "text/plain": [
       "<Figure size 432x288 with 1 Axes>"
      ]
     },
     "metadata": {
      "needs_background": "light"
     },
     "output_type": "display_data"
    }
   ],
   "source": [
    "# Creating a histogram of the \"Price\" column\n",
    "car[\"Price\"].plot.hist(bins=20, edgecolor='black', alpha=0.7)\n",
    "\n",
    "# Adding labels and titles to the plot\n",
    "plt.xlabel(\"Price (In lakh)\")\n",
    "plt.ylabel(\"Frequency\")\n",
    "plt.title(\"Histogram of Prices\")\n",
    "\n",
    "# Showing the plot\n",
    "plt.show()"
   ]
  },
  {
   "cell_type": "markdown",
   "id": "28623eeb",
   "metadata": {},
   "source": [
    "observation: from above observation  we can see that frequency is high in price between 1 to 9 lakh and after that sudden decrease."
   ]
  },
  {
   "cell_type": "code",
   "execution_count": 29,
   "id": "455f8bec",
   "metadata": {},
   "outputs": [
    {
     "data": {
      "image/png": "[encoded data removed]",
      "text/plain": [
       "<Figure size 1080x360 with 1 Axes>"
      ]
     },
     "metadata": {
      "needs_background": "light"
     },
     "output_type": "display_data"
    }
   ],
   "source": [
    "plt.figure(figsize=[15,5])\n",
    "plt.subplot(1,3,3)\n",
    "sns.barplot(car['Fuels'],car['Price'])\n",
    "plt.title('Selling Price Vs Fuel Type')\n",
    "\n",
    "plt.show()"
   ]
  },
  {
   "cell_type": "markdown",
   "id": "da1b9ebd",
   "metadata": {},
   "source": [
    "Diesel vechile price is higher than that of petrol and CNG , hybrid is hitting the lower circuit."
   ]
  },
  {
   "cell_type": "code",
   "execution_count": 30,
   "id": "34e64b3b",
   "metadata": {},
   "outputs": [
    {
     "data": {
      "image/png": "[encoded data removed]",
      "text/plain": [
       "<Figure size 3600x360 with 1 Axes>"
      ]
     },
     "metadata": {
      "needs_background": "light"
     },
     "output_type": "display_data"
    }
   ],
   "source": [
    "plt.figure(figsize=[50,5])\n",
    "\n",
    "plt.subplot(1,3,1)\n",
    "sns.barplot(car['Brand'], car['Price'])\n",
    "plt.title('Price Vs Brand')\n",
    "plt.xticks(rotation=90)\n",
    "plt.show()"
   ]
  },
  {
   "cell_type": "markdown",
   "id": "7744048e",
   "metadata": {},
   "source": [
    "Jeep has the highest Price followed by Audi & Mercedes. As we are moving to luxury car Brands there been seen in the increase of the Price. "
   ]
  },
  {
   "cell_type": "code",
   "execution_count": 31,
   "id": "f236cce6",
   "metadata": {},
   "outputs": [
    {
     "data": {
      "image/png": "[encoded data removed]",
      "text/plain": [
       "<Figure size 720x360 with 1 Axes>"
      ]
     },
     "metadata": {
      "needs_background": "light"
     },
     "output_type": "display_data"
    }
   ],
   "source": [
    "plt.figure(figsize=[10,5])\n",
    "plt.subplot(1,3,2)\n",
    "sns.barplot(car['No. of Owner'],car['Price'])\n",
    "plt.title('Price Vs No. of Owner')\n",
    "plt.show()"
   ]
  },
  {
   "cell_type": "markdown",
   "id": "6900763a",
   "metadata": {},
   "source": [
    "1st owner car Price is higher to that of the 2nd and 3rd owner"
   ]
  },
  {
   "cell_type": "code",
   "execution_count": 32,
   "id": "1465cec7",
   "metadata": {},
   "outputs": [
    {
     "data": {
      "image/png": "[encoded data removed]",
      "text/plain": [
       "<Figure size 432x288 with 1 Axes>"
      ]
     },
     "metadata": {
      "needs_background": "light"
     },
     "output_type": "display_data"
    }
   ],
   "source": [
    "# Creating a scatter plot\n",
    "plt.scatter(car['Driven Kilometer'],car['Price'])\n",
    "\n",
    "# Adding labels and title to the plot\n",
    "plt.xlabel('Driven Kilometer')\n",
    "plt.ylabel('Price')\n",
    "plt.title('Price vs Driven Kilometers')\n",
    "\n",
    "# Show the plot\n",
    "plt.show()"
   ]
  },
  {
   "cell_type": "markdown",
   "id": "0fda6ca9",
   "metadata": {},
   "source": [
    "As the no of kilometers increases  Price of vechile decreasing."
   ]
  },
  {
   "cell_type": "code",
   "execution_count": 33,
   "id": "fa072da1",
   "metadata": {},
   "outputs": [
    {
     "data": {
      "text/plain": [
       "<AxesSubplot:title={'center':'Price and Year'}, xlabel='Age', ylabel='Price'>"
      ]
     },
     "execution_count": 33,
     "metadata": {},
     "output_type": "execute_result"
    },
    {
     "data": {
      "image/png": "[encoded data removed]",
      "text/plain": [
       "<Figure size 1440x504 with 1 Axes>"
      ]
     },
     "metadata": {
      "needs_background": "light"
     },
     "output_type": "display_data"
    }
   ],
   "source": [
    "plt.figure(figsize=[20,7])\n",
    "plt.subplot(1,3,1)\n",
    "plt.title(\"Price and Year\")\n",
    "sns.scatterplot(x='Age',y='Price',data=car)"
   ]
  },
  {
   "cell_type": "markdown",
   "id": "6cb76947",
   "metadata": {},
   "source": [
    "Observation : Age determines the Price of the car if it increasing Price decresing."
   ]
  },
  {
   "cell_type": "code",
   "execution_count": 34,
   "id": "c686d6ee",
   "metadata": {},
   "outputs": [
    {
     "data": {
      "image/png": "[encoded data removed]",
      "text/plain": [
       "<Figure size 720x720 with 2 Axes>"
      ]
     },
     "metadata": {
      "needs_background": "light"
     },
     "output_type": "display_data"
    }
   ],
   "source": [
    "# Finds correlation between Independent and dependent attributes\n",
    "\n",
    "plt.figure(figsize = (10,10))\n",
    "sns.heatmap(car.corr(), annot = True,)\n",
    "\n",
    "plt.show()"
   ]
  },
  {
   "cell_type": "markdown",
   "id": "0a3eecae",
   "metadata": {},
   "source": [
    "We consider a relation between Age and Driven kilometer"
   ]
  },
  {
   "cell_type": "code",
   "execution_count": 35,
   "id": "ecd0d920",
   "metadata": {},
   "outputs": [],
   "source": [
    "# Computing the number of unique models for each brand\n",
    "brand_model_counts = car.groupby(\"Brand\")[\"Model\"].nunique()\n",
    "\n",
    "# Creating a dictionary that maps each brand to a model category\n",
    "model_categories = {\n",
    "    Brand: \"many_models\" if count > brand_model_counts.mean() else \"few_models\"\n",
    "    for Brand, count in brand_model_counts.items()\n",
    "}\n",
    "\n",
    "# Creating a new column that summarizes the number of models for each brand\n",
    "car[\"brand_model_category\"] = car[\"Brand\"].map(model_categories)\n",
    "\n",
    "# Use get_dummies to one-hot encode the brand_model_category column\n",
    "car = pd.get_dummies(car, columns=[\"brand_model_category\"])\n",
    "\n",
    "# Droping the original model column\n",
    "car = car.drop(\"Model\", axis=1)\n",
    "\n",
    "\n"
   ]
  },
  {
   "cell_type": "code",
   "execution_count": 36,
   "id": "78095035",
   "metadata": {},
   "outputs": [
    {
     "name": "stdout",
     "output_type": "stream",
     "text": [
      "The correlation between Brand_audi and Price is: 0.049\n",
      "The correlation between Brand_datsun and Price is: -0.035\n",
      "The correlation between Brand_fiat and Price is: 0.007\n",
      "The correlation between Brand_ford and Price is: 0.027\n",
      "The correlation between Brand_honda and Price is: 0.030\n",
      "The correlation between Brand_hyundai and Price is: -0.035\n",
      "The correlation between Brand_jeep and Price is: 0.078\n",
      "The correlation between Brand_kia and Price is: 0.068\n",
      "The correlation between Brand_mahindra and Price is: 0.077\n",
      "The correlation between Brand_maruti and Price is: -0.073\n",
      "The correlation between Brand_mercedes and Price is: 0.016\n",
      "The correlation between Brand_mg and Price is: 0.049\n",
      "The correlation between Brand_nissan and Price is: 0.010\n",
      "The correlation between Brand_renault and Price is: -0.079\n",
      "The correlation between Brand_skoda and Price is: 0.020\n",
      "The correlation between Brand_tata and Price is: 0.068\n",
      "The correlation between Brand_toyota and Price is: 0.056\n",
      "The correlation between Brand_volkswagen and Price is: -0.003\n"
     ]
    }
   ],
   "source": [
    "# Encode the Brand column as dummies\n",
    "dummies = pd.get_dummies(car['Brand'], prefix='Brand')\n",
    "car = pd.concat([car, dummies], axis=1)\n",
    "\n",
    "# Calculate the correlation between the dummy variables and the Price column\n",
    "correlations = []\n",
    "for col in dummies.columns:\n",
    "    correlation = car[col].corr(car['Price'])\n",
    "    correlations.append((col, correlation))\n",
    "\n",
    "# Print the correlation values\n",
    "for col, corr in correlations:\n",
    "    print(\"The correlation between {} and Price is: {:.3f}\".format(col, corr))"
   ]
  },
  {
   "cell_type": "code",
   "execution_count": 37,
   "id": "e0c25afd",
   "metadata": {},
   "outputs": [],
   "source": [
    "car.drop(['Brand'],axis=1,inplace=True)\n"
   ]
  },
  {
   "cell_type": "code",
   "execution_count": 38,
   "id": "60cc1b5a",
   "metadata": {},
   "outputs": [],
   "source": [
    "car.drop(['log_Price'],axis=1,inplace=True)"
   ]
  },
  {
   "cell_type": "code",
   "execution_count": 39,
   "id": "e8d4c0cf",
   "metadata": {},
   "outputs": [],
   "source": [
    "#using Onehotencorder \n",
    "car= pd.get_dummies(car, columns=[\"Fuels\"])"
   ]
  },
  {
   "cell_type": "code",
   "execution_count": 40,
   "id": "2d176cfe",
   "metadata": {},
   "outputs": [],
   "source": [
    "car= pd.get_dummies(car,columns=['No. of Owner'])"
   ]
  },
  {
   "cell_type": "code",
   "execution_count": 41,
   "id": "8d912420",
   "metadata": {},
   "outputs": [
    {
     "data": {
      "text/plain": [
       "(5506, 30)"
      ]
     },
     "execution_count": 41,
     "metadata": {},
     "output_type": "execute_result"
    }
   ],
   "source": [
    "car.shape #checking the shape of the data "
   ]
  },
  {
   "cell_type": "code",
   "execution_count": 42,
   "id": "34d2277a",
   "metadata": {},
   "outputs": [],
   "source": [
    "df=car"
   ]
  },
  {
   "cell_type": "code",
   "execution_count": 43,
   "id": "73e603dc",
   "metadata": {},
   "outputs": [
    {
     "data": {
      "text/html": [
       "<div>\n",
       "<style scoped>\n",
       "    .dataframe tbody tr th:only-of-type {\n",
       "        vertical-align: middle;\n",
       "    }\n",
       "\n",
       "    .dataframe tbody tr th {\n",
       "        vertical-align: top;\n",
       "    }\n",
       "\n",
       "    .dataframe thead th {\n",
       "        text-align: right;\n",
       "    }\n",
       "</style>\n",
       "<table border=\"1\" class=\"dataframe\">\n",
       "  <thead>\n",
       "    <tr style=\"text-align: right;\">\n",
       "      <th></th>\n",
       "      <th>Driven Kilometer</th>\n",
       "      <th>Price</th>\n",
       "      <th>Age</th>\n",
       "      <th>brand_model_category_few_models</th>\n",
       "      <th>brand_model_category_many_models</th>\n",
       "      <th>Brand_audi</th>\n",
       "      <th>Brand_datsun</th>\n",
       "      <th>Brand_fiat</th>\n",
       "      <th>Brand_ford</th>\n",
       "      <th>Brand_honda</th>\n",
       "      <th>...</th>\n",
       "      <th>Brand_tata</th>\n",
       "      <th>Brand_toyota</th>\n",
       "      <th>Brand_volkswagen</th>\n",
       "      <th>Fuels_cng</th>\n",
       "      <th>Fuels_diesel</th>\n",
       "      <th>Fuels_hybrid</th>\n",
       "      <th>Fuels_petrol</th>\n",
       "      <th>No. of Owner_1st owner</th>\n",
       "      <th>No. of Owner_2nd owner</th>\n",
       "      <th>No. of Owner_3rd owner</th>\n",
       "    </tr>\n",
       "  </thead>\n",
       "  <tbody>\n",
       "    <tr>\n",
       "      <th>0</th>\n",
       "      <td>5999.0</td>\n",
       "      <td>1722000.0</td>\n",
       "      <td>3</td>\n",
       "      <td>1</td>\n",
       "      <td>0</td>\n",
       "      <td>0</td>\n",
       "      <td>0</td>\n",
       "      <td>0</td>\n",
       "      <td>0</td>\n",
       "      <td>0</td>\n",
       "      <td>...</td>\n",
       "      <td>0</td>\n",
       "      <td>0</td>\n",
       "      <td>0</td>\n",
       "      <td>0</td>\n",
       "      <td>0</td>\n",
       "      <td>0</td>\n",
       "      <td>1</td>\n",
       "      <td>1</td>\n",
       "      <td>0</td>\n",
       "      <td>0</td>\n",
       "    </tr>\n",
       "    <tr>\n",
       "      <th>1</th>\n",
       "      <td>9417.0</td>\n",
       "      <td>1681000.0</td>\n",
       "      <td>3</td>\n",
       "      <td>1</td>\n",
       "      <td>0</td>\n",
       "      <td>0</td>\n",
       "      <td>0</td>\n",
       "      <td>0</td>\n",
       "      <td>0</td>\n",
       "      <td>0</td>\n",
       "      <td>...</td>\n",
       "      <td>0</td>\n",
       "      <td>0</td>\n",
       "      <td>0</td>\n",
       "      <td>0</td>\n",
       "      <td>0</td>\n",
       "      <td>0</td>\n",
       "      <td>1</td>\n",
       "      <td>1</td>\n",
       "      <td>0</td>\n",
       "      <td>0</td>\n",
       "    </tr>\n",
       "    <tr>\n",
       "      <th>2</th>\n",
       "      <td>19964.0</td>\n",
       "      <td>503000.0</td>\n",
       "      <td>4</td>\n",
       "      <td>0</td>\n",
       "      <td>1</td>\n",
       "      <td>0</td>\n",
       "      <td>0</td>\n",
       "      <td>0</td>\n",
       "      <td>0</td>\n",
       "      <td>0</td>\n",
       "      <td>...</td>\n",
       "      <td>0</td>\n",
       "      <td>0</td>\n",
       "      <td>0</td>\n",
       "      <td>0</td>\n",
       "      <td>0</td>\n",
       "      <td>0</td>\n",
       "      <td>1</td>\n",
       "      <td>1</td>\n",
       "      <td>0</td>\n",
       "      <td>0</td>\n",
       "    </tr>\n",
       "    <tr>\n",
       "      <th>3</th>\n",
       "      <td>12030.0</td>\n",
       "      <td>174000.0</td>\n",
       "      <td>12</td>\n",
       "      <td>0</td>\n",
       "      <td>1</td>\n",
       "      <td>0</td>\n",
       "      <td>0</td>\n",
       "      <td>0</td>\n",
       "      <td>0</td>\n",
       "      <td>0</td>\n",
       "      <td>...</td>\n",
       "      <td>0</td>\n",
       "      <td>0</td>\n",
       "      <td>0</td>\n",
       "      <td>0</td>\n",
       "      <td>0</td>\n",
       "      <td>0</td>\n",
       "      <td>1</td>\n",
       "      <td>0</td>\n",
       "      <td>1</td>\n",
       "      <td>0</td>\n",
       "    </tr>\n",
       "    <tr>\n",
       "      <th>4</th>\n",
       "      <td>20969.0</td>\n",
       "      <td>528000.0</td>\n",
       "      <td>4</td>\n",
       "      <td>0</td>\n",
       "      <td>1</td>\n",
       "      <td>0</td>\n",
       "      <td>0</td>\n",
       "      <td>0</td>\n",
       "      <td>0</td>\n",
       "      <td>0</td>\n",
       "      <td>...</td>\n",
       "      <td>0</td>\n",
       "      <td>0</td>\n",
       "      <td>0</td>\n",
       "      <td>0</td>\n",
       "      <td>0</td>\n",
       "      <td>0</td>\n",
       "      <td>1</td>\n",
       "      <td>1</td>\n",
       "      <td>0</td>\n",
       "      <td>0</td>\n",
       "    </tr>\n",
       "    <tr>\n",
       "      <th>...</th>\n",
       "      <td>...</td>\n",
       "      <td>...</td>\n",
       "      <td>...</td>\n",
       "      <td>...</td>\n",
       "      <td>...</td>\n",
       "      <td>...</td>\n",
       "      <td>...</td>\n",
       "      <td>...</td>\n",
       "      <td>...</td>\n",
       "      <td>...</td>\n",
       "      <td>...</td>\n",
       "      <td>...</td>\n",
       "      <td>...</td>\n",
       "      <td>...</td>\n",
       "      <td>...</td>\n",
       "      <td>...</td>\n",
       "      <td>...</td>\n",
       "      <td>...</td>\n",
       "      <td>...</td>\n",
       "      <td>...</td>\n",
       "      <td>...</td>\n",
       "    </tr>\n",
       "    <tr>\n",
       "      <th>5501</th>\n",
       "      <td>20700.0</td>\n",
       "      <td>650000.0</td>\n",
       "      <td>4</td>\n",
       "      <td>0</td>\n",
       "      <td>1</td>\n",
       "      <td>0</td>\n",
       "      <td>0</td>\n",
       "      <td>0</td>\n",
       "      <td>0</td>\n",
       "      <td>1</td>\n",
       "      <td>...</td>\n",
       "      <td>0</td>\n",
       "      <td>0</td>\n",
       "      <td>0</td>\n",
       "      <td>0</td>\n",
       "      <td>0</td>\n",
       "      <td>0</td>\n",
       "      <td>1</td>\n",
       "      <td>1</td>\n",
       "      <td>0</td>\n",
       "      <td>0</td>\n",
       "    </tr>\n",
       "    <tr>\n",
       "      <th>5502</th>\n",
       "      <td>29838.0</td>\n",
       "      <td>169000.0</td>\n",
       "      <td>12</td>\n",
       "      <td>0</td>\n",
       "      <td>1</td>\n",
       "      <td>0</td>\n",
       "      <td>0</td>\n",
       "      <td>0</td>\n",
       "      <td>0</td>\n",
       "      <td>0</td>\n",
       "      <td>...</td>\n",
       "      <td>0</td>\n",
       "      <td>0</td>\n",
       "      <td>0</td>\n",
       "      <td>0</td>\n",
       "      <td>0</td>\n",
       "      <td>0</td>\n",
       "      <td>1</td>\n",
       "      <td>0</td>\n",
       "      <td>1</td>\n",
       "      <td>0</td>\n",
       "    </tr>\n",
       "    <tr>\n",
       "      <th>5503</th>\n",
       "      <td>58200.0</td>\n",
       "      <td>428000.0</td>\n",
       "      <td>5</td>\n",
       "      <td>0</td>\n",
       "      <td>1</td>\n",
       "      <td>0</td>\n",
       "      <td>0</td>\n",
       "      <td>0</td>\n",
       "      <td>0</td>\n",
       "      <td>0</td>\n",
       "      <td>...</td>\n",
       "      <td>0</td>\n",
       "      <td>0</td>\n",
       "      <td>0</td>\n",
       "      <td>1</td>\n",
       "      <td>0</td>\n",
       "      <td>0</td>\n",
       "      <td>0</td>\n",
       "      <td>1</td>\n",
       "      <td>0</td>\n",
       "      <td>0</td>\n",
       "    </tr>\n",
       "    <tr>\n",
       "      <th>5504</th>\n",
       "      <td>1102.0</td>\n",
       "      <td>1552000.0</td>\n",
       "      <td>1</td>\n",
       "      <td>0</td>\n",
       "      <td>1</td>\n",
       "      <td>0</td>\n",
       "      <td>0</td>\n",
       "      <td>0</td>\n",
       "      <td>0</td>\n",
       "      <td>0</td>\n",
       "      <td>...</td>\n",
       "      <td>0</td>\n",
       "      <td>0</td>\n",
       "      <td>0</td>\n",
       "      <td>0</td>\n",
       "      <td>0</td>\n",
       "      <td>0</td>\n",
       "      <td>1</td>\n",
       "      <td>1</td>\n",
       "      <td>0</td>\n",
       "      <td>0</td>\n",
       "    </tr>\n",
       "    <tr>\n",
       "      <th>5505</th>\n",
       "      <td>25519.0</td>\n",
       "      <td>371000.0</td>\n",
       "      <td>4</td>\n",
       "      <td>0</td>\n",
       "      <td>1</td>\n",
       "      <td>0</td>\n",
       "      <td>0</td>\n",
       "      <td>0</td>\n",
       "      <td>0</td>\n",
       "      <td>0</td>\n",
       "      <td>...</td>\n",
       "      <td>0</td>\n",
       "      <td>0</td>\n",
       "      <td>0</td>\n",
       "      <td>0</td>\n",
       "      <td>0</td>\n",
       "      <td>0</td>\n",
       "      <td>1</td>\n",
       "      <td>0</td>\n",
       "      <td>1</td>\n",
       "      <td>0</td>\n",
       "    </tr>\n",
       "  </tbody>\n",
       "</table>\n",
       "<p>5506 rows × 30 columns</p>\n",
       "</div>"
      ],
      "text/plain": [
       "      Driven Kilometer      Price  Age  brand_model_category_few_models  \\\n",
       "0               5999.0  1722000.0    3                                1   \n",
       "1               9417.0  1681000.0    3                                1   \n",
       "2              19964.0   503000.0    4                                0   \n",
       "3              12030.0   174000.0   12                                0   \n",
       "4              20969.0   528000.0    4                                0   \n",
       "...                ...        ...  ...                              ...   \n",
       "5501           20700.0   650000.0    4                                0   \n",
       "5502           29838.0   169000.0   12                                0   \n",
       "5503           58200.0   428000.0    5                                0   \n",
       "5504            1102.0  1552000.0    1                                0   \n",
       "5505           25519.0   371000.0    4                                0   \n",
       "\n",
       "      brand_model_category_many_models  Brand_audi  Brand_datsun  Brand_fiat  \\\n",
       "0                                    0           0             0           0   \n",
       "1                                    0           0             0           0   \n",
       "2                                    1           0             0           0   \n",
       "3                                    1           0             0           0   \n",
       "4                                    1           0             0           0   \n",
       "...                                ...         ...           ...         ...   \n",
       "5501                                 1           0             0           0   \n",
       "5502                                 1           0             0           0   \n",
       "5503                                 1           0             0           0   \n",
       "5504                                 1           0             0           0   \n",
       "5505                                 1           0             0           0   \n",
       "\n",
       "      Brand_ford  Brand_honda  ...  Brand_tata  Brand_toyota  \\\n",
       "0              0            0  ...           0             0   \n",
       "1              0            0  ...           0             0   \n",
       "2              0            0  ...           0             0   \n",
       "3              0            0  ...           0             0   \n",
       "4              0            0  ...           0             0   \n",
       "...          ...          ...  ...         ...           ...   \n",
       "5501           0            1  ...           0             0   \n",
       "5502           0            0  ...           0             0   \n",
       "5503           0            0  ...           0             0   \n",
       "5504           0            0  ...           0             0   \n",
       "5505           0            0  ...           0             0   \n",
       "\n",
       "      Brand_volkswagen  Fuels_cng  Fuels_diesel  Fuels_hybrid  Fuels_petrol  \\\n",
       "0                    0          0             0             0             1   \n",
       "1                    0          0             0             0             1   \n",
       "2                    0          0             0             0             1   \n",
       "3                    0          0             0             0             1   \n",
       "4                    0          0             0             0             1   \n",
       "...                ...        ...           ...           ...           ...   \n",
       "5501                 0          0             0             0             1   \n",
       "5502                 0          0             0             0             1   \n",
       "5503                 0          1             0             0             0   \n",
       "5504                 0          0             0             0             1   \n",
       "5505                 0          0             0             0             1   \n",
       "\n",
       "      No. of Owner_1st owner  No. of Owner_2nd owner  No. of Owner_3rd owner  \n",
       "0                          1                       0                       0  \n",
       "1                          1                       0                       0  \n",
       "2                          1                       0                       0  \n",
       "3                          0                       1                       0  \n",
       "4                          1                       0                       0  \n",
       "...                      ...                     ...                     ...  \n",
       "5501                       1                       0                       0  \n",
       "5502                       0                       1                       0  \n",
       "5503                       1                       0                       0  \n",
       "5504                       1                       0                       0  \n",
       "5505                       0                       1                       0  \n",
       "\n",
       "[5506 rows x 30 columns]"
      ]
     },
     "execution_count": 43,
     "metadata": {},
     "output_type": "execute_result"
    }
   ],
   "source": [
    "df"
   ]
  },
  {
   "cell_type": "code",
   "execution_count": 44,
   "id": "9b78f2f3",
   "metadata": {},
   "outputs": [
    {
     "name": "stdout",
     "output_type": "stream",
     "text": [
      "<class 'pandas.core.frame.DataFrame'>\n",
      "RangeIndex: 5506 entries, 0 to 5505\n",
      "Data columns (total 30 columns):\n",
      " #   Column                            Non-Null Count  Dtype  \n",
      "---  ------                            --------------  -----  \n",
      " 0   Driven Kilometer                  5506 non-null   float64\n",
      " 1   Price                             5506 non-null   float64\n",
      " 2   Age                               5506 non-null   int64  \n",
      " 3   brand_model_category_few_models   5506 non-null   uint8  \n",
      " 4   brand_model_category_many_models  5506 non-null   uint8  \n",
      " 5   Brand_audi                        5506 non-null   uint8  \n",
      " 6   Brand_datsun                      5506 non-null   uint8  \n",
      " 7   Brand_fiat                        5506 non-null   uint8  \n",
      " 8   Brand_ford                        5506 non-null   uint8  \n",
      " 9   Brand_honda                       5506 non-null   uint8  \n",
      " 10  Brand_hyundai                     5506 non-null   uint8  \n",
      " 11  Brand_jeep                        5506 non-null   uint8  \n",
      " 12  Brand_kia                         5506 non-null   uint8  \n",
      " 13  Brand_mahindra                    5506 non-null   uint8  \n",
      " 14  Brand_maruti                      5506 non-null   uint8  \n",
      " 15  Brand_mercedes                    5506 non-null   uint8  \n",
      " 16  Brand_mg                          5506 non-null   uint8  \n",
      " 17  Brand_nissan                      5506 non-null   uint8  \n",
      " 18  Brand_renault                     5506 non-null   uint8  \n",
      " 19  Brand_skoda                       5506 non-null   uint8  \n",
      " 20  Brand_tata                        5506 non-null   uint8  \n",
      " 21  Brand_toyota                      5506 non-null   uint8  \n",
      " 22  Brand_volkswagen                  5506 non-null   uint8  \n",
      " 23  Fuels_cng                         5506 non-null   uint8  \n",
      " 24  Fuels_diesel                      5506 non-null   uint8  \n",
      " 25  Fuels_hybrid                      5506 non-null   uint8  \n",
      " 26  Fuels_petrol                      5506 non-null   uint8  \n",
      " 27  No. of Owner_1st owner            5506 non-null   uint8  \n",
      " 28  No. of Owner_2nd owner            5506 non-null   uint8  \n",
      " 29  No. of Owner_3rd owner            5506 non-null   uint8  \n",
      "dtypes: float64(2), int64(1), uint8(27)\n",
      "memory usage: 274.3 KB\n"
     ]
    }
   ],
   "source": [
    "df.info()"
   ]
  },
  {
   "cell_type": "code",
   "execution_count": 45,
   "id": "3e20adc8",
   "metadata": {},
   "outputs": [],
   "source": [
    "#Convertinng uint8 to float datatype\n",
    "df['brand_model_category_few_models']=df['brand_model_category_few_models'].astype(float)\n",
    "df['brand_model_category_many_models']=df['brand_model_category_many_models'].astype(float)\n",
    "\n",
    "df['Brand_audi']=df['Brand_audi'].astype(float)\n",
    "\n",
    "df['Fuels_cng']=df['Fuels_cng'].astype(float)\n",
    "df['Fuels_diesel']=df['Fuels_diesel'].astype(float)\n",
    "df['Fuels_hybrid']=df['Fuels_hybrid'].astype(float)\n",
    "df['Fuels_petrol']=df['Fuels_petrol'].astype(float)\n",
    "\n",
    "\n",
    "df['Brand_datsun']=df['Brand_datsun'].astype(float)\n",
    "df['Brand_fiat']=df['Brand_fiat'].astype(float)\n",
    "df['Brand_honda']=df['Brand_honda'].astype(float)\n",
    "df['Brand_hyundai']=df['Brand_hyundai'].astype(float)\n",
    "df['Brand_jeep']=df['Brand_jeep'].astype(float)\n",
    "df['Brand_kia']=df['Brand_kia'].astype(float)\n",
    "df['Brand_mahindra']=df['Brand_mahindra'].astype(float)"
   ]
  },
  {
   "cell_type": "code",
   "execution_count": 46,
   "id": "57c8ab0b",
   "metadata": {},
   "outputs": [],
   "source": [
    "df['Brand_ford']=df['Brand_ford'].astype(float)\n",
    "df['Brand_maruti']=df['Brand_maruti'].astype(float)\n",
    "df['Brand_mercedes']=df['Brand_mercedes'].astype(float)\n",
    "df['Brand_mg']=df['Brand_mg'].astype(float)\n",
    "df['Brand_nissan']=df['Brand_nissan'].astype(float)\n",
    "df['Brand_renault']=df['Brand_renault'].astype(float)\n",
    "df['Brand_skoda']=df['Brand_skoda'].astype(float)\n",
    "df['Brand_tata']=df['Brand_tata'].astype(float)\n",
    "df['Brand_toyota']=df['Brand_toyota'].astype(float)\n",
    "df['Brand_volkswagen']=df['Brand_volkswagen'].astype(float)\n",
    "df['No. of Owner_1st owner']=df['No. of Owner_1st owner'].astype(float)\n",
    "df['No. of Owner_2nd owner']=df['No. of Owner_2nd owner'].astype(float)\n",
    "df['No. of Owner_3rd owner']=df['No. of Owner_3rd owner'].astype(float)"
   ]
  },
  {
   "cell_type": "code",
   "execution_count": 47,
   "id": "de50c24d",
   "metadata": {},
   "outputs": [],
   "source": [
    "#log transformation for better results\n",
    "df[\"Driven Kilometer\"] = np.log1p(df[\"Driven Kilometer\"])\n",
    "df[\"Price\"]=np.log1p(df[\"Price\"])\n"
   ]
  },
  {
   "cell_type": "code",
   "execution_count": 48,
   "id": "6dbea7a6",
   "metadata": {},
   "outputs": [],
   "source": [
    "#using these transformed columns as features in this model to check their impact on the model performance.\n",
    "df[\"Age_squared\"] = df[\"Age\"]**2\n",
    "df[\"Age_log\"] = np.log(df[\"Age\"])\n",
    "df[\"Age_reciprocal\"] = 1/df[\"Age\"]"
   ]
  },
  {
   "cell_type": "code",
   "execution_count": 49,
   "id": "4d0f5c31",
   "metadata": {},
   "outputs": [],
   "source": [
    "#Dropping the original Columns\n",
    "df.drop(['Age'],axis=1,inplace=True)"
   ]
  },
  {
   "cell_type": "code",
   "execution_count": 50,
   "id": "bb566047",
   "metadata": {},
   "outputs": [
    {
     "data": {
      "text/html": [
       "<div>\n",
       "<style scoped>\n",
       "    .dataframe tbody tr th:only-of-type {\n",
       "        vertical-align: middle;\n",
       "    }\n",
       "\n",
       "    .dataframe tbody tr th {\n",
       "        vertical-align: top;\n",
       "    }\n",
       "\n",
       "    .dataframe thead th {\n",
       "        text-align: right;\n",
       "    }\n",
       "</style>\n",
       "<table border=\"1\" class=\"dataframe\">\n",
       "  <thead>\n",
       "    <tr style=\"text-align: right;\">\n",
       "      <th></th>\n",
       "      <th>Driven Kilometer</th>\n",
       "      <th>Price</th>\n",
       "      <th>brand_model_category_few_models</th>\n",
       "      <th>brand_model_category_many_models</th>\n",
       "      <th>Brand_audi</th>\n",
       "      <th>Brand_datsun</th>\n",
       "      <th>Brand_fiat</th>\n",
       "      <th>Brand_ford</th>\n",
       "      <th>Brand_honda</th>\n",
       "      <th>Brand_hyundai</th>\n",
       "      <th>...</th>\n",
       "      <th>Fuels_cng</th>\n",
       "      <th>Fuels_diesel</th>\n",
       "      <th>Fuels_hybrid</th>\n",
       "      <th>Fuels_petrol</th>\n",
       "      <th>No. of Owner_1st owner</th>\n",
       "      <th>No. of Owner_2nd owner</th>\n",
       "      <th>No. of Owner_3rd owner</th>\n",
       "      <th>Age_squared</th>\n",
       "      <th>Age_log</th>\n",
       "      <th>Age_reciprocal</th>\n",
       "    </tr>\n",
       "  </thead>\n",
       "  <tbody>\n",
       "    <tr>\n",
       "      <th>0</th>\n",
       "      <td>8.699515</td>\n",
       "      <td>14.358998</td>\n",
       "      <td>1.0</td>\n",
       "      <td>0.0</td>\n",
       "      <td>0.0</td>\n",
       "      <td>0.0</td>\n",
       "      <td>0.0</td>\n",
       "      <td>0.0</td>\n",
       "      <td>0.0</td>\n",
       "      <td>0.0</td>\n",
       "      <td>...</td>\n",
       "      <td>0.0</td>\n",
       "      <td>0.0</td>\n",
       "      <td>0.0</td>\n",
       "      <td>1.0</td>\n",
       "      <td>1.0</td>\n",
       "      <td>0.0</td>\n",
       "      <td>0.0</td>\n",
       "      <td>9</td>\n",
       "      <td>1.098612</td>\n",
       "      <td>0.333333</td>\n",
       "    </tr>\n",
       "    <tr>\n",
       "      <th>1</th>\n",
       "      <td>9.150378</td>\n",
       "      <td>14.334900</td>\n",
       "      <td>1.0</td>\n",
       "      <td>0.0</td>\n",
       "      <td>0.0</td>\n",
       "      <td>0.0</td>\n",
       "      <td>0.0</td>\n",
       "      <td>0.0</td>\n",
       "      <td>0.0</td>\n",
       "      <td>0.0</td>\n",
       "      <td>...</td>\n",
       "      <td>0.0</td>\n",
       "      <td>0.0</td>\n",
       "      <td>0.0</td>\n",
       "      <td>1.0</td>\n",
       "      <td>1.0</td>\n",
       "      <td>0.0</td>\n",
       "      <td>0.0</td>\n",
       "      <td>9</td>\n",
       "      <td>1.098612</td>\n",
       "      <td>0.333333</td>\n",
       "    </tr>\n",
       "    <tr>\n",
       "      <th>2</th>\n",
       "      <td>9.901736</td>\n",
       "      <td>13.128347</td>\n",
       "      <td>0.0</td>\n",
       "      <td>1.0</td>\n",
       "      <td>0.0</td>\n",
       "      <td>0.0</td>\n",
       "      <td>0.0</td>\n",
       "      <td>0.0</td>\n",
       "      <td>0.0</td>\n",
       "      <td>1.0</td>\n",
       "      <td>...</td>\n",
       "      <td>0.0</td>\n",
       "      <td>0.0</td>\n",
       "      <td>0.0</td>\n",
       "      <td>1.0</td>\n",
       "      <td>1.0</td>\n",
       "      <td>0.0</td>\n",
       "      <td>0.0</td>\n",
       "      <td>16</td>\n",
       "      <td>1.386294</td>\n",
       "      <td>0.250000</td>\n",
       "    </tr>\n",
       "    <tr>\n",
       "      <th>3</th>\n",
       "      <td>9.395242</td>\n",
       "      <td>12.066816</td>\n",
       "      <td>0.0</td>\n",
       "      <td>1.0</td>\n",
       "      <td>0.0</td>\n",
       "      <td>0.0</td>\n",
       "      <td>0.0</td>\n",
       "      <td>0.0</td>\n",
       "      <td>0.0</td>\n",
       "      <td>0.0</td>\n",
       "      <td>...</td>\n",
       "      <td>0.0</td>\n",
       "      <td>0.0</td>\n",
       "      <td>0.0</td>\n",
       "      <td>1.0</td>\n",
       "      <td>0.0</td>\n",
       "      <td>1.0</td>\n",
       "      <td>0.0</td>\n",
       "      <td>144</td>\n",
       "      <td>2.484907</td>\n",
       "      <td>0.083333</td>\n",
       "    </tr>\n",
       "    <tr>\n",
       "      <th>4</th>\n",
       "      <td>9.950848</td>\n",
       "      <td>13.176853</td>\n",
       "      <td>0.0</td>\n",
       "      <td>1.0</td>\n",
       "      <td>0.0</td>\n",
       "      <td>0.0</td>\n",
       "      <td>0.0</td>\n",
       "      <td>0.0</td>\n",
       "      <td>0.0</td>\n",
       "      <td>1.0</td>\n",
       "      <td>...</td>\n",
       "      <td>0.0</td>\n",
       "      <td>0.0</td>\n",
       "      <td>0.0</td>\n",
       "      <td>1.0</td>\n",
       "      <td>1.0</td>\n",
       "      <td>0.0</td>\n",
       "      <td>0.0</td>\n",
       "      <td>16</td>\n",
       "      <td>1.386294</td>\n",
       "      <td>0.250000</td>\n",
       "    </tr>\n",
       "    <tr>\n",
       "      <th>...</th>\n",
       "      <td>...</td>\n",
       "      <td>...</td>\n",
       "      <td>...</td>\n",
       "      <td>...</td>\n",
       "      <td>...</td>\n",
       "      <td>...</td>\n",
       "      <td>...</td>\n",
       "      <td>...</td>\n",
       "      <td>...</td>\n",
       "      <td>...</td>\n",
       "      <td>...</td>\n",
       "      <td>...</td>\n",
       "      <td>...</td>\n",
       "      <td>...</td>\n",
       "      <td>...</td>\n",
       "      <td>...</td>\n",
       "      <td>...</td>\n",
       "      <td>...</td>\n",
       "      <td>...</td>\n",
       "      <td>...</td>\n",
       "      <td>...</td>\n",
       "    </tr>\n",
       "    <tr>\n",
       "      <th>5501</th>\n",
       "      <td>9.937937</td>\n",
       "      <td>13.384729</td>\n",
       "      <td>0.0</td>\n",
       "      <td>1.0</td>\n",
       "      <td>0.0</td>\n",
       "      <td>0.0</td>\n",
       "      <td>0.0</td>\n",
       "      <td>0.0</td>\n",
       "      <td>1.0</td>\n",
       "      <td>0.0</td>\n",
       "      <td>...</td>\n",
       "      <td>0.0</td>\n",
       "      <td>0.0</td>\n",
       "      <td>0.0</td>\n",
       "      <td>1.0</td>\n",
       "      <td>1.0</td>\n",
       "      <td>0.0</td>\n",
       "      <td>0.0</td>\n",
       "      <td>16</td>\n",
       "      <td>1.386294</td>\n",
       "      <td>0.250000</td>\n",
       "    </tr>\n",
       "    <tr>\n",
       "      <th>5502</th>\n",
       "      <td>10.303572</td>\n",
       "      <td>12.037660</td>\n",
       "      <td>0.0</td>\n",
       "      <td>1.0</td>\n",
       "      <td>0.0</td>\n",
       "      <td>0.0</td>\n",
       "      <td>0.0</td>\n",
       "      <td>0.0</td>\n",
       "      <td>0.0</td>\n",
       "      <td>0.0</td>\n",
       "      <td>...</td>\n",
       "      <td>0.0</td>\n",
       "      <td>0.0</td>\n",
       "      <td>0.0</td>\n",
       "      <td>1.0</td>\n",
       "      <td>0.0</td>\n",
       "      <td>1.0</td>\n",
       "      <td>0.0</td>\n",
       "      <td>144</td>\n",
       "      <td>2.484907</td>\n",
       "      <td>0.083333</td>\n",
       "    </tr>\n",
       "    <tr>\n",
       "      <th>5503</th>\n",
       "      <td>10.971658</td>\n",
       "      <td>12.966881</td>\n",
       "      <td>0.0</td>\n",
       "      <td>1.0</td>\n",
       "      <td>0.0</td>\n",
       "      <td>0.0</td>\n",
       "      <td>0.0</td>\n",
       "      <td>0.0</td>\n",
       "      <td>0.0</td>\n",
       "      <td>0.0</td>\n",
       "      <td>...</td>\n",
       "      <td>1.0</td>\n",
       "      <td>0.0</td>\n",
       "      <td>0.0</td>\n",
       "      <td>0.0</td>\n",
       "      <td>1.0</td>\n",
       "      <td>0.0</td>\n",
       "      <td>0.0</td>\n",
       "      <td>25</td>\n",
       "      <td>1.609438</td>\n",
       "      <td>0.200000</td>\n",
       "    </tr>\n",
       "    <tr>\n",
       "      <th>5504</th>\n",
       "      <td>7.005789</td>\n",
       "      <td>14.255056</td>\n",
       "      <td>0.0</td>\n",
       "      <td>1.0</td>\n",
       "      <td>0.0</td>\n",
       "      <td>0.0</td>\n",
       "      <td>0.0</td>\n",
       "      <td>0.0</td>\n",
       "      <td>0.0</td>\n",
       "      <td>0.0</td>\n",
       "      <td>...</td>\n",
       "      <td>0.0</td>\n",
       "      <td>0.0</td>\n",
       "      <td>0.0</td>\n",
       "      <td>1.0</td>\n",
       "      <td>1.0</td>\n",
       "      <td>0.0</td>\n",
       "      <td>0.0</td>\n",
       "      <td>1</td>\n",
       "      <td>0.000000</td>\n",
       "      <td>1.000000</td>\n",
       "    </tr>\n",
       "    <tr>\n",
       "      <th>5505</th>\n",
       "      <td>10.147218</td>\n",
       "      <td>12.823960</td>\n",
       "      <td>0.0</td>\n",
       "      <td>1.0</td>\n",
       "      <td>0.0</td>\n",
       "      <td>0.0</td>\n",
       "      <td>0.0</td>\n",
       "      <td>0.0</td>\n",
       "      <td>0.0</td>\n",
       "      <td>0.0</td>\n",
       "      <td>...</td>\n",
       "      <td>0.0</td>\n",
       "      <td>0.0</td>\n",
       "      <td>0.0</td>\n",
       "      <td>1.0</td>\n",
       "      <td>0.0</td>\n",
       "      <td>1.0</td>\n",
       "      <td>0.0</td>\n",
       "      <td>16</td>\n",
       "      <td>1.386294</td>\n",
       "      <td>0.250000</td>\n",
       "    </tr>\n",
       "  </tbody>\n",
       "</table>\n",
       "<p>5506 rows × 32 columns</p>\n",
       "</div>"
      ],
      "text/plain": [
       "      Driven Kilometer      Price  brand_model_category_few_models  \\\n",
       "0             8.699515  14.358998                              1.0   \n",
       "1             9.150378  14.334900                              1.0   \n",
       "2             9.901736  13.128347                              0.0   \n",
       "3             9.395242  12.066816                              0.0   \n",
       "4             9.950848  13.176853                              0.0   \n",
       "...                ...        ...                              ...   \n",
       "5501          9.937937  13.384729                              0.0   \n",
       "5502         10.303572  12.037660                              0.0   \n",
       "5503         10.971658  12.966881                              0.0   \n",
       "5504          7.005789  14.255056                              0.0   \n",
       "5505         10.147218  12.823960                              0.0   \n",
       "\n",
       "      brand_model_category_many_models  Brand_audi  Brand_datsun  Brand_fiat  \\\n",
       "0                                  0.0         0.0           0.0         0.0   \n",
       "1                                  0.0         0.0           0.0         0.0   \n",
       "2                                  1.0         0.0           0.0         0.0   \n",
       "3                                  1.0         0.0           0.0         0.0   \n",
       "4                                  1.0         0.0           0.0         0.0   \n",
       "...                                ...         ...           ...         ...   \n",
       "5501                               1.0         0.0           0.0         0.0   \n",
       "5502                               1.0         0.0           0.0         0.0   \n",
       "5503                               1.0         0.0           0.0         0.0   \n",
       "5504                               1.0         0.0           0.0         0.0   \n",
       "5505                               1.0         0.0           0.0         0.0   \n",
       "\n",
       "      Brand_ford  Brand_honda  Brand_hyundai  ...  Fuels_cng  Fuels_diesel  \\\n",
       "0            0.0          0.0            0.0  ...        0.0           0.0   \n",
       "1            0.0          0.0            0.0  ...        0.0           0.0   \n",
       "2            0.0          0.0            1.0  ...        0.0           0.0   \n",
       "3            0.0          0.0            0.0  ...        0.0           0.0   \n",
       "4            0.0          0.0            1.0  ...        0.0           0.0   \n",
       "...          ...          ...            ...  ...        ...           ...   \n",
       "5501         0.0          1.0            0.0  ...        0.0           0.0   \n",
       "5502         0.0          0.0            0.0  ...        0.0           0.0   \n",
       "5503         0.0          0.0            0.0  ...        1.0           0.0   \n",
       "5504         0.0          0.0            0.0  ...        0.0           0.0   \n",
       "5505         0.0          0.0            0.0  ...        0.0           0.0   \n",
       "\n",
       "      Fuels_hybrid  Fuels_petrol  No. of Owner_1st owner  \\\n",
       "0              0.0           1.0                     1.0   \n",
       "1              0.0           1.0                     1.0   \n",
       "2              0.0           1.0                     1.0   \n",
       "3              0.0           1.0                     0.0   \n",
       "4              0.0           1.0                     1.0   \n",
       "...            ...           ...                     ...   \n",
       "5501           0.0           1.0                     1.0   \n",
       "5502           0.0           1.0                     0.0   \n",
       "5503           0.0           0.0                     1.0   \n",
       "5504           0.0           1.0                     1.0   \n",
       "5505           0.0           1.0                     0.0   \n",
       "\n",
       "      No. of Owner_2nd owner  No. of Owner_3rd owner  Age_squared   Age_log  \\\n",
       "0                        0.0                     0.0            9  1.098612   \n",
       "1                        0.0                     0.0            9  1.098612   \n",
       "2                        0.0                     0.0           16  1.386294   \n",
       "3                        1.0                     0.0          144  2.484907   \n",
       "4                        0.0                     0.0           16  1.386294   \n",
       "...                      ...                     ...          ...       ...   \n",
       "5501                     0.0                     0.0           16  1.386294   \n",
       "5502                     1.0                     0.0          144  2.484907   \n",
       "5503                     0.0                     0.0           25  1.609438   \n",
       "5504                     0.0                     0.0            1  0.000000   \n",
       "5505                     1.0                     0.0           16  1.386294   \n",
       "\n",
       "      Age_reciprocal  \n",
       "0           0.333333  \n",
       "1           0.333333  \n",
       "2           0.250000  \n",
       "3           0.083333  \n",
       "4           0.250000  \n",
       "...              ...  \n",
       "5501        0.250000  \n",
       "5502        0.083333  \n",
       "5503        0.200000  \n",
       "5504        1.000000  \n",
       "5505        0.250000  \n",
       "\n",
       "[5506 rows x 32 columns]"
      ]
     },
     "execution_count": 50,
     "metadata": {},
     "output_type": "execute_result"
    }
   ],
   "source": [
    "df"
   ]
  },
  {
   "cell_type": "code",
   "execution_count": 51,
   "id": "788a29f5",
   "metadata": {},
   "outputs": [
    {
     "name": "stdout",
     "output_type": "stream",
     "text": [
      "Driven Kilometer                    0.081405\n",
      "brand_model_category_few_models    -0.123703\n",
      "brand_model_category_many_models    0.123703\n",
      "Brand_audi                         -0.018416\n",
      "Brand_datsun                        0.020236\n",
      "Brand_fiat                          0.007978\n",
      "Brand_ford                         -0.013037\n",
      "Brand_honda                        -0.008736\n",
      "Brand_hyundai                      -0.007456\n",
      "Brand_jeep                         -0.015066\n",
      "Brand_kia                          -0.142110\n",
      "Brand_mahindra                     -0.135426\n",
      "Brand_maruti                        0.198916\n",
      "Brand_mercedes                      0.006815\n",
      "Brand_mg                           -0.045512\n",
      "Brand_nissan                        0.004186\n",
      "Brand_renault                      -0.051916\n",
      "Brand_skoda                        -0.065592\n",
      "Brand_tata                         -0.067706\n",
      "Brand_toyota                       -0.057672\n",
      "Brand_volkswagen                   -0.032267\n",
      "Fuels_cng                           0.120795\n",
      "Fuels_diesel                       -0.191313\n",
      "Fuels_hybrid                       -0.034292\n",
      "Fuels_petrol                        0.067657\n",
      "No. of Owner_1st owner             -0.026796\n",
      "No. of Owner_2nd owner              0.025052\n",
      "No. of Owner_3rd owner              0.012653\n",
      "Age_squared                         0.160768\n",
      "Age_log                             0.192362\n",
      "Age_reciprocal                     -0.172681\n",
      "Name: Price, dtype: float64\n"
     ]
    }
   ],
   "source": [
    "#checking relationship with target variable which is Price.\n",
    "correlations = df.corr()[\"Price\"].drop(\"Price\")\n",
    "print(correlations)"
   ]
  },
  {
   "cell_type": "markdown",
   "id": "7b7be36f",
   "metadata": {},
   "source": [
    "# Model Training and Testing"
   ]
  },
  {
   "cell_type": "code",
   "execution_count": 52,
   "id": "2e432d4c",
   "metadata": {},
   "outputs": [],
   "source": [
    "from sklearn.linear_model import LinearRegression\n",
    "model=RandomForestRegressor()"
   ]
  },
  {
   "cell_type": "code",
   "execution_count": 53,
   "id": "2c4edbde",
   "metadata": {
    "scrolled": true
   },
   "outputs": [
    {
     "data": {
      "text/plain": [
       "RandomForestRegressor()"
      ]
     },
     "execution_count": 53,
     "metadata": {},
     "output_type": "execute_result"
    }
   ],
   "source": [
    "# Checking for non-numeric values\n",
    "try:\n",
    "    df['Price'] = df['Price'].astype(float)\n",
    "except ValueError:\n",
    "    # Remove non-numeric values\n",
    "    df = df[df['Price'].apply(lambda x: x.replace(',', '').replace('.', '').isnumeric())]\n",
    "    df['Price'] = df['Price'].astype(float)\n",
    "\n",
    "# Checking the data type\n",
    "if not np.issubdtype(df['Price'].dtype, np.number):\n",
    "    # Converting to numeric data type\n",
    "    df['Price'] = pd.to_numeric(df['Price'], errors='coerce')\n",
    "\n",
    "# Checking for outliers\n",
    "Q1 = df['Price'].quantile(0.25)\n",
    "Q3 = df['Price'].quantile(0.75)\n",
    "IQR = Q3 - Q1\n",
    "df = df[~((df['Price'] < (Q1 - 1.5 * IQR)) | (df['Price'] > (Q3 + 1.5 * IQR)))]\n",
    "\n",
    "# Fiting the model using the cleaned data\n",
    "model.fit(df.drop(columns='Price'), df['Price'])"
   ]
  },
  {
   "cell_type": "code",
   "execution_count": 54,
   "id": "0e6d5ef2",
   "metadata": {},
   "outputs": [
    {
     "name": "stdout",
     "output_type": "stream",
     "text": [
      "Test R^2 score: 0.78\n",
      "R_squared : 0.7805225699927697\n",
      "RMSE : 0.19274686078692704\n"
     ]
    }
   ],
   "source": [
    "from sklearn.metrics import r2_score\n",
    "from sklearn.metrics import mean_squared_error\n",
    "# Split the data into features (X) and target (y)\n",
    "X = df.drop(\"Price\", axis=1)\n",
    "y = df[\"Price\"]\n",
    "\n",
    "# Split the data into training and test sets\n",
    "X_train, X_test, y_train, y_test = train_test_split(X, y, test_size=0.2, random_state=42)\n",
    "\n",
    "from sklearn.ensemble import RandomForestRegressor\n",
    "reg_rf = RandomForestRegressor()\n",
    "reg_rf.fit(X_train, y_train)\n",
    "\n",
    "\n",
    "# Evaluate the model on the test data\n",
    "score = reg_rf.score(X_test, y_test)\n",
    "print(\"Test R^2 score: {:.2f}\".format(score))\n",
    "\n",
    "y_pred_rf = reg_rf.predict(X_test)\n",
    "r_squared = r2_score(y_test,y_pred_rf)\n",
    "rmse = np.sqrt(mean_squared_error(y_test,y_pred_rf))\n",
    "print(\"R_squared :\",r_squared)\n",
    "print(\"RMSE :\",rmse)\n"
   ]
  },
  {
   "cell_type": "code",
   "execution_count": 55,
   "id": "51ff3c91",
   "metadata": {},
   "outputs": [
    {
     "name": "stdout",
     "output_type": "stream",
     "text": [
      "Test R^2 score: 0.69\n"
     ]
    }
   ],
   "source": [
    "from sklearn.linear_model import LinearRegression\n",
    "model=LinearRegression()\n",
    "model.fit(X_train, y_train)\n",
    "\n",
    "score = model.score(X_test, y_test)\n",
    "print(\"Test R^2 score: {:.2f}\".format(score))"
   ]
  },
  {
   "cell_type": "code",
   "execution_count": 56,
   "id": "ee083e1e",
   "metadata": {},
   "outputs": [
    {
     "name": "stdout",
     "output_type": "stream",
     "text": [
      "R_squared : 0.6852011135804836\n",
      "RMSE : 0.23083888833410215\n"
     ]
    }
   ],
   "source": [
    "# Model Summary\n",
    "y_pred_model = model.predict(X_test)\n",
    "\n",
    "r_squared = r2_score(y_test,y_pred_model)\n",
    "rmse = np.sqrt(mean_squared_error(y_test,y_pred_model))\n",
    "print(\"R_squared :\",r_squared)\n",
    "print(\"RMSE :\",rmse)"
   ]
  },
  {
   "cell_type": "code",
   "execution_count": 57,
   "id": "f8a482ec",
   "metadata": {},
   "outputs": [
    {
     "name": "stdout",
     "output_type": "stream",
     "text": [
      "R_squared : 0.704578282743549\n",
      "RMSE : 0.22362151717211312\n"
     ]
    }
   ],
   "source": [
    "# Model Building\n",
    "from sklearn.ensemble import GradientBoostingRegressor\n",
    "gbt = GradientBoostingRegressor()\n",
    "\n",
    "# Training Model\n",
    "gbt.fit(X_train,y_train)\n",
    "\n",
    "# Model Summary\n",
    "y_pred_gbt = gbt.predict(X_test)\n",
    "\n",
    "r_squared = r2_score(y_test,y_pred_gbt)\n",
    "rmse = np.sqrt(mean_squared_error(y_test,y_pred_gbt))\n",
    "print(\"R_squared :\",r_squared)\n",
    "print(\"RMSE :\",rmse)"
   ]
  },
  {
   "cell_type": "code",
   "execution_count": 58,
   "id": "4fff6dce",
   "metadata": {},
   "outputs": [
    {
     "data": {
      "text/plain": [
       "0.9658853587432022"
      ]
     },
     "execution_count": 58,
     "metadata": {},
     "output_type": "execute_result"
    }
   ],
   "source": [
    "reg_rf.score(X_train, y_train)"
   ]
  },
  {
   "cell_type": "code",
   "execution_count": 59,
   "id": "870dceec",
   "metadata": {},
   "outputs": [
    {
     "data": {
      "text/plain": [
       "0.7805225699927697"
      ]
     },
     "execution_count": 59,
     "metadata": {},
     "output_type": "execute_result"
    }
   ],
   "source": [
    "reg_rf.score(X_test, y_test)"
   ]
  },
  {
   "cell_type": "code",
   "execution_count": 60,
   "id": "d379d14c",
   "metadata": {},
   "outputs": [],
   "source": [
    "from sklearn.model_selection import RandomizedSearchCV"
   ]
  },
  {
   "cell_type": "code",
   "execution_count": 61,
   "id": "b9712fab",
   "metadata": {},
   "outputs": [],
   "source": [
    "#Randomized Search CV\n",
    "\n",
    "# Number of trees in random forest\n",
    "n_estimators = [int(x) for x in np.linspace(start = 100, stop = 1200, num = 12)]\n",
    "# Number of features to consider at every split\n",
    "max_features = ['auto', 'sqrt']\n",
    "# Maximum number of levels in tree\n",
    "max_depth = [int(x) for x in np.linspace(5, 30, num = 6)]\n",
    "# Minimum number of samples required to split a node\n",
    "min_samples_split = [2, 5, 10, 15, 100]\n",
    "# Minimum number of samples required at each leaf node\n",
    "min_samples_leaf = [1, 2, 5, 10]"
   ]
  },
  {
   "cell_type": "code",
   "execution_count": 62,
   "id": "7db57e16",
   "metadata": {},
   "outputs": [],
   "source": [
    "# Create the random grid\n",
    "\n",
    "random_grid = {'n_estimators': n_estimators,\n",
    "               'max_features': max_features,\n",
    "               'max_depth': max_depth,\n",
    "               'min_samples_split': min_samples_split,\n",
    "               'min_samples_leaf': min_samples_leaf}"
   ]
  },
  {
   "cell_type": "code",
   "execution_count": 63,
   "id": "57c21772",
   "metadata": {},
   "outputs": [],
   "source": [
    "# Random search of parameters, using 5 fold cross validation, \n",
    "# search across 100 different combinations\n",
    "rf_random = RandomizedSearchCV(estimator = reg_rf, param_distributions = random_grid,scoring='neg_mean_squared_error', n_iter = 10, cv = 5, verbose=2, random_state=42, n_jobs = 1)\n"
   ]
  },
  {
   "cell_type": "code",
   "execution_count": 64,
   "id": "7809cab7",
   "metadata": {},
   "outputs": [
    {
     "name": "stdout",
     "output_type": "stream",
     "text": [
      "Fitting 5 folds for each of 10 candidates, totalling 50 fits\n",
      "[CV] END max_depth=10, max_features=sqrt, min_samples_leaf=5, min_samples_split=5, n_estimators=900; total time=   1.2s\n",
      "[CV] END max_depth=10, max_features=sqrt, min_samples_leaf=5, min_samples_split=5, n_estimators=900; total time=   1.2s\n",
      "[CV] END max_depth=10, max_features=sqrt, min_samples_leaf=5, min_samples_split=5, n_estimators=900; total time=   1.2s\n",
      "[CV] END max_depth=10, max_features=sqrt, min_samples_leaf=5, min_samples_split=5, n_estimators=900; total time=   1.2s\n",
      "[CV] END max_depth=10, max_features=sqrt, min_samples_leaf=5, min_samples_split=5, n_estimators=900; total time=   1.2s\n",
      "[CV] END max_depth=15, max_features=sqrt, min_samples_leaf=2, min_samples_split=10, n_estimators=1100; total time=   1.8s\n",
      "[CV] END max_depth=15, max_features=sqrt, min_samples_leaf=2, min_samples_split=10, n_estimators=1100; total time=   1.7s\n",
      "[CV] END max_depth=15, max_features=sqrt, min_samples_leaf=2, min_samples_split=10, n_estimators=1100; total time=   1.8s\n",
      "[CV] END max_depth=15, max_features=sqrt, min_samples_leaf=2, min_samples_split=10, n_estimators=1100; total time=   1.8s\n",
      "[CV] END max_depth=15, max_features=sqrt, min_samples_leaf=2, min_samples_split=10, n_estimators=1100; total time=   1.9s\n",
      "[CV] END max_depth=15, max_features=auto, min_samples_leaf=5, min_samples_split=100, n_estimators=300; total time=   0.9s\n",
      "[CV] END max_depth=15, max_features=auto, min_samples_leaf=5, min_samples_split=100, n_estimators=300; total time=   0.9s\n",
      "[CV] END max_depth=15, max_features=auto, min_samples_leaf=5, min_samples_split=100, n_estimators=300; total time=   0.9s\n",
      "[CV] END max_depth=15, max_features=auto, min_samples_leaf=5, min_samples_split=100, n_estimators=300; total time=   0.9s\n",
      "[CV] END max_depth=15, max_features=auto, min_samples_leaf=5, min_samples_split=100, n_estimators=300; total time=   0.9s\n",
      "[CV] END max_depth=15, max_features=auto, min_samples_leaf=5, min_samples_split=5, n_estimators=400; total time=   1.6s\n",
      "[CV] END max_depth=15, max_features=auto, min_samples_leaf=5, min_samples_split=5, n_estimators=400; total time=   1.6s\n",
      "[CV] END max_depth=15, max_features=auto, min_samples_leaf=5, min_samples_split=5, n_estimators=400; total time=   1.6s\n",
      "[CV] END max_depth=15, max_features=auto, min_samples_leaf=5, min_samples_split=5, n_estimators=400; total time=   1.6s\n",
      "[CV] END max_depth=15, max_features=auto, min_samples_leaf=5, min_samples_split=5, n_estimators=400; total time=   1.7s\n",
      "[CV] END max_depth=20, max_features=auto, min_samples_leaf=10, min_samples_split=5, n_estimators=700; total time=   2.6s\n",
      "[CV] END max_depth=20, max_features=auto, min_samples_leaf=10, min_samples_split=5, n_estimators=700; total time=   2.5s\n",
      "[CV] END max_depth=20, max_features=auto, min_samples_leaf=10, min_samples_split=5, n_estimators=700; total time=   2.5s\n",
      "[CV] END max_depth=20, max_features=auto, min_samples_leaf=10, min_samples_split=5, n_estimators=700; total time=   2.7s\n",
      "[CV] END max_depth=20, max_features=auto, min_samples_leaf=10, min_samples_split=5, n_estimators=700; total time=   2.5s\n",
      "[CV] END max_depth=25, max_features=sqrt, min_samples_leaf=1, min_samples_split=2, n_estimators=1000; total time=   2.5s\n",
      "[CV] END max_depth=25, max_features=sqrt, min_samples_leaf=1, min_samples_split=2, n_estimators=1000; total time=   2.7s\n",
      "[CV] END max_depth=25, max_features=sqrt, min_samples_leaf=1, min_samples_split=2, n_estimators=1000; total time=   2.7s\n",
      "[CV] END max_depth=25, max_features=sqrt, min_samples_leaf=1, min_samples_split=2, n_estimators=1000; total time=   2.8s\n",
      "[CV] END max_depth=25, max_features=sqrt, min_samples_leaf=1, min_samples_split=2, n_estimators=1000; total time=   2.6s\n",
      "[CV] END max_depth=5, max_features=sqrt, min_samples_leaf=10, min_samples_split=15, n_estimators=1100; total time=   1.1s\n",
      "[CV] END max_depth=5, max_features=sqrt, min_samples_leaf=10, min_samples_split=15, n_estimators=1100; total time=   1.1s\n",
      "[CV] END max_depth=5, max_features=sqrt, min_samples_leaf=10, min_samples_split=15, n_estimators=1100; total time=   1.1s\n",
      "[CV] END max_depth=5, max_features=sqrt, min_samples_leaf=10, min_samples_split=15, n_estimators=1100; total time=   1.1s\n",
      "[CV] END max_depth=5, max_features=sqrt, min_samples_leaf=10, min_samples_split=15, n_estimators=1100; total time=   1.1s\n",
      "[CV] END max_depth=15, max_features=sqrt, min_samples_leaf=1, min_samples_split=15, n_estimators=300; total time=   0.4s\n",
      "[CV] END max_depth=15, max_features=sqrt, min_samples_leaf=1, min_samples_split=15, n_estimators=300; total time=   0.4s\n",
      "[CV] END max_depth=15, max_features=sqrt, min_samples_leaf=1, min_samples_split=15, n_estimators=300; total time=   0.4s\n",
      "[CV] END max_depth=15, max_features=sqrt, min_samples_leaf=1, min_samples_split=15, n_estimators=300; total time=   0.4s\n",
      "[CV] END max_depth=15, max_features=sqrt, min_samples_leaf=1, min_samples_split=15, n_estimators=300; total time=   0.4s\n",
      "[CV] END max_depth=5, max_features=sqrt, min_samples_leaf=2, min_samples_split=10, n_estimators=700; total time=   0.7s\n",
      "[CV] END max_depth=5, max_features=sqrt, min_samples_leaf=2, min_samples_split=10, n_estimators=700; total time=   0.7s\n",
      "[CV] END max_depth=5, max_features=sqrt, min_samples_leaf=2, min_samples_split=10, n_estimators=700; total time=   0.7s\n",
      "[CV] END max_depth=5, max_features=sqrt, min_samples_leaf=2, min_samples_split=10, n_estimators=700; total time=   0.7s\n",
      "[CV] END max_depth=5, max_features=sqrt, min_samples_leaf=2, min_samples_split=10, n_estimators=700; total time=   0.7s\n",
      "[CV] END max_depth=20, max_features=auto, min_samples_leaf=1, min_samples_split=15, n_estimators=700; total time=   3.0s\n",
      "[CV] END max_depth=20, max_features=auto, min_samples_leaf=1, min_samples_split=15, n_estimators=700; total time=   3.0s\n",
      "[CV] END max_depth=20, max_features=auto, min_samples_leaf=1, min_samples_split=15, n_estimators=700; total time=   3.0s\n",
      "[CV] END max_depth=20, max_features=auto, min_samples_leaf=1, min_samples_split=15, n_estimators=700; total time=   3.0s\n",
      "[CV] END max_depth=20, max_features=auto, min_samples_leaf=1, min_samples_split=15, n_estimators=700; total time=   3.1s\n"
     ]
    },
    {
     "data": {
      "text/plain": [
       "RandomizedSearchCV(cv=5, estimator=RandomForestRegressor(), n_jobs=1,\n",
       "                   param_distributions={'max_depth': [5, 10, 15, 20, 25, 30],\n",
       "                                        'max_features': ['auto', 'sqrt'],\n",
       "                                        'min_samples_leaf': [1, 2, 5, 10],\n",
       "                                        'min_samples_split': [2, 5, 10, 15,\n",
       "                                                              100],\n",
       "                                        'n_estimators': [100, 200, 300, 400,\n",
       "                                                         500, 600, 700, 800,\n",
       "                                                         900, 1000, 1100,\n",
       "                                                         1200]},\n",
       "                   random_state=42, scoring='neg_mean_squared_error',\n",
       "                   verbose=2)"
      ]
     },
     "execution_count": 64,
     "metadata": {},
     "output_type": "execute_result"
    }
   ],
   "source": [
    "rf_random.fit(X_train,y_train)"
   ]
  },
  {
   "cell_type": "code",
   "execution_count": 65,
   "id": "b56a43a8",
   "metadata": {},
   "outputs": [
    {
     "data": {
      "text/plain": [
       "{'n_estimators': 1000,\n",
       " 'min_samples_split': 2,\n",
       " 'min_samples_leaf': 1,\n",
       " 'max_features': 'sqrt',\n",
       " 'max_depth': 25}"
      ]
     },
     "execution_count": 65,
     "metadata": {},
     "output_type": "execute_result"
    }
   ],
   "source": [
    "rf_random.best_params_"
   ]
  },
  {
   "cell_type": "code",
   "execution_count": 66,
   "id": "6fbbd6cc",
   "metadata": {},
   "outputs": [],
   "source": [
    "prediction = rf_random.predict(X_test)"
   ]
  },
  {
   "cell_type": "code",
   "execution_count": 67,
   "id": "53166224",
   "metadata": {},
   "outputs": [
    {
     "data": {
      "image/png": "[encoded data removed]",
      "text/plain": [
       "<Figure size 576x576 with 1 Axes>"
      ]
     },
     "metadata": {
      "needs_background": "light"
     },
     "output_type": "display_data"
    }
   ],
   "source": [
    "prediction = rf_random.predict(X_test)\n",
    "plt.figure(figsize = (8,8))\n",
    "sns.distplot(y_test-prediction)\n",
    "plt.show()"
   ]
  },
  {
   "cell_type": "code",
   "execution_count": 68,
   "id": "7ac32beb",
   "metadata": {},
   "outputs": [
    {
     "data": {
      "image/png": "[encoded data removed]",
      "text/plain": [
       "<Figure size 576x576 with 1 Axes>"
      ]
     },
     "metadata": {
      "needs_background": "light"
     },
     "output_type": "display_data"
    }
   ],
   "source": [
    "plt.figure(figsize = (8,8))\n",
    "plt.scatter(y_test, prediction, alpha = 0.5)\n",
    "plt.xlabel(\"y_test\")\n",
    "plt.ylabel(\"y_pred\")\n",
    "plt.show()"
   ]
  },
  {
   "cell_type": "code",
   "execution_count": 69,
   "id": "7e3bdb47",
   "metadata": {},
   "outputs": [],
   "source": [
    "from sklearn import metrics"
   ]
  },
  {
   "cell_type": "code",
   "execution_count": 70,
   "id": "04252775",
   "metadata": {},
   "outputs": [
    {
     "name": "stdout",
     "output_type": "stream",
     "text": [
      "MAE: 0.1260331821996116\n",
      "MSE: 0.03894419967118207\n",
      "RMSE: 0.19734284803656318\n"
     ]
    }
   ],
   "source": [
    "print('MAE:', metrics.mean_absolute_error(y_test, prediction))\n",
    "print('MSE:', metrics.mean_squared_error(y_test, prediction))\n",
    "print('RMSE:', np.sqrt(metrics.mean_squared_error(y_test, prediction)))"
   ]
  },
  {
   "cell_type": "code",
   "execution_count": 71,
   "id": "6fb27a31",
   "metadata": {},
   "outputs": [
    {
     "data": {
      "text/html": [
       "<div>\n",
       "<style scoped>\n",
       "    .dataframe tbody tr th:only-of-type {\n",
       "        vertical-align: middle;\n",
       "    }\n",
       "\n",
       "    .dataframe tbody tr th {\n",
       "        vertical-align: top;\n",
       "    }\n",
       "\n",
       "    .dataframe thead th {\n",
       "        text-align: right;\n",
       "    }\n",
       "</style>\n",
       "<table border=\"1\" class=\"dataframe\">\n",
       "  <thead>\n",
       "    <tr style=\"text-align: right;\">\n",
       "      <th></th>\n",
       "      <th>Predicted Price</th>\n",
       "      <th>Actual Price</th>\n",
       "      <th>Residual</th>\n",
       "      <th>Difference%</th>\n",
       "    </tr>\n",
       "  </thead>\n",
       "  <tbody>\n",
       "    <tr>\n",
       "      <th>0</th>\n",
       "      <td>581913.01</td>\n",
       "      <td>568001.00</td>\n",
       "      <td>-13912.01</td>\n",
       "      <td>2.45</td>\n",
       "    </tr>\n",
       "    <tr>\n",
       "      <th>1</th>\n",
       "      <td>488786.72</td>\n",
       "      <td>448001.00</td>\n",
       "      <td>-40785.72</td>\n",
       "      <td>9.10</td>\n",
       "    </tr>\n",
       "    <tr>\n",
       "      <th>2</th>\n",
       "      <td>693911.93</td>\n",
       "      <td>644001.00</td>\n",
       "      <td>-49910.93</td>\n",
       "      <td>7.75</td>\n",
       "    </tr>\n",
       "    <tr>\n",
       "      <th>3</th>\n",
       "      <td>586081.32</td>\n",
       "      <td>573001.00</td>\n",
       "      <td>-13080.32</td>\n",
       "      <td>2.28</td>\n",
       "    </tr>\n",
       "    <tr>\n",
       "      <th>4</th>\n",
       "      <td>484880.21</td>\n",
       "      <td>784001.00</td>\n",
       "      <td>299120.79</td>\n",
       "      <td>38.15</td>\n",
       "    </tr>\n",
       "    <tr>\n",
       "      <th>5</th>\n",
       "      <td>562628.02</td>\n",
       "      <td>542001.00</td>\n",
       "      <td>-20627.02</td>\n",
       "      <td>3.81</td>\n",
       "    </tr>\n",
       "    <tr>\n",
       "      <th>6</th>\n",
       "      <td>535430.75</td>\n",
       "      <td>566001.00</td>\n",
       "      <td>30570.25</td>\n",
       "      <td>5.40</td>\n",
       "    </tr>\n",
       "    <tr>\n",
       "      <th>7</th>\n",
       "      <td>471912.40</td>\n",
       "      <td>748001.00</td>\n",
       "      <td>276088.60</td>\n",
       "      <td>36.91</td>\n",
       "    </tr>\n",
       "    <tr>\n",
       "      <th>8</th>\n",
       "      <td>377953.06</td>\n",
       "      <td>360001.00</td>\n",
       "      <td>-17952.06</td>\n",
       "      <td>4.99</td>\n",
       "    </tr>\n",
       "    <tr>\n",
       "      <th>9</th>\n",
       "      <td>614893.10</td>\n",
       "      <td>501001.00</td>\n",
       "      <td>-113892.10</td>\n",
       "      <td>22.73</td>\n",
       "    </tr>\n",
       "  </tbody>\n",
       "</table>\n",
       "</div>"
      ],
      "text/plain": [
       "   Predicted Price  Actual Price   Residual  Difference%\n",
       "0        581913.01     568001.00  -13912.01         2.45\n",
       "1        488786.72     448001.00  -40785.72         9.10\n",
       "2        693911.93     644001.00  -49910.93         7.75\n",
       "3        586081.32     573001.00  -13080.32         2.28\n",
       "4        484880.21     784001.00  299120.79        38.15\n",
       "5        562628.02     542001.00  -20627.02         3.81\n",
       "6        535430.75     566001.00   30570.25         5.40\n",
       "7        471912.40     748001.00  276088.60        36.91\n",
       "8        377953.06     360001.00  -17952.06         4.99\n",
       "9        614893.10     501001.00 -113892.10        22.73"
      ]
     },
     "execution_count": 71,
     "metadata": {},
     "output_type": "execute_result"
    }
   ],
   "source": [
    "# Finally, let's manually check these predictions\n",
    "# To obtain the actual prices, we take the exponential of the log_price\n",
    "df_ev = pd.DataFrame(np.exp(y_pred_rf), columns=['Predicted Price'])\n",
    "\n",
    "# We can also include the Actual price column in that data frame (so we can manually compare them)\n",
    "y_test = y_test.reset_index(drop=True)\n",
    "df_ev['Actual Price'] = np.exp(y_test)\n",
    "\n",
    "# we can calculate the difference between the targets and the predictions\n",
    "df_ev['Residual'] = df_ev['Actual Price'] - df_ev['Predicted Price']\n",
    "df_ev['Difference%'] = np.absolute(df_ev['Residual']/df_ev['Actual Price']*100)\n",
    "\n",
    "pd.set_option('display.float_format', lambda x: '%.2f' % x)\n",
    "df_ev.sort_values(by=['Difference%'])\n",
    "\n",
    "df_ev.head(10)"
   ]
  },
  {
   "cell_type": "code",
   "execution_count": null,
   "id": "946c5846",
   "metadata": {},
   "outputs": [],
   "source": []
  }
 ],
 "metadata": {
  "kernelspec": {
   "display_name": "Python 3 (ipykernel)",
   "language": "python",
   "name": "python3"
  },
  "language_info": {
   "codemirror_mode": {
    "name": "ipython",
    "version": 3
   },
   "file_extension": ".py",
   "mimetype": "text/x-python",
   "name": "python",
   "nbconvert_exporter": "python",
   "pygments_lexer": "ipython3",
   "version": "3.9.12"
  }
 },
 "nbformat": 4,
 "nbformat_minor": 5
}
