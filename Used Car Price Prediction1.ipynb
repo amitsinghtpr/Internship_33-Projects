{
 "cells": [
  {
   "cell_type": "code",
   "execution_count": 1,
   "id": "2b41630b",
   "metadata": {},
   "outputs": [],
   "source": [
    "#Importing important Library\n",
    "import pandas as pd\n",
    "import numpy as np\n",
    "from sklearn.ensemble import RandomForestRegressor\n",
    "from sklearn.model_selection import train_test_split\n",
    "from sklearn.metrics import mean_absolute_error\n",
    "import matplotlib.pyplot as plt\n",
    "import seaborn as sns\n",
    "import warnings\n",
    "warnings.filterwarnings('ignore')\n"
   ]
  },
  {
   "cell_type": "code",
   "execution_count": 2,
   "id": "c61fc403",
   "metadata": {},
   "outputs": [
    {
     "data": {
      "text/html": [
       "<div>\n",
       "<style scoped>\n",
       "    .dataframe tbody tr th:only-of-type {\n",
       "        vertical-align: middle;\n",
       "    }\n",
       "\n",
       "    .dataframe tbody tr th {\n",
       "        vertical-align: top;\n",
       "    }\n",
       "\n",
       "    .dataframe thead th {\n",
       "        text-align: right;\n",
       "    }\n",
       "</style>\n",
       "<table border=\"1\" class=\"dataframe\">\n",
       "  <thead>\n",
       "    <tr style=\"text-align: right;\">\n",
       "      <th></th>\n",
       "      <th>Unnamed: 0</th>\n",
       "      <th>Brand</th>\n",
       "      <th>Model</th>\n",
       "      <th>Manufacturing Year</th>\n",
       "      <th>Driven Kilometer</th>\n",
       "      <th>Fuels</th>\n",
       "      <th>No. of Owner</th>\n",
       "      <th>Variant</th>\n",
       "      <th>Location</th>\n",
       "      <th>Price</th>\n",
       "    </tr>\n",
       "  </thead>\n",
       "  <tbody>\n",
       "    <tr>\n",
       "      <th>0</th>\n",
       "      <td>0</td>\n",
       "      <td>KIA</td>\n",
       "      <td>SELTOS</td>\n",
       "      <td>2020</td>\n",
       "      <td>5,999 km</td>\n",
       "      <td>Petrol</td>\n",
       "      <td>1st Owner</td>\n",
       "      <td>GTX+</td>\n",
       "      <td>New Delhi</td>\n",
       "      <td>₹17,22,000</td>\n",
       "    </tr>\n",
       "    <tr>\n",
       "      <th>1</th>\n",
       "      <td>1</td>\n",
       "      <td>KIA</td>\n",
       "      <td>SELTOS</td>\n",
       "      <td>2020</td>\n",
       "      <td>9,417 km</td>\n",
       "      <td>Petrol</td>\n",
       "      <td>1st Owner</td>\n",
       "      <td>GTX</td>\n",
       "      <td>New Delhi</td>\n",
       "      <td>₹16,81,000</td>\n",
       "    </tr>\n",
       "    <tr>\n",
       "      <th>2</th>\n",
       "      <td>2</td>\n",
       "      <td>Hyundai</td>\n",
       "      <td>Grand</td>\n",
       "      <td>2019</td>\n",
       "      <td>19,964 km</td>\n",
       "      <td>Petrol</td>\n",
       "      <td>1st Owner</td>\n",
       "      <td>MAGNA</td>\n",
       "      <td>New Delhi</td>\n",
       "      <td>₹5,03,000</td>\n",
       "    </tr>\n",
       "    <tr>\n",
       "      <th>3</th>\n",
       "      <td>3</td>\n",
       "      <td>Maruti</td>\n",
       "      <td>Alto</td>\n",
       "      <td>2011</td>\n",
       "      <td>12,030 km</td>\n",
       "      <td>Petrol</td>\n",
       "      <td>2nd Owner</td>\n",
       "      <td>LXI</td>\n",
       "      <td>New Delhi</td>\n",
       "      <td>₹1,74,000</td>\n",
       "    </tr>\n",
       "    <tr>\n",
       "      <th>4</th>\n",
       "      <td>4</td>\n",
       "      <td>Hyundai</td>\n",
       "      <td>Grand</td>\n",
       "      <td>2019</td>\n",
       "      <td>20,969 km</td>\n",
       "      <td>Petrol</td>\n",
       "      <td>1st Owner</td>\n",
       "      <td>MAGNA</td>\n",
       "      <td>New Delhi</td>\n",
       "      <td>₹5,28,000</td>\n",
       "    </tr>\n",
       "    <tr>\n",
       "      <th>...</th>\n",
       "      <td>...</td>\n",
       "      <td>...</td>\n",
       "      <td>...</td>\n",
       "      <td>...</td>\n",
       "      <td>...</td>\n",
       "      <td>...</td>\n",
       "      <td>...</td>\n",
       "      <td>...</td>\n",
       "      <td>...</td>\n",
       "      <td>...</td>\n",
       "    </tr>\n",
       "    <tr>\n",
       "      <th>5501</th>\n",
       "      <td>5501</td>\n",
       "      <td>HONDA</td>\n",
       "      <td>AMAZE</td>\n",
       "      <td>2019</td>\n",
       "      <td>20,700 KM</td>\n",
       "      <td>PETROL</td>\n",
       "      <td>1ST OWNER</td>\n",
       "      <td>1.2L</td>\n",
       "      <td>Noida</td>\n",
       "      <td>₹6,50,000</td>\n",
       "    </tr>\n",
       "    <tr>\n",
       "      <th>5502</th>\n",
       "      <td>5502</td>\n",
       "      <td>Maruti</td>\n",
       "      <td>Suzuki</td>\n",
       "      <td>2011</td>\n",
       "      <td>29,838 KM</td>\n",
       "      <td>PETROL</td>\n",
       "      <td>2ND OWNER</td>\n",
       "      <td>LXIManual</td>\n",
       "      <td>Noida</td>\n",
       "      <td>₹1,69,000</td>\n",
       "    </tr>\n",
       "    <tr>\n",
       "      <th>5503</th>\n",
       "      <td>5503</td>\n",
       "      <td>Maruti</td>\n",
       "      <td>Suzuki</td>\n",
       "      <td>2018</td>\n",
       "      <td>58,200 KM</td>\n",
       "      <td>CNG</td>\n",
       "      <td>1ST OWNER</td>\n",
       "      <td>LXI</td>\n",
       "      <td>Noida</td>\n",
       "      <td>₹4,28,000</td>\n",
       "    </tr>\n",
       "    <tr>\n",
       "      <th>5504</th>\n",
       "      <td>5504</td>\n",
       "      <td>Mahindra</td>\n",
       "      <td>Thar</td>\n",
       "      <td>2022</td>\n",
       "      <td>1,102 KM</td>\n",
       "      <td>PETROL</td>\n",
       "      <td>1ST OWNER</td>\n",
       "      <td>LX</td>\n",
       "      <td>Noida</td>\n",
       "      <td>₹15,52,000</td>\n",
       "    </tr>\n",
       "    <tr>\n",
       "      <th>5505</th>\n",
       "      <td>5505</td>\n",
       "      <td>Renault</td>\n",
       "      <td>Kwid</td>\n",
       "      <td>2019</td>\n",
       "      <td>25,519 KM</td>\n",
       "      <td>PETROL</td>\n",
       "      <td>2ND OWNER</td>\n",
       "      <td>RXLManual</td>\n",
       "      <td>Noida</td>\n",
       "      <td>₹3,71,000</td>\n",
       "    </tr>\n",
       "  </tbody>\n",
       "</table>\n",
       "<p>5506 rows × 10 columns</p>\n",
       "</div>"
      ],
      "text/plain": [
       "      Unnamed: 0     Brand   Model  Manufacturing Year Driven Kilometer  \\\n",
       "0              0       KIA  SELTOS                2020         5,999 km   \n",
       "1              1       KIA  SELTOS                2020         9,417 km   \n",
       "2              2   Hyundai   Grand                2019        19,964 km   \n",
       "3              3    Maruti    Alto                2011        12,030 km   \n",
       "4              4   Hyundai   Grand                2019        20,969 km   \n",
       "...          ...       ...     ...                 ...              ...   \n",
       "5501        5501     HONDA   AMAZE                2019        20,700 KM   \n",
       "5502        5502    Maruti  Suzuki                2011        29,838 KM   \n",
       "5503        5503    Maruti  Suzuki                2018        58,200 KM   \n",
       "5504        5504  Mahindra    Thar                2022         1,102 KM   \n",
       "5505        5505   Renault    Kwid                2019        25,519 KM   \n",
       "\n",
       "       Fuels No. of Owner    Variant   Location       Price  \n",
       "0     Petrol    1st Owner       GTX+  New Delhi  ₹17,22,000  \n",
       "1     Petrol    1st Owner        GTX  New Delhi  ₹16,81,000  \n",
       "2     Petrol    1st Owner      MAGNA  New Delhi   ₹5,03,000  \n",
       "3     Petrol    2nd Owner        LXI  New Delhi   ₹1,74,000  \n",
       "4     Petrol    1st Owner      MAGNA  New Delhi   ₹5,28,000  \n",
       "...      ...          ...        ...        ...         ...  \n",
       "5501  PETROL    1ST OWNER       1.2L      Noida   ₹6,50,000  \n",
       "5502  PETROL    2ND OWNER  LXIManual      Noida   ₹1,69,000  \n",
       "5503     CNG    1ST OWNER        LXI      Noida   ₹4,28,000  \n",
       "5504  PETROL    1ST OWNER         LX      Noida  ₹15,52,000  \n",
       "5505  PETROL    2ND OWNER  RXLManual      Noida   ₹3,71,000  \n",
       "\n",
       "[5506 rows x 10 columns]"
      ]
     },
     "execution_count": 2,
     "metadata": {},
     "output_type": "execute_result"
    }
   ],
   "source": [
    "# Loading the csv file\n",
    "car=pd.read_csv(\"Car_Prediction.csv\")\n",
    "car"
   ]
  },
  {
   "cell_type": "code",
   "execution_count": 3,
   "id": "bdae3ad1",
   "metadata": {},
   "outputs": [],
   "source": [
    "#Dropping Unnecessary Columns\n",
    "car.drop(['Unnamed: 0'],axis=1,inplace=True)"
   ]
  },
  {
   "cell_type": "markdown",
   "id": "524ee6be",
   "metadata": {},
   "source": [
    "**Data Preprocessing**"
   ]
  },
  {
   "cell_type": "code",
   "execution_count": 4,
   "id": "263d18f3",
   "metadata": {
    "scrolled": true
   },
   "outputs": [
    {
     "data": {
      "text/html": [
       "<div>\n",
       "<style scoped>\n",
       "    .dataframe tbody tr th:only-of-type {\n",
       "        vertical-align: middle;\n",
       "    }\n",
       "\n",
       "    .dataframe tbody tr th {\n",
       "        vertical-align: top;\n",
       "    }\n",
       "\n",
       "    .dataframe thead th {\n",
       "        text-align: right;\n",
       "    }\n",
       "</style>\n",
       "<table border=\"1\" class=\"dataframe\">\n",
       "  <thead>\n",
       "    <tr style=\"text-align: right;\">\n",
       "      <th></th>\n",
       "      <th>Brand</th>\n",
       "      <th>Model</th>\n",
       "      <th>Manufacturing Year</th>\n",
       "      <th>Driven Kilometer</th>\n",
       "      <th>Fuels</th>\n",
       "      <th>No. of Owner</th>\n",
       "      <th>Variant</th>\n",
       "      <th>Location</th>\n",
       "      <th>Price</th>\n",
       "    </tr>\n",
       "  </thead>\n",
       "  <tbody>\n",
       "    <tr>\n",
       "      <th>0</th>\n",
       "      <td>KIA</td>\n",
       "      <td>SELTOS</td>\n",
       "      <td>2020</td>\n",
       "      <td>5,999 km</td>\n",
       "      <td>Petrol</td>\n",
       "      <td>1st Owner</td>\n",
       "      <td>GTX+</td>\n",
       "      <td>New Delhi</td>\n",
       "      <td>₹17,22,000</td>\n",
       "    </tr>\n",
       "    <tr>\n",
       "      <th>1</th>\n",
       "      <td>KIA</td>\n",
       "      <td>SELTOS</td>\n",
       "      <td>2020</td>\n",
       "      <td>9,417 km</td>\n",
       "      <td>Petrol</td>\n",
       "      <td>1st Owner</td>\n",
       "      <td>GTX</td>\n",
       "      <td>New Delhi</td>\n",
       "      <td>₹16,81,000</td>\n",
       "    </tr>\n",
       "    <tr>\n",
       "      <th>2</th>\n",
       "      <td>Hyundai</td>\n",
       "      <td>Grand</td>\n",
       "      <td>2019</td>\n",
       "      <td>19,964 km</td>\n",
       "      <td>Petrol</td>\n",
       "      <td>1st Owner</td>\n",
       "      <td>MAGNA</td>\n",
       "      <td>New Delhi</td>\n",
       "      <td>₹5,03,000</td>\n",
       "    </tr>\n",
       "    <tr>\n",
       "      <th>3</th>\n",
       "      <td>Maruti</td>\n",
       "      <td>Alto</td>\n",
       "      <td>2011</td>\n",
       "      <td>12,030 km</td>\n",
       "      <td>Petrol</td>\n",
       "      <td>2nd Owner</td>\n",
       "      <td>LXI</td>\n",
       "      <td>New Delhi</td>\n",
       "      <td>₹1,74,000</td>\n",
       "    </tr>\n",
       "    <tr>\n",
       "      <th>4</th>\n",
       "      <td>Hyundai</td>\n",
       "      <td>Grand</td>\n",
       "      <td>2019</td>\n",
       "      <td>20,969 km</td>\n",
       "      <td>Petrol</td>\n",
       "      <td>1st Owner</td>\n",
       "      <td>MAGNA</td>\n",
       "      <td>New Delhi</td>\n",
       "      <td>₹5,28,000</td>\n",
       "    </tr>\n",
       "    <tr>\n",
       "      <th>...</th>\n",
       "      <td>...</td>\n",
       "      <td>...</td>\n",
       "      <td>...</td>\n",
       "      <td>...</td>\n",
       "      <td>...</td>\n",
       "      <td>...</td>\n",
       "      <td>...</td>\n",
       "      <td>...</td>\n",
       "      <td>...</td>\n",
       "    </tr>\n",
       "    <tr>\n",
       "      <th>5501</th>\n",
       "      <td>HONDA</td>\n",
       "      <td>AMAZE</td>\n",
       "      <td>2019</td>\n",
       "      <td>20,700 KM</td>\n",
       "      <td>PETROL</td>\n",
       "      <td>1ST OWNER</td>\n",
       "      <td>1.2L</td>\n",
       "      <td>Noida</td>\n",
       "      <td>₹6,50,000</td>\n",
       "    </tr>\n",
       "    <tr>\n",
       "      <th>5502</th>\n",
       "      <td>Maruti</td>\n",
       "      <td>Suzuki</td>\n",
       "      <td>2011</td>\n",
       "      <td>29,838 KM</td>\n",
       "      <td>PETROL</td>\n",
       "      <td>2ND OWNER</td>\n",
       "      <td>LXIManual</td>\n",
       "      <td>Noida</td>\n",
       "      <td>₹1,69,000</td>\n",
       "    </tr>\n",
       "    <tr>\n",
       "      <th>5503</th>\n",
       "      <td>Maruti</td>\n",
       "      <td>Suzuki</td>\n",
       "      <td>2018</td>\n",
       "      <td>58,200 KM</td>\n",
       "      <td>CNG</td>\n",
       "      <td>1ST OWNER</td>\n",
       "      <td>LXI</td>\n",
       "      <td>Noida</td>\n",
       "      <td>₹4,28,000</td>\n",
       "    </tr>\n",
       "    <tr>\n",
       "      <th>5504</th>\n",
       "      <td>Mahindra</td>\n",
       "      <td>Thar</td>\n",
       "      <td>2022</td>\n",
       "      <td>1,102 KM</td>\n",
       "      <td>PETROL</td>\n",
       "      <td>1ST OWNER</td>\n",
       "      <td>LX</td>\n",
       "      <td>Noida</td>\n",
       "      <td>₹15,52,000</td>\n",
       "    </tr>\n",
       "    <tr>\n",
       "      <th>5505</th>\n",
       "      <td>Renault</td>\n",
       "      <td>Kwid</td>\n",
       "      <td>2019</td>\n",
       "      <td>25,519 KM</td>\n",
       "      <td>PETROL</td>\n",
       "      <td>2ND OWNER</td>\n",
       "      <td>RXLManual</td>\n",
       "      <td>Noida</td>\n",
       "      <td>₹3,71,000</td>\n",
       "    </tr>\n",
       "  </tbody>\n",
       "</table>\n",
       "<p>5506 rows × 9 columns</p>\n",
       "</div>"
      ],
      "text/plain": [
       "         Brand   Model  Manufacturing Year Driven Kilometer   Fuels  \\\n",
       "0          KIA  SELTOS                2020         5,999 km  Petrol   \n",
       "1          KIA  SELTOS                2020         9,417 km  Petrol   \n",
       "2      Hyundai   Grand                2019        19,964 km  Petrol   \n",
       "3       Maruti    Alto                2011        12,030 km  Petrol   \n",
       "4      Hyundai   Grand                2019        20,969 km  Petrol   \n",
       "...        ...     ...                 ...              ...     ...   \n",
       "5501     HONDA   AMAZE                2019        20,700 KM  PETROL   \n",
       "5502    Maruti  Suzuki                2011        29,838 KM  PETROL   \n",
       "5503    Maruti  Suzuki                2018        58,200 KM     CNG   \n",
       "5504  Mahindra    Thar                2022         1,102 KM  PETROL   \n",
       "5505   Renault    Kwid                2019        25,519 KM  PETROL   \n",
       "\n",
       "     No. of Owner    Variant   Location       Price  \n",
       "0       1st Owner       GTX+  New Delhi  ₹17,22,000  \n",
       "1       1st Owner        GTX  New Delhi  ₹16,81,000  \n",
       "2       1st Owner      MAGNA  New Delhi   ₹5,03,000  \n",
       "3       2nd Owner        LXI  New Delhi   ₹1,74,000  \n",
       "4       1st Owner      MAGNA  New Delhi   ₹5,28,000  \n",
       "...           ...        ...        ...         ...  \n",
       "5501    1ST OWNER       1.2L      Noida   ₹6,50,000  \n",
       "5502    2ND OWNER  LXIManual      Noida   ₹1,69,000  \n",
       "5503    1ST OWNER        LXI      Noida   ₹4,28,000  \n",
       "5504    1ST OWNER         LX      Noida  ₹15,52,000  \n",
       "5505    2ND OWNER  RXLManual      Noida   ₹3,71,000  \n",
       "\n",
       "[5506 rows x 9 columns]"
      ]
     },
     "execution_count": 4,
     "metadata": {},
     "output_type": "execute_result"
    }
   ],
   "source": [
    "car"
   ]
  },
  {
   "cell_type": "code",
   "execution_count": 5,
   "id": "1aba7a30",
   "metadata": {},
   "outputs": [
    {
     "name": "stdout",
     "output_type": "stream",
     "text": [
      "Shape of Data : (5506, 9)\n"
     ]
    }
   ],
   "source": [
    "#Checking the shape of the dataset\n",
    "print('Shape of Data :',car.shape)"
   ]
  },
  {
   "cell_type": "code",
   "execution_count": 6,
   "id": "3b59d92f",
   "metadata": {},
   "outputs": [
    {
     "data": {
      "text/plain": [
       "Brand                   0\n",
       "Model                   0\n",
       "Manufacturing Year      0\n",
       "Driven Kilometer        0\n",
       "Fuels                   0\n",
       "No. of Owner            0\n",
       "Variant                 0\n",
       "Location                0\n",
       "Price                 732\n",
       "dtype: int64"
      ]
     },
     "execution_count": 6,
     "metadata": {},
     "output_type": "execute_result"
    }
   ],
   "source": [
    "#Checking the null values if any\n",
    "car.isnull().sum()"
   ]
  },
  {
   "cell_type": "markdown",
   "id": "f92be982",
   "metadata": {},
   "source": [
    "As we can that there are many null value present in our target column which isthe Price column we have to drop the null value to get the better accuracy of the Model"
   ]
  },
  {
   "cell_type": "code",
   "execution_count": 7,
   "id": "75cc560b",
   "metadata": {},
   "outputs": [
    {
     "data": {
      "text/plain": [
       "<AxesSubplot:>"
      ]
     },
     "execution_count": 7,
     "metadata": {},
     "output_type": "execute_result"
    },
    {
     "data": {
      "image/png": "[encoded data removed]",
      "text/plain": [
       "<Figure size 432x288 with 2 Axes>"
      ]
     },
     "metadata": {
      "needs_background": "light"
     },
     "output_type": "display_data"
    }
   ],
   "source": [
    "#plotting heatmap to show the null value present in each column.\n",
    "sns.heatmap(car.isnull())"
   ]
  },
  {
   "cell_type": "code",
   "execution_count": 8,
   "id": "87eff59d",
   "metadata": {},
   "outputs": [
    {
     "name": "stdout",
     "output_type": "stream",
     "text": [
      "<class 'pandas.core.frame.DataFrame'>\n",
      "RangeIndex: 5506 entries, 0 to 5505\n",
      "Data columns (total 9 columns):\n",
      " #   Column              Non-Null Count  Dtype \n",
      "---  ------              --------------  ----- \n",
      " 0   Brand               5506 non-null   object\n",
      " 1   Model               5506 non-null   object\n",
      " 2   Manufacturing Year  5506 non-null   int64 \n",
      " 3   Driven Kilometer    5506 non-null   object\n",
      " 4   Fuels               5506 non-null   object\n",
      " 5   No. of Owner        5506 non-null   object\n",
      " 6   Variant             5506 non-null   object\n",
      " 7   Location            5506 non-null   object\n",
      " 8   Price               4774 non-null   object\n",
      "dtypes: int64(1), object(8)\n",
      "memory usage: 387.3+ KB\n"
     ]
    }
   ],
   "source": [
    "#Checking the nature of DType\n",
    "car.info()"
   ]
  },
  {
   "cell_type": "code",
   "execution_count": 9,
   "id": "de6461c7",
   "metadata": {},
   "outputs": [],
   "source": [
    "#Price is an object data we have convert it into float  value."
   ]
  },
  {
   "cell_type": "code",
   "execution_count": 10,
   "id": "07c79e8d",
   "metadata": {},
   "outputs": [],
   "source": [
    "car['Price']=car['Price'].str.replace(',', '').str.replace('₹', '')"
   ]
  },
  {
   "cell_type": "code",
   "execution_count": 11,
   "id": "2e171e13",
   "metadata": {},
   "outputs": [],
   "source": [
    "car['Price'].fillna(0,inplace=True)"
   ]
  },
  {
   "cell_type": "code",
   "execution_count": 12,
   "id": "c167a3ae",
   "metadata": {},
   "outputs": [],
   "source": [
    "car['Price']=car['Price'].astype(float)"
   ]
  },
  {
   "cell_type": "code",
   "execution_count": 13,
   "id": "68e1588b",
   "metadata": {},
   "outputs": [],
   "source": [
    "#Driven Kilometer also have have some unnecessary value with it remove defaults space and KM and converting it into int value Dtype\n",
    "car['Driven Kilometer']=car['Driven Kilometer'].str.replace(',', '').str.replace('KM', '')\n"
   ]
  },
  {
   "cell_type": "code",
   "execution_count": 14,
   "id": "2948a798",
   "metadata": {},
   "outputs": [],
   "source": [
    "car['Driven Kilometer']=car['Driven Kilometer'].str.replace(',', '').str.replace('km', '')\n"
   ]
  },
  {
   "cell_type": "code",
   "execution_count": 15,
   "id": "70ad0dde",
   "metadata": {},
   "outputs": [],
   "source": [
    "car['Driven Kilometer']=car['Driven Kilometer'].astype(int)"
   ]
  },
  {
   "cell_type": "code",
   "execution_count": 16,
   "id": "56e6e77c",
   "metadata": {},
   "outputs": [
    {
     "data": {
      "text/html": [
       "<div>\n",
       "<style scoped>\n",
       "    .dataframe tbody tr th:only-of-type {\n",
       "        vertical-align: middle;\n",
       "    }\n",
       "\n",
       "    .dataframe tbody tr th {\n",
       "        vertical-align: top;\n",
       "    }\n",
       "\n",
       "    .dataframe thead th {\n",
       "        text-align: right;\n",
       "    }\n",
       "</style>\n",
       "<table border=\"1\" class=\"dataframe\">\n",
       "  <thead>\n",
       "    <tr style=\"text-align: right;\">\n",
       "      <th></th>\n",
       "      <th>Brand</th>\n",
       "      <th>Model</th>\n",
       "      <th>Manufacturing Year</th>\n",
       "      <th>Driven Kilometer</th>\n",
       "      <th>Fuels</th>\n",
       "      <th>No. of Owner</th>\n",
       "      <th>Variant</th>\n",
       "      <th>Location</th>\n",
       "      <th>Price</th>\n",
       "      <th>log_Price</th>\n",
       "    </tr>\n",
       "  </thead>\n",
       "  <tbody>\n",
       "    <tr>\n",
       "      <th>0</th>\n",
       "      <td>KIA</td>\n",
       "      <td>SELTOS</td>\n",
       "      <td>2020</td>\n",
       "      <td>5999</td>\n",
       "      <td>Petrol</td>\n",
       "      <td>1st Owner</td>\n",
       "      <td>GTX+</td>\n",
       "      <td>New Delhi</td>\n",
       "      <td>1722000.0</td>\n",
       "      <td>14.358997</td>\n",
       "    </tr>\n",
       "    <tr>\n",
       "      <th>1</th>\n",
       "      <td>KIA</td>\n",
       "      <td>SELTOS</td>\n",
       "      <td>2020</td>\n",
       "      <td>9417</td>\n",
       "      <td>Petrol</td>\n",
       "      <td>1st Owner</td>\n",
       "      <td>GTX</td>\n",
       "      <td>New Delhi</td>\n",
       "      <td>1681000.0</td>\n",
       "      <td>14.334899</td>\n",
       "    </tr>\n",
       "    <tr>\n",
       "      <th>2</th>\n",
       "      <td>Hyundai</td>\n",
       "      <td>Grand</td>\n",
       "      <td>2019</td>\n",
       "      <td>19964</td>\n",
       "      <td>Petrol</td>\n",
       "      <td>1st Owner</td>\n",
       "      <td>MAGNA</td>\n",
       "      <td>New Delhi</td>\n",
       "      <td>503000.0</td>\n",
       "      <td>13.128345</td>\n",
       "    </tr>\n",
       "    <tr>\n",
       "      <th>3</th>\n",
       "      <td>Maruti</td>\n",
       "      <td>Alto</td>\n",
       "      <td>2011</td>\n",
       "      <td>12030</td>\n",
       "      <td>Petrol</td>\n",
       "      <td>2nd Owner</td>\n",
       "      <td>LXI</td>\n",
       "      <td>New Delhi</td>\n",
       "      <td>174000.0</td>\n",
       "      <td>12.066811</td>\n",
       "    </tr>\n",
       "    <tr>\n",
       "      <th>4</th>\n",
       "      <td>Hyundai</td>\n",
       "      <td>Grand</td>\n",
       "      <td>2019</td>\n",
       "      <td>20969</td>\n",
       "      <td>Petrol</td>\n",
       "      <td>1st Owner</td>\n",
       "      <td>MAGNA</td>\n",
       "      <td>New Delhi</td>\n",
       "      <td>528000.0</td>\n",
       "      <td>13.176852</td>\n",
       "    </tr>\n",
       "  </tbody>\n",
       "</table>\n",
       "</div>"
      ],
      "text/plain": [
       "     Brand   Model  Manufacturing Year  Driven Kilometer   Fuels No. of Owner  \\\n",
       "0      KIA  SELTOS                2020              5999  Petrol    1st Owner   \n",
       "1      KIA  SELTOS                2020              9417  Petrol    1st Owner   \n",
       "2  Hyundai   Grand                2019             19964  Petrol    1st Owner   \n",
       "3   Maruti    Alto                2011             12030  Petrol    2nd Owner   \n",
       "4  Hyundai   Grand                2019             20969  Petrol    1st Owner   \n",
       "\n",
       "  Variant   Location      Price  log_Price  \n",
       "0    GTX+  New Delhi  1722000.0  14.358997  \n",
       "1     GTX  New Delhi  1681000.0  14.334899  \n",
       "2   MAGNA  New Delhi   503000.0  13.128345  \n",
       "3     LXI  New Delhi   174000.0  12.066811  \n",
       "4   MAGNA  New Delhi   528000.0  13.176852  "
      ]
     },
     "execution_count": 16,
     "metadata": {},
     "output_type": "execute_result"
    }
   ],
   "source": [
    "# transforming 'Price' with a log transformation to reduce the effect of extreme Value improve model accuracy\n",
    "log_price = np.log(car['Price'])\n",
    "\n",
    "# Then we add it to our data frame\n",
    "car['log_Price'] = log_price\n",
    "car.head()"
   ]
  },
  {
   "cell_type": "code",
   "execution_count": 17,
   "id": "7d00c97a",
   "metadata": {},
   "outputs": [
    {
     "data": {
      "text/plain": [
       "0        5999\n",
       "1        9417\n",
       "2       19964\n",
       "3       12030\n",
       "4       20969\n",
       "        ...  \n",
       "5501    20700\n",
       "5502    29838\n",
       "5503    58200\n",
       "5504     1102\n",
       "5505    25519\n",
       "Name: Driven Kilometer, Length: 5506, dtype: int32"
      ]
     },
     "execution_count": 17,
     "metadata": {},
     "output_type": "execute_result"
    }
   ],
   "source": [
    "car['Driven Kilometer']"
   ]
  },
  {
   "cell_type": "code",
   "execution_count": 18,
   "id": "2a53b158",
   "metadata": {},
   "outputs": [
    {
     "name": "stdout",
     "output_type": "stream",
     "text": [
      "0       petrol\n",
      "1       petrol\n",
      "2       petrol\n",
      "3       petrol\n",
      "4       petrol\n",
      "         ...  \n",
      "5501    petrol\n",
      "5502    petrol\n",
      "5503       cng\n",
      "5504    petrol\n",
      "5505    petrol\n",
      "Name: Fuels, Length: 5506, dtype: object\n"
     ]
    }
   ],
   "source": [
    "#Changing data to lower case as it will show two diffrent data.  \n",
    "car['Fuels']=[x.lower() for x in car['Fuels']]\n",
    "print(car['Fuels'])"
   ]
  },
  {
   "cell_type": "code",
   "execution_count": 19,
   "id": "df3e1b59",
   "metadata": {},
   "outputs": [
    {
     "name": "stdout",
     "output_type": "stream",
     "text": [
      "0       1st owner\n",
      "1       1st owner\n",
      "2       1st owner\n",
      "3       2nd owner\n",
      "4       1st owner\n",
      "          ...    \n",
      "5501    1st owner\n",
      "5502    2nd owner\n",
      "5503    1st owner\n",
      "5504    1st owner\n",
      "5505    2nd owner\n",
      "Name: No. of Owner, Length: 5506, dtype: object\n"
     ]
    }
   ],
   "source": [
    "#Changing data to lower case as it will show two diffrent data.  \n",
    "car['No. of Owner']=[x.lower() for x in car['No. of Owner']]\n",
    "print(car['No. of Owner'])"
   ]
  },
  {
   "cell_type": "code",
   "execution_count": 21,
   "id": "3be870a1",
   "metadata": {},
   "outputs": [
    {
     "data": {
      "text/plain": [
       "<AxesSubplot:>"
      ]
     },
     "execution_count": 21,
     "metadata": {},
     "output_type": "execute_result"
    },
    {
     "data": {
      "image/png": "[encoded data removed]",
      "text/plain": [
       "<Figure size 432x288 with 2 Axes>"
      ]
     },
     "metadata": {
      "needs_background": "light"
     },
     "output_type": "display_data"
    }
   ],
   "source": [
    "sns.heatmap(car.isnull())"
   ]
  },
  {
   "cell_type": "markdown",
   "id": "9ff2eac1",
   "metadata": {},
   "source": [
    "**Feature Extraction**"
   ]
  },
  {
   "cell_type": "code",
   "execution_count": 23,
   "id": "9ba831f1",
   "metadata": {},
   "outputs": [],
   "source": [
    " #Calculating  the actual Age of the car.\n",
    "\n",
    "car[\"Age\"]=2023-car[\"Manufacturing Year\"]"
   ]
  },
  {
   "cell_type": "code",
   "execution_count": 24,
   "id": "084350bb",
   "metadata": {},
   "outputs": [],
   "source": [
    "car.drop(['Manufacturing Year'],axis=1,inplace=True) #Dropping the Manufacture_Year  it serves no purpose now"
   ]
  },
  {
   "cell_type": "markdown",
   "id": "39934394",
   "metadata": {},
   "source": [
    "#    Data Exploration & Visualization"
   ]
  },
  {
   "cell_type": "markdown",
   "id": "7d7368ac",
   "metadata": {},
   "source": [
    "**Checking no of max unique value of  in each columns through Barplot**"
   ]
  },
  {
   "cell_type": "code",
   "execution_count": 25,
   "id": "06ac8e19",
   "metadata": {},
   "outputs": [
    {
     "name": "stdout",
     "output_type": "stream",
     "text": [
      "Categorical variables:\n",
      "['Brand', 'Model', 'Fuels', 'No. of Owner', 'Variant', 'Location']\n"
     ]
    }
   ],
   "source": [
    "#keeping  all the categorical variables in object_cols\n",
    "s = (car.dtypes == 'object')\n",
    "object_cols = list(s[s].index)\n",
    "print(\"Categorical variables:\")\n",
    "print(object_cols)"
   ]
  },
  {
   "cell_type": "code",
   "execution_count": 26,
   "id": "f4eed317",
   "metadata": {},
   "outputs": [
    {
     "data": {
      "text/plain": [
       "<AxesSubplot:title={'center':'Number Of Unique value of the categorical Features'}>"
      ]
     },
     "execution_count": 26,
     "metadata": {},
     "output_type": "execute_result"
    },
    {
     "data": {
      "image/png": "[encoded data removed]",
      "text/plain": [
       "<Figure size 864x576 with 1 Axes>"
      ]
     },
     "metadata": {
      "needs_background": "light"
     },
     "output_type": "display_data"
    }
   ],
   "source": [
    "# Creating barplot to visualize which colum has high no. of unque value count of categorical feature.\n",
    "unique_val=[]\n",
    "for col in object_cols:\n",
    "    unique_val.append (car[col].unique().size)\n",
    "plt.figure(figsize=(12,8))\n",
    "plt.title('Number Of Unique value of the categorical Features')\n",
    "plt.xticks(rotation=90)\n",
    "sns.barplot(x=object_cols,y=unique_val)"
   ]
  },
  {
   "cell_type": "markdown",
   "id": "43e62cb4",
   "metadata": {},
   "source": [
    "observation :As from the above result driven Variant  has the high no of Unique value followed by Model brand has 31 unique value."
   ]
  },
  {
   "cell_type": "code",
   "execution_count": 28,
   "id": "988153ef",
   "metadata": {},
   "outputs": [
    {
     "data": {
      "image/png": "[encoded data removed]",
      "text/plain": [
       "<Figure size 1296x2592 with 6 Axes>"
      ]
     },
     "metadata": {
      "needs_background": "light"
     },
     "output_type": "display_data"
    }
   ],
   "source": [
    "# Visulaizing the value counts in each of the columns. \n",
    "plt.figure(figsize=(18,36))\n",
    "plt.title('Categorical Features: Distribution')\n",
    "plt.xticks(rotation=90)\n",
    "index=1\n",
    "for col in object_cols:\n",
    "    y= car[col].value_counts()\n",
    "    plt.subplot(11,3,index)\n",
    "    plt.xticks(rotation=90)\n",
    "    sns.barplot(x=list(y.index),y=y)\n",
    "    index+=1"
   ]
  },
  {
   "cell_type": "code",
   "execution_count": 29,
   "id": "507fd47a",
   "metadata": {},
   "outputs": [
    {
     "data": {
      "image/png": "[encoded data removed]",
      "text/plain": [
       "<Figure size 432x288 with 1 Axes>"
      ]
     },
     "metadata": {
      "needs_background": "light"
     },
     "output_type": "display_data"
    }
   ],
   "source": [
    "# Creating a histogram of the \"Price\" column\n",
    "car[\"Price\"].plot.hist(bins=20, edgecolor='black', alpha=0.7)\n",
    "\n",
    "# Adding labels and titles to the plot\n",
    "plt.xlabel(\"Price (In lakh)\")\n",
    "plt.ylabel(\"Frequency\")\n",
    "plt.title(\"Histogram of Prices\")\n",
    "\n",
    "# Showing the plot\n",
    "plt.show()"
   ]
  },
  {
   "cell_type": "markdown",
   "id": "28623eeb",
   "metadata": {},
   "source": [
    "observation: from above observation  we can see that frequency is high in price between 1 to 9 lakh and after that sudden decrease."
   ]
  },
  {
   "cell_type": "code",
   "execution_count": 30,
   "id": "455f8bec",
   "metadata": {},
   "outputs": [
    {
     "data": {
      "image/png": "[encoded data removed]",
      "text/plain": [
       "<Figure size 1080x360 with 1 Axes>"
      ]
     },
     "metadata": {
      "needs_background": "light"
     },
     "output_type": "display_data"
    }
   ],
   "source": [
    "plt.figure(figsize=[15,5])\n",
    "plt.subplot(1,3,3)\n",
    "sns.barplot(car['Fuels'],car['Price'])\n",
    "plt.title('Selling Price Vs Fuel Type')\n",
    "\n",
    "plt.show()"
   ]
  },
  {
   "cell_type": "markdown",
   "id": "da1b9ebd",
   "metadata": {},
   "source": [
    "Diesel vechile price is higher than that of petrol and CNG  hybrid is hitting the lower circuit."
   ]
  },
  {
   "cell_type": "code",
   "execution_count": 31,
   "id": "34e64b3b",
   "metadata": {},
   "outputs": [
    {
     "data": {
      "image/png": "[encoded data removed]",
      "text/plain": [
       "<Figure size 3600x360 with 1 Axes>"
      ]
     },
     "metadata": {
      "needs_background": "light"
     },
     "output_type": "display_data"
    }
   ],
   "source": [
    "plt.figure(figsize=[50,5])\n",
    "\n",
    "plt.subplot(1,3,1)\n",
    "sns.barplot(car['Brand'], car['Price'])\n",
    "plt.title('Price Vs Brand')\n",
    "plt.xticks(rotation=90)\n",
    "plt.show()"
   ]
  },
  {
   "cell_type": "markdown",
   "id": "7744048e",
   "metadata": {},
   "source": [
    "Audi has the highest Price followed by Mahindra&Jeep. As we are moving to luxury car Brands there been seen in the increase of the Price. "
   ]
  },
  {
   "cell_type": "code",
   "execution_count": 32,
   "id": "f236cce6",
   "metadata": {},
   "outputs": [
    {
     "data": {
      "image/png": "[encoded data removed]",
      "text/plain": [
       "<Figure size 720x360 with 1 Axes>"
      ]
     },
     "metadata": {
      "needs_background": "light"
     },
     "output_type": "display_data"
    }
   ],
   "source": [
    "plt.figure(figsize=[10,5])\n",
    "plt.subplot(1,3,2)\n",
    "sns.barplot(car['No. of Owner'],car['Price'])\n",
    "plt.title('Price Vs No. of Owner')\n",
    "plt.show()"
   ]
  },
  {
   "cell_type": "markdown",
   "id": "6900763a",
   "metadata": {},
   "source": [
    "1st owner car Price is higher to that of the 2nd and 3rd owner"
   ]
  },
  {
   "cell_type": "code",
   "execution_count": 33,
   "id": "1465cec7",
   "metadata": {},
   "outputs": [
    {
     "data": {
      "image/png": "[encoded data removed]",
      "text/plain": [
       "<Figure size 432x288 with 1 Axes>"
      ]
     },
     "metadata": {
      "needs_background": "light"
     },
     "output_type": "display_data"
    }
   ],
   "source": [
    "# Creating a scatter plot\n",
    "plt.scatter(car['Driven Kilometer'],car['log_Price'])\n",
    "\n",
    "# Adding labels and title to the plot\n",
    "plt.xlabel('Driven Kilometer')\n",
    "plt.ylabel('Price')\n",
    "plt.title('Price vs Driven Kilometers')\n",
    "\n",
    "# Show the plot\n",
    "plt.show()"
   ]
  },
  {
   "cell_type": "markdown",
   "id": "0fda6ca9",
   "metadata": {},
   "source": [
    "As the no of kilometers increases  Price of vechile decreasing."
   ]
  },
  {
   "cell_type": "code",
   "execution_count": 34,
   "id": "fa072da1",
   "metadata": {},
   "outputs": [
    {
     "data": {
      "text/plain": [
       "<AxesSubplot:title={'center':'Price and Year'}, xlabel='Age', ylabel='log_Price'>"
      ]
     },
     "execution_count": 34,
     "metadata": {},
     "output_type": "execute_result"
    },
    {
     "data": {
      "image/png": "[encoded data removed]",
      "text/plain": [
       "<Figure size 1440x504 with 1 Axes>"
      ]
     },
     "metadata": {
      "needs_background": "light"
     },
     "output_type": "display_data"
    }
   ],
   "source": [
    "plt.figure(figsize=[20,7])\n",
    "plt.subplot(1,3,1)\n",
    "plt.title(\"Price and Year\")\n",
    "sns.scatterplot(x='Age',y='log_Price',data=car)"
   ]
  },
  {
   "cell_type": "markdown",
   "id": "6cb76947",
   "metadata": {},
   "source": [
    "Observation : Age determines the Price of the car if it increasing Price decresing."
   ]
  },
  {
   "cell_type": "code",
   "execution_count": 35,
   "id": "1d7a71f2",
   "metadata": {},
   "outputs": [
    {
     "data": {
      "image/png": "[encoded data removed]",
      "text/plain": [
       "<Figure size 7200x360 with 1 Axes>"
      ]
     },
     "metadata": {
      "needs_background": "light"
     },
     "output_type": "display_data"
    }
   ],
   "source": [
    "plt.figure(figsize=[100,5])\n",
    "plt.subplot(1,3,2)\n",
    "sns.barplot(car['Variant'],car['Price'])\n",
    "plt.xticks(rotation=90)\n",
    "plt.title('Price vs Variant')\n",
    "plt.show()"
   ]
  },
  {
   "cell_type": "markdown",
   "id": "40e6be2f",
   "metadata": {},
   "source": [
    "obv:As we go to top variant of the car  Price is increasing"
   ]
  },
  {
   "cell_type": "code",
   "execution_count": 36,
   "id": "c686d6ee",
   "metadata": {},
   "outputs": [
    {
     "data": {
      "image/png": "[encoded data removed]",
      "text/plain": [
       "<Figure size 720x720 with 2 Axes>"
      ]
     },
     "metadata": {
      "needs_background": "light"
     },
     "output_type": "display_data"
    }
   ],
   "source": [
    "# Finds correlation between Independent and dependent attributes\n",
    "\n",
    "plt.figure(figsize = (10,10))\n",
    "sns.heatmap(car.corr(), annot = True,)\n",
    "\n",
    "plt.show()"
   ]
  },
  {
   "cell_type": "markdown",
   "id": "0a3eecae",
   "metadata": {},
   "source": [
    "We consider a relation between Age and Driven kilometer"
   ]
  },
  {
   "cell_type": "code",
   "execution_count": 37,
   "id": "ecd0d920",
   "metadata": {},
   "outputs": [],
   "source": [
    "# Computing the number of unique models for each brand\n",
    "brand_model_counts = car.groupby(\"Brand\")[\"Model\"].nunique()\n",
    "\n",
    "# Creating a dictionary that maps each brand to a model category\n",
    "model_categories = {\n",
    "    Brand: \"many_models\" if count > brand_model_counts.mean() else \"few_models\"\n",
    "    for Brand, count in brand_model_counts.items()\n",
    "}\n",
    "\n",
    "# Creating a new column that summarizes the number of models for each brand\n",
    "car[\"brand_model_category\"] = car[\"Brand\"].map(model_categories)\n",
    "\n",
    "# Use get_dummies to one-hot encode the brand_model_category column\n",
    "car = pd.get_dummies(car, columns=[\"brand_model_category\"])\n",
    "\n",
    "# Droping the original model column\n",
    "car = car.drop(\"Model\", axis=1)\n",
    "\n",
    "\n"
   ]
  },
  {
   "cell_type": "code",
   "execution_count": 38,
   "id": "1e38144e",
   "metadata": {},
   "outputs": [],
   "source": [
    "# Computing the number of unique variants for each brand\n",
    "brand_variant_counts = car.groupby(\"Brand\")[\"Variant\"].nunique()\n",
    "\n",
    "# Creating a dictionary that maps each brand to a variant category\n",
    "variant_categories = {\n",
    "    Brand: \"many_variants\" if count > brand_variant_counts.mean() else \"few_variants\"\n",
    "    for Brand, count in brand_variant_counts.items()\n",
    "}\n",
    "\n",
    "# Creating a new column that summarizes the number of variants for each brand\n",
    "car[\"brand_variant_category\"] = car[\"Brand\"].map(variant_categories)\n",
    "\n",
    "# Using get_dummies to one-hot encode the brand_variant_category column\n",
    "car = pd.get_dummies(car, columns=[\"brand_variant_category\"])\n",
    "\n",
    "# Droping the original variant column\n",
    "car = car.drop(\"Variant\", axis=1)\n"
   ]
  },
  {
   "cell_type": "code",
   "execution_count": 39,
   "id": "78095035",
   "metadata": {},
   "outputs": [],
   "source": [
    "# Computing the average price for each brand\n",
    "brand_prices = car.groupby(\"Brand\")[\"Price\"].mean()\n",
    "\n",
    "# Creating a dictionary that maps each brand to a price category\n",
    "price_categories = {\n",
    "    Brand: \"high-end\" if Price > brand_prices.mean() else \"budget\"\n",
    "    for Brand, Price in brand_prices.items()\n",
    "}\n",
    "\n",
    "# Maping the brands to their price categories\n",
    "car[\"brand_category\"] = car[\"Brand\"].map(price_categories)\n",
    "\n",
    "# Using get_dummies to one-hot encode the brand_category column\n",
    "car= pd.get_dummies(car, columns=[\"brand_category\"])\n",
    "\n",
    "# Droping the original brand column\n",
    "car= car.drop(\"Brand\", axis=1)\n"
   ]
  },
  {
   "cell_type": "code",
   "execution_count": 40,
   "id": "e0c25afd",
   "metadata": {},
   "outputs": [
    {
     "data": {
      "text/html": [
       "<div>\n",
       "<style scoped>\n",
       "    .dataframe tbody tr th:only-of-type {\n",
       "        vertical-align: middle;\n",
       "    }\n",
       "\n",
       "    .dataframe tbody tr th {\n",
       "        vertical-align: top;\n",
       "    }\n",
       "\n",
       "    .dataframe thead th {\n",
       "        text-align: right;\n",
       "    }\n",
       "</style>\n",
       "<table border=\"1\" class=\"dataframe\">\n",
       "  <thead>\n",
       "    <tr style=\"text-align: right;\">\n",
       "      <th></th>\n",
       "      <th>Driven Kilometer</th>\n",
       "      <th>Fuels</th>\n",
       "      <th>No. of Owner</th>\n",
       "      <th>Location</th>\n",
       "      <th>Price</th>\n",
       "      <th>log_Price</th>\n",
       "      <th>Age</th>\n",
       "      <th>brand_model_category_few_models</th>\n",
       "      <th>brand_model_category_many_models</th>\n",
       "      <th>brand_variant_category_few_variants</th>\n",
       "      <th>brand_variant_category_many_variants</th>\n",
       "      <th>brand_category_budget</th>\n",
       "      <th>brand_category_high-end</th>\n",
       "    </tr>\n",
       "  </thead>\n",
       "  <tbody>\n",
       "    <tr>\n",
       "      <th>0</th>\n",
       "      <td>5999</td>\n",
       "      <td>petrol</td>\n",
       "      <td>1st owner</td>\n",
       "      <td>New Delhi</td>\n",
       "      <td>1722000.0</td>\n",
       "      <td>14.358997</td>\n",
       "      <td>3</td>\n",
       "      <td>1</td>\n",
       "      <td>0</td>\n",
       "      <td>0</td>\n",
       "      <td>1</td>\n",
       "      <td>0</td>\n",
       "      <td>1</td>\n",
       "    </tr>\n",
       "    <tr>\n",
       "      <th>1</th>\n",
       "      <td>9417</td>\n",
       "      <td>petrol</td>\n",
       "      <td>1st owner</td>\n",
       "      <td>New Delhi</td>\n",
       "      <td>1681000.0</td>\n",
       "      <td>14.334899</td>\n",
       "      <td>3</td>\n",
       "      <td>1</td>\n",
       "      <td>0</td>\n",
       "      <td>0</td>\n",
       "      <td>1</td>\n",
       "      <td>0</td>\n",
       "      <td>1</td>\n",
       "    </tr>\n",
       "    <tr>\n",
       "      <th>2</th>\n",
       "      <td>19964</td>\n",
       "      <td>petrol</td>\n",
       "      <td>1st owner</td>\n",
       "      <td>New Delhi</td>\n",
       "      <td>503000.0</td>\n",
       "      <td>13.128345</td>\n",
       "      <td>4</td>\n",
       "      <td>0</td>\n",
       "      <td>1</td>\n",
       "      <td>0</td>\n",
       "      <td>1</td>\n",
       "      <td>1</td>\n",
       "      <td>0</td>\n",
       "    </tr>\n",
       "    <tr>\n",
       "      <th>3</th>\n",
       "      <td>12030</td>\n",
       "      <td>petrol</td>\n",
       "      <td>2nd owner</td>\n",
       "      <td>New Delhi</td>\n",
       "      <td>174000.0</td>\n",
       "      <td>12.066811</td>\n",
       "      <td>12</td>\n",
       "      <td>0</td>\n",
       "      <td>1</td>\n",
       "      <td>0</td>\n",
       "      <td>1</td>\n",
       "      <td>1</td>\n",
       "      <td>0</td>\n",
       "    </tr>\n",
       "    <tr>\n",
       "      <th>4</th>\n",
       "      <td>20969</td>\n",
       "      <td>petrol</td>\n",
       "      <td>1st owner</td>\n",
       "      <td>New Delhi</td>\n",
       "      <td>528000.0</td>\n",
       "      <td>13.176852</td>\n",
       "      <td>4</td>\n",
       "      <td>0</td>\n",
       "      <td>1</td>\n",
       "      <td>0</td>\n",
       "      <td>1</td>\n",
       "      <td>1</td>\n",
       "      <td>0</td>\n",
       "    </tr>\n",
       "    <tr>\n",
       "      <th>...</th>\n",
       "      <td>...</td>\n",
       "      <td>...</td>\n",
       "      <td>...</td>\n",
       "      <td>...</td>\n",
       "      <td>...</td>\n",
       "      <td>...</td>\n",
       "      <td>...</td>\n",
       "      <td>...</td>\n",
       "      <td>...</td>\n",
       "      <td>...</td>\n",
       "      <td>...</td>\n",
       "      <td>...</td>\n",
       "      <td>...</td>\n",
       "    </tr>\n",
       "    <tr>\n",
       "      <th>5501</th>\n",
       "      <td>20700</td>\n",
       "      <td>petrol</td>\n",
       "      <td>1st owner</td>\n",
       "      <td>Noida</td>\n",
       "      <td>650000.0</td>\n",
       "      <td>13.384728</td>\n",
       "      <td>4</td>\n",
       "      <td>1</td>\n",
       "      <td>0</td>\n",
       "      <td>1</td>\n",
       "      <td>0</td>\n",
       "      <td>0</td>\n",
       "      <td>1</td>\n",
       "    </tr>\n",
       "    <tr>\n",
       "      <th>5502</th>\n",
       "      <td>29838</td>\n",
       "      <td>petrol</td>\n",
       "      <td>2nd owner</td>\n",
       "      <td>Noida</td>\n",
       "      <td>169000.0</td>\n",
       "      <td>12.037654</td>\n",
       "      <td>12</td>\n",
       "      <td>0</td>\n",
       "      <td>1</td>\n",
       "      <td>0</td>\n",
       "      <td>1</td>\n",
       "      <td>1</td>\n",
       "      <td>0</td>\n",
       "    </tr>\n",
       "    <tr>\n",
       "      <th>5503</th>\n",
       "      <td>58200</td>\n",
       "      <td>cng</td>\n",
       "      <td>1st owner</td>\n",
       "      <td>Noida</td>\n",
       "      <td>428000.0</td>\n",
       "      <td>12.966878</td>\n",
       "      <td>5</td>\n",
       "      <td>0</td>\n",
       "      <td>1</td>\n",
       "      <td>0</td>\n",
       "      <td>1</td>\n",
       "      <td>1</td>\n",
       "      <td>0</td>\n",
       "    </tr>\n",
       "    <tr>\n",
       "      <th>5504</th>\n",
       "      <td>1102</td>\n",
       "      <td>petrol</td>\n",
       "      <td>1st owner</td>\n",
       "      <td>Noida</td>\n",
       "      <td>1552000.0</td>\n",
       "      <td>14.255055</td>\n",
       "      <td>1</td>\n",
       "      <td>0</td>\n",
       "      <td>1</td>\n",
       "      <td>0</td>\n",
       "      <td>1</td>\n",
       "      <td>1</td>\n",
       "      <td>0</td>\n",
       "    </tr>\n",
       "    <tr>\n",
       "      <th>5505</th>\n",
       "      <td>25519</td>\n",
       "      <td>petrol</td>\n",
       "      <td>2nd owner</td>\n",
       "      <td>Noida</td>\n",
       "      <td>371000.0</td>\n",
       "      <td>12.823957</td>\n",
       "      <td>4</td>\n",
       "      <td>0</td>\n",
       "      <td>1</td>\n",
       "      <td>0</td>\n",
       "      <td>1</td>\n",
       "      <td>1</td>\n",
       "      <td>0</td>\n",
       "    </tr>\n",
       "  </tbody>\n",
       "</table>\n",
       "<p>5506 rows × 13 columns</p>\n",
       "</div>"
      ],
      "text/plain": [
       "      Driven Kilometer   Fuels No. of Owner   Location      Price  log_Price  \\\n",
       "0                 5999  petrol    1st owner  New Delhi  1722000.0  14.358997   \n",
       "1                 9417  petrol    1st owner  New Delhi  1681000.0  14.334899   \n",
       "2                19964  petrol    1st owner  New Delhi   503000.0  13.128345   \n",
       "3                12030  petrol    2nd owner  New Delhi   174000.0  12.066811   \n",
       "4                20969  petrol    1st owner  New Delhi   528000.0  13.176852   \n",
       "...                ...     ...          ...        ...        ...        ...   \n",
       "5501             20700  petrol    1st owner      Noida   650000.0  13.384728   \n",
       "5502             29838  petrol    2nd owner      Noida   169000.0  12.037654   \n",
       "5503             58200     cng    1st owner      Noida   428000.0  12.966878   \n",
       "5504              1102  petrol    1st owner      Noida  1552000.0  14.255055   \n",
       "5505             25519  petrol    2nd owner      Noida   371000.0  12.823957   \n",
       "\n",
       "      Age  brand_model_category_few_models  brand_model_category_many_models  \\\n",
       "0       3                                1                                 0   \n",
       "1       3                                1                                 0   \n",
       "2       4                                0                                 1   \n",
       "3      12                                0                                 1   \n",
       "4       4                                0                                 1   \n",
       "...   ...                              ...                               ...   \n",
       "5501    4                                1                                 0   \n",
       "5502   12                                0                                 1   \n",
       "5503    5                                0                                 1   \n",
       "5504    1                                0                                 1   \n",
       "5505    4                                0                                 1   \n",
       "\n",
       "      brand_variant_category_few_variants  \\\n",
       "0                                       0   \n",
       "1                                       0   \n",
       "2                                       0   \n",
       "3                                       0   \n",
       "4                                       0   \n",
       "...                                   ...   \n",
       "5501                                    1   \n",
       "5502                                    0   \n",
       "5503                                    0   \n",
       "5504                                    0   \n",
       "5505                                    0   \n",
       "\n",
       "      brand_variant_category_many_variants  brand_category_budget  \\\n",
       "0                                        1                      0   \n",
       "1                                        1                      0   \n",
       "2                                        1                      1   \n",
       "3                                        1                      1   \n",
       "4                                        1                      1   \n",
       "...                                    ...                    ...   \n",
       "5501                                     0                      0   \n",
       "5502                                     1                      1   \n",
       "5503                                     1                      1   \n",
       "5504                                     1                      1   \n",
       "5505                                     1                      1   \n",
       "\n",
       "      brand_category_high-end  \n",
       "0                           1  \n",
       "1                           1  \n",
       "2                           0  \n",
       "3                           0  \n",
       "4                           0  \n",
       "...                       ...  \n",
       "5501                        1  \n",
       "5502                        0  \n",
       "5503                        0  \n",
       "5504                        0  \n",
       "5505                        0  \n",
       "\n",
       "[5506 rows x 13 columns]"
      ]
     },
     "execution_count": 40,
     "metadata": {},
     "output_type": "execute_result"
    }
   ],
   "source": [
    "car"
   ]
  },
  {
   "cell_type": "code",
   "execution_count": 41,
   "id": "e8d4c0cf",
   "metadata": {},
   "outputs": [],
   "source": [
    "#using Onehotencorder \n",
    "car= pd.get_dummies(car, columns=[\"Fuels\"])"
   ]
  },
  {
   "cell_type": "code",
   "execution_count": 42,
   "id": "2d176cfe",
   "metadata": {},
   "outputs": [],
   "source": [
    "#using OHE\n",
    "car= pd.get_dummies(car, columns=[\"No. of Owner\"])"
   ]
  },
  {
   "cell_type": "code",
   "execution_count": 43,
   "id": "775fe0d0",
   "metadata": {},
   "outputs": [],
   "source": [
    "#Using OHE\n",
    "car= pd.get_dummies(car, columns=[\"Location\"])"
   ]
  },
  {
   "cell_type": "code",
   "execution_count": 44,
   "id": "8d912420",
   "metadata": {},
   "outputs": [
    {
     "data": {
      "text/plain": [
       "(5506, 22)"
      ]
     },
     "execution_count": 44,
     "metadata": {},
     "output_type": "execute_result"
    }
   ],
   "source": [
    "car.shape #checking the shape of the data "
   ]
  },
  {
   "cell_type": "code",
   "execution_count": 45,
   "id": "34d2277a",
   "metadata": {},
   "outputs": [
    {
     "data": {
      "text/html": [
       "<div>\n",
       "<style scoped>\n",
       "    .dataframe tbody tr th:only-of-type {\n",
       "        vertical-align: middle;\n",
       "    }\n",
       "\n",
       "    .dataframe tbody tr th {\n",
       "        vertical-align: top;\n",
       "    }\n",
       "\n",
       "    .dataframe thead th {\n",
       "        text-align: right;\n",
       "    }\n",
       "</style>\n",
       "<table border=\"1\" class=\"dataframe\">\n",
       "  <thead>\n",
       "    <tr style=\"text-align: right;\">\n",
       "      <th></th>\n",
       "      <th>Driven Kilometer</th>\n",
       "      <th>Price</th>\n",
       "      <th>log_Price</th>\n",
       "      <th>Age</th>\n",
       "      <th>brand_model_category_few_models</th>\n",
       "      <th>brand_model_category_many_models</th>\n",
       "      <th>brand_variant_category_few_variants</th>\n",
       "      <th>brand_variant_category_many_variants</th>\n",
       "      <th>brand_category_budget</th>\n",
       "      <th>brand_category_high-end</th>\n",
       "      <th>...</th>\n",
       "      <th>Fuels_hybrid</th>\n",
       "      <th>Fuels_petrol</th>\n",
       "      <th>No. of Owner_1st owner</th>\n",
       "      <th>No. of Owner_2nd owner</th>\n",
       "      <th>No. of Owner_3rd owner</th>\n",
       "      <th>Location_Bangalore</th>\n",
       "      <th>Location_Gurgaon</th>\n",
       "      <th>Location_Mumbai</th>\n",
       "      <th>Location_New Delhi</th>\n",
       "      <th>Location_Noida</th>\n",
       "    </tr>\n",
       "  </thead>\n",
       "  <tbody>\n",
       "    <tr>\n",
       "      <th>0</th>\n",
       "      <td>5999</td>\n",
       "      <td>1722000.0</td>\n",
       "      <td>14.358997</td>\n",
       "      <td>3</td>\n",
       "      <td>1</td>\n",
       "      <td>0</td>\n",
       "      <td>0</td>\n",
       "      <td>1</td>\n",
       "      <td>0</td>\n",
       "      <td>1</td>\n",
       "      <td>...</td>\n",
       "      <td>0</td>\n",
       "      <td>1</td>\n",
       "      <td>1</td>\n",
       "      <td>0</td>\n",
       "      <td>0</td>\n",
       "      <td>0</td>\n",
       "      <td>0</td>\n",
       "      <td>0</td>\n",
       "      <td>1</td>\n",
       "      <td>0</td>\n",
       "    </tr>\n",
       "    <tr>\n",
       "      <th>1</th>\n",
       "      <td>9417</td>\n",
       "      <td>1681000.0</td>\n",
       "      <td>14.334899</td>\n",
       "      <td>3</td>\n",
       "      <td>1</td>\n",
       "      <td>0</td>\n",
       "      <td>0</td>\n",
       "      <td>1</td>\n",
       "      <td>0</td>\n",
       "      <td>1</td>\n",
       "      <td>...</td>\n",
       "      <td>0</td>\n",
       "      <td>1</td>\n",
       "      <td>1</td>\n",
       "      <td>0</td>\n",
       "      <td>0</td>\n",
       "      <td>0</td>\n",
       "      <td>0</td>\n",
       "      <td>0</td>\n",
       "      <td>1</td>\n",
       "      <td>0</td>\n",
       "    </tr>\n",
       "    <tr>\n",
       "      <th>2</th>\n",
       "      <td>19964</td>\n",
       "      <td>503000.0</td>\n",
       "      <td>13.128345</td>\n",
       "      <td>4</td>\n",
       "      <td>0</td>\n",
       "      <td>1</td>\n",
       "      <td>0</td>\n",
       "      <td>1</td>\n",
       "      <td>1</td>\n",
       "      <td>0</td>\n",
       "      <td>...</td>\n",
       "      <td>0</td>\n",
       "      <td>1</td>\n",
       "      <td>1</td>\n",
       "      <td>0</td>\n",
       "      <td>0</td>\n",
       "      <td>0</td>\n",
       "      <td>0</td>\n",
       "      <td>0</td>\n",
       "      <td>1</td>\n",
       "      <td>0</td>\n",
       "    </tr>\n",
       "    <tr>\n",
       "      <th>3</th>\n",
       "      <td>12030</td>\n",
       "      <td>174000.0</td>\n",
       "      <td>12.066811</td>\n",
       "      <td>12</td>\n",
       "      <td>0</td>\n",
       "      <td>1</td>\n",
       "      <td>0</td>\n",
       "      <td>1</td>\n",
       "      <td>1</td>\n",
       "      <td>0</td>\n",
       "      <td>...</td>\n",
       "      <td>0</td>\n",
       "      <td>1</td>\n",
       "      <td>0</td>\n",
       "      <td>1</td>\n",
       "      <td>0</td>\n",
       "      <td>0</td>\n",
       "      <td>0</td>\n",
       "      <td>0</td>\n",
       "      <td>1</td>\n",
       "      <td>0</td>\n",
       "    </tr>\n",
       "    <tr>\n",
       "      <th>4</th>\n",
       "      <td>20969</td>\n",
       "      <td>528000.0</td>\n",
       "      <td>13.176852</td>\n",
       "      <td>4</td>\n",
       "      <td>0</td>\n",
       "      <td>1</td>\n",
       "      <td>0</td>\n",
       "      <td>1</td>\n",
       "      <td>1</td>\n",
       "      <td>0</td>\n",
       "      <td>...</td>\n",
       "      <td>0</td>\n",
       "      <td>1</td>\n",
       "      <td>1</td>\n",
       "      <td>0</td>\n",
       "      <td>0</td>\n",
       "      <td>0</td>\n",
       "      <td>0</td>\n",
       "      <td>0</td>\n",
       "      <td>1</td>\n",
       "      <td>0</td>\n",
       "    </tr>\n",
       "    <tr>\n",
       "      <th>...</th>\n",
       "      <td>...</td>\n",
       "      <td>...</td>\n",
       "      <td>...</td>\n",
       "      <td>...</td>\n",
       "      <td>...</td>\n",
       "      <td>...</td>\n",
       "      <td>...</td>\n",
       "      <td>...</td>\n",
       "      <td>...</td>\n",
       "      <td>...</td>\n",
       "      <td>...</td>\n",
       "      <td>...</td>\n",
       "      <td>...</td>\n",
       "      <td>...</td>\n",
       "      <td>...</td>\n",
       "      <td>...</td>\n",
       "      <td>...</td>\n",
       "      <td>...</td>\n",
       "      <td>...</td>\n",
       "      <td>...</td>\n",
       "      <td>...</td>\n",
       "    </tr>\n",
       "    <tr>\n",
       "      <th>5501</th>\n",
       "      <td>20700</td>\n",
       "      <td>650000.0</td>\n",
       "      <td>13.384728</td>\n",
       "      <td>4</td>\n",
       "      <td>1</td>\n",
       "      <td>0</td>\n",
       "      <td>1</td>\n",
       "      <td>0</td>\n",
       "      <td>0</td>\n",
       "      <td>1</td>\n",
       "      <td>...</td>\n",
       "      <td>0</td>\n",
       "      <td>1</td>\n",
       "      <td>1</td>\n",
       "      <td>0</td>\n",
       "      <td>0</td>\n",
       "      <td>0</td>\n",
       "      <td>0</td>\n",
       "      <td>0</td>\n",
       "      <td>0</td>\n",
       "      <td>1</td>\n",
       "    </tr>\n",
       "    <tr>\n",
       "      <th>5502</th>\n",
       "      <td>29838</td>\n",
       "      <td>169000.0</td>\n",
       "      <td>12.037654</td>\n",
       "      <td>12</td>\n",
       "      <td>0</td>\n",
       "      <td>1</td>\n",
       "      <td>0</td>\n",
       "      <td>1</td>\n",
       "      <td>1</td>\n",
       "      <td>0</td>\n",
       "      <td>...</td>\n",
       "      <td>0</td>\n",
       "      <td>1</td>\n",
       "      <td>0</td>\n",
       "      <td>1</td>\n",
       "      <td>0</td>\n",
       "      <td>0</td>\n",
       "      <td>0</td>\n",
       "      <td>0</td>\n",
       "      <td>0</td>\n",
       "      <td>1</td>\n",
       "    </tr>\n",
       "    <tr>\n",
       "      <th>5503</th>\n",
       "      <td>58200</td>\n",
       "      <td>428000.0</td>\n",
       "      <td>12.966878</td>\n",
       "      <td>5</td>\n",
       "      <td>0</td>\n",
       "      <td>1</td>\n",
       "      <td>0</td>\n",
       "      <td>1</td>\n",
       "      <td>1</td>\n",
       "      <td>0</td>\n",
       "      <td>...</td>\n",
       "      <td>0</td>\n",
       "      <td>0</td>\n",
       "      <td>1</td>\n",
       "      <td>0</td>\n",
       "      <td>0</td>\n",
       "      <td>0</td>\n",
       "      <td>0</td>\n",
       "      <td>0</td>\n",
       "      <td>0</td>\n",
       "      <td>1</td>\n",
       "    </tr>\n",
       "    <tr>\n",
       "      <th>5504</th>\n",
       "      <td>1102</td>\n",
       "      <td>1552000.0</td>\n",
       "      <td>14.255055</td>\n",
       "      <td>1</td>\n",
       "      <td>0</td>\n",
       "      <td>1</td>\n",
       "      <td>0</td>\n",
       "      <td>1</td>\n",
       "      <td>1</td>\n",
       "      <td>0</td>\n",
       "      <td>...</td>\n",
       "      <td>0</td>\n",
       "      <td>1</td>\n",
       "      <td>1</td>\n",
       "      <td>0</td>\n",
       "      <td>0</td>\n",
       "      <td>0</td>\n",
       "      <td>0</td>\n",
       "      <td>0</td>\n",
       "      <td>0</td>\n",
       "      <td>1</td>\n",
       "    </tr>\n",
       "    <tr>\n",
       "      <th>5505</th>\n",
       "      <td>25519</td>\n",
       "      <td>371000.0</td>\n",
       "      <td>12.823957</td>\n",
       "      <td>4</td>\n",
       "      <td>0</td>\n",
       "      <td>1</td>\n",
       "      <td>0</td>\n",
       "      <td>1</td>\n",
       "      <td>1</td>\n",
       "      <td>0</td>\n",
       "      <td>...</td>\n",
       "      <td>0</td>\n",
       "      <td>1</td>\n",
       "      <td>0</td>\n",
       "      <td>1</td>\n",
       "      <td>0</td>\n",
       "      <td>0</td>\n",
       "      <td>0</td>\n",
       "      <td>0</td>\n",
       "      <td>0</td>\n",
       "      <td>1</td>\n",
       "    </tr>\n",
       "  </tbody>\n",
       "</table>\n",
       "<p>5506 rows × 22 columns</p>\n",
       "</div>"
      ],
      "text/plain": [
       "      Driven Kilometer      Price  log_Price  Age  \\\n",
       "0                 5999  1722000.0  14.358997    3   \n",
       "1                 9417  1681000.0  14.334899    3   \n",
       "2                19964   503000.0  13.128345    4   \n",
       "3                12030   174000.0  12.066811   12   \n",
       "4                20969   528000.0  13.176852    4   \n",
       "...                ...        ...        ...  ...   \n",
       "5501             20700   650000.0  13.384728    4   \n",
       "5502             29838   169000.0  12.037654   12   \n",
       "5503             58200   428000.0  12.966878    5   \n",
       "5504              1102  1552000.0  14.255055    1   \n",
       "5505             25519   371000.0  12.823957    4   \n",
       "\n",
       "      brand_model_category_few_models  brand_model_category_many_models  \\\n",
       "0                                   1                                 0   \n",
       "1                                   1                                 0   \n",
       "2                                   0                                 1   \n",
       "3                                   0                                 1   \n",
       "4                                   0                                 1   \n",
       "...                               ...                               ...   \n",
       "5501                                1                                 0   \n",
       "5502                                0                                 1   \n",
       "5503                                0                                 1   \n",
       "5504                                0                                 1   \n",
       "5505                                0                                 1   \n",
       "\n",
       "      brand_variant_category_few_variants  \\\n",
       "0                                       0   \n",
       "1                                       0   \n",
       "2                                       0   \n",
       "3                                       0   \n",
       "4                                       0   \n",
       "...                                   ...   \n",
       "5501                                    1   \n",
       "5502                                    0   \n",
       "5503                                    0   \n",
       "5504                                    0   \n",
       "5505                                    0   \n",
       "\n",
       "      brand_variant_category_many_variants  brand_category_budget  \\\n",
       "0                                        1                      0   \n",
       "1                                        1                      0   \n",
       "2                                        1                      1   \n",
       "3                                        1                      1   \n",
       "4                                        1                      1   \n",
       "...                                    ...                    ...   \n",
       "5501                                     0                      0   \n",
       "5502                                     1                      1   \n",
       "5503                                     1                      1   \n",
       "5504                                     1                      1   \n",
       "5505                                     1                      1   \n",
       "\n",
       "      brand_category_high-end  ...  Fuels_hybrid  Fuels_petrol  \\\n",
       "0                           1  ...             0             1   \n",
       "1                           1  ...             0             1   \n",
       "2                           0  ...             0             1   \n",
       "3                           0  ...             0             1   \n",
       "4                           0  ...             0             1   \n",
       "...                       ...  ...           ...           ...   \n",
       "5501                        1  ...             0             1   \n",
       "5502                        0  ...             0             1   \n",
       "5503                        0  ...             0             0   \n",
       "5504                        0  ...             0             1   \n",
       "5505                        0  ...             0             1   \n",
       "\n",
       "      No. of Owner_1st owner  No. of Owner_2nd owner  No. of Owner_3rd owner  \\\n",
       "0                          1                       0                       0   \n",
       "1                          1                       0                       0   \n",
       "2                          1                       0                       0   \n",
       "3                          0                       1                       0   \n",
       "4                          1                       0                       0   \n",
       "...                      ...                     ...                     ...   \n",
       "5501                       1                       0                       0   \n",
       "5502                       0                       1                       0   \n",
       "5503                       1                       0                       0   \n",
       "5504                       1                       0                       0   \n",
       "5505                       0                       1                       0   \n",
       "\n",
       "      Location_Bangalore  Location_Gurgaon  Location_Mumbai  \\\n",
       "0                      0                 0                0   \n",
       "1                      0                 0                0   \n",
       "2                      0                 0                0   \n",
       "3                      0                 0                0   \n",
       "4                      0                 0                0   \n",
       "...                  ...               ...              ...   \n",
       "5501                   0                 0                0   \n",
       "5502                   0                 0                0   \n",
       "5503                   0                 0                0   \n",
       "5504                   0                 0                0   \n",
       "5505                   0                 0                0   \n",
       "\n",
       "      Location_New Delhi  Location_Noida  \n",
       "0                      1               0  \n",
       "1                      1               0  \n",
       "2                      1               0  \n",
       "3                      1               0  \n",
       "4                      1               0  \n",
       "...                  ...             ...  \n",
       "5501                   0               1  \n",
       "5502                   0               1  \n",
       "5503                   0               1  \n",
       "5504                   0               1  \n",
       "5505                   0               1  \n",
       "\n",
       "[5506 rows x 22 columns]"
      ]
     },
     "execution_count": 45,
     "metadata": {},
     "output_type": "execute_result"
    }
   ],
   "source": [
    "car"
   ]
  },
  {
   "cell_type": "code",
   "execution_count": 46,
   "id": "90890719",
   "metadata": {},
   "outputs": [
    {
     "data": {
      "text/html": [
       "<div>\n",
       "<style scoped>\n",
       "    .dataframe tbody tr th:only-of-type {\n",
       "        vertical-align: middle;\n",
       "    }\n",
       "\n",
       "    .dataframe tbody tr th {\n",
       "        vertical-align: top;\n",
       "    }\n",
       "\n",
       "    .dataframe thead th {\n",
       "        text-align: right;\n",
       "    }\n",
       "</style>\n",
       "<table border=\"1\" class=\"dataframe\">\n",
       "  <thead>\n",
       "    <tr style=\"text-align: right;\">\n",
       "      <th></th>\n",
       "      <th>Driven Kilometer</th>\n",
       "      <th>log_Price</th>\n",
       "      <th>Age</th>\n",
       "      <th>brand_model_category_few_models</th>\n",
       "      <th>brand_model_category_many_models</th>\n",
       "      <th>brand_variant_category_few_variants</th>\n",
       "      <th>brand_variant_category_many_variants</th>\n",
       "      <th>brand_category_budget</th>\n",
       "      <th>brand_category_high-end</th>\n",
       "      <th>Fuels_cng</th>\n",
       "      <th>...</th>\n",
       "      <th>Fuels_hybrid</th>\n",
       "      <th>Fuels_petrol</th>\n",
       "      <th>No. of Owner_1st owner</th>\n",
       "      <th>No. of Owner_2nd owner</th>\n",
       "      <th>No. of Owner_3rd owner</th>\n",
       "      <th>Location_Bangalore</th>\n",
       "      <th>Location_Gurgaon</th>\n",
       "      <th>Location_Mumbai</th>\n",
       "      <th>Location_New Delhi</th>\n",
       "      <th>Location_Noida</th>\n",
       "    </tr>\n",
       "  </thead>\n",
       "  <tbody>\n",
       "    <tr>\n",
       "      <th>0</th>\n",
       "      <td>5999</td>\n",
       "      <td>14.358997</td>\n",
       "      <td>3</td>\n",
       "      <td>1</td>\n",
       "      <td>0</td>\n",
       "      <td>0</td>\n",
       "      <td>1</td>\n",
       "      <td>0</td>\n",
       "      <td>1</td>\n",
       "      <td>0</td>\n",
       "      <td>...</td>\n",
       "      <td>0</td>\n",
       "      <td>1</td>\n",
       "      <td>1</td>\n",
       "      <td>0</td>\n",
       "      <td>0</td>\n",
       "      <td>0</td>\n",
       "      <td>0</td>\n",
       "      <td>0</td>\n",
       "      <td>1</td>\n",
       "      <td>0</td>\n",
       "    </tr>\n",
       "    <tr>\n",
       "      <th>1</th>\n",
       "      <td>9417</td>\n",
       "      <td>14.334899</td>\n",
       "      <td>3</td>\n",
       "      <td>1</td>\n",
       "      <td>0</td>\n",
       "      <td>0</td>\n",
       "      <td>1</td>\n",
       "      <td>0</td>\n",
       "      <td>1</td>\n",
       "      <td>0</td>\n",
       "      <td>...</td>\n",
       "      <td>0</td>\n",
       "      <td>1</td>\n",
       "      <td>1</td>\n",
       "      <td>0</td>\n",
       "      <td>0</td>\n",
       "      <td>0</td>\n",
       "      <td>0</td>\n",
       "      <td>0</td>\n",
       "      <td>1</td>\n",
       "      <td>0</td>\n",
       "    </tr>\n",
       "    <tr>\n",
       "      <th>2</th>\n",
       "      <td>19964</td>\n",
       "      <td>13.128345</td>\n",
       "      <td>4</td>\n",
       "      <td>0</td>\n",
       "      <td>1</td>\n",
       "      <td>0</td>\n",
       "      <td>1</td>\n",
       "      <td>1</td>\n",
       "      <td>0</td>\n",
       "      <td>0</td>\n",
       "      <td>...</td>\n",
       "      <td>0</td>\n",
       "      <td>1</td>\n",
       "      <td>1</td>\n",
       "      <td>0</td>\n",
       "      <td>0</td>\n",
       "      <td>0</td>\n",
       "      <td>0</td>\n",
       "      <td>0</td>\n",
       "      <td>1</td>\n",
       "      <td>0</td>\n",
       "    </tr>\n",
       "    <tr>\n",
       "      <th>3</th>\n",
       "      <td>12030</td>\n",
       "      <td>12.066811</td>\n",
       "      <td>12</td>\n",
       "      <td>0</td>\n",
       "      <td>1</td>\n",
       "      <td>0</td>\n",
       "      <td>1</td>\n",
       "      <td>1</td>\n",
       "      <td>0</td>\n",
       "      <td>0</td>\n",
       "      <td>...</td>\n",
       "      <td>0</td>\n",
       "      <td>1</td>\n",
       "      <td>0</td>\n",
       "      <td>1</td>\n",
       "      <td>0</td>\n",
       "      <td>0</td>\n",
       "      <td>0</td>\n",
       "      <td>0</td>\n",
       "      <td>1</td>\n",
       "      <td>0</td>\n",
       "    </tr>\n",
       "    <tr>\n",
       "      <th>4</th>\n",
       "      <td>20969</td>\n",
       "      <td>13.176852</td>\n",
       "      <td>4</td>\n",
       "      <td>0</td>\n",
       "      <td>1</td>\n",
       "      <td>0</td>\n",
       "      <td>1</td>\n",
       "      <td>1</td>\n",
       "      <td>0</td>\n",
       "      <td>0</td>\n",
       "      <td>...</td>\n",
       "      <td>0</td>\n",
       "      <td>1</td>\n",
       "      <td>1</td>\n",
       "      <td>0</td>\n",
       "      <td>0</td>\n",
       "      <td>0</td>\n",
       "      <td>0</td>\n",
       "      <td>0</td>\n",
       "      <td>1</td>\n",
       "      <td>0</td>\n",
       "    </tr>\n",
       "    <tr>\n",
       "      <th>...</th>\n",
       "      <td>...</td>\n",
       "      <td>...</td>\n",
       "      <td>...</td>\n",
       "      <td>...</td>\n",
       "      <td>...</td>\n",
       "      <td>...</td>\n",
       "      <td>...</td>\n",
       "      <td>...</td>\n",
       "      <td>...</td>\n",
       "      <td>...</td>\n",
       "      <td>...</td>\n",
       "      <td>...</td>\n",
       "      <td>...</td>\n",
       "      <td>...</td>\n",
       "      <td>...</td>\n",
       "      <td>...</td>\n",
       "      <td>...</td>\n",
       "      <td>...</td>\n",
       "      <td>...</td>\n",
       "      <td>...</td>\n",
       "      <td>...</td>\n",
       "    </tr>\n",
       "    <tr>\n",
       "      <th>5501</th>\n",
       "      <td>20700</td>\n",
       "      <td>13.384728</td>\n",
       "      <td>4</td>\n",
       "      <td>1</td>\n",
       "      <td>0</td>\n",
       "      <td>1</td>\n",
       "      <td>0</td>\n",
       "      <td>0</td>\n",
       "      <td>1</td>\n",
       "      <td>0</td>\n",
       "      <td>...</td>\n",
       "      <td>0</td>\n",
       "      <td>1</td>\n",
       "      <td>1</td>\n",
       "      <td>0</td>\n",
       "      <td>0</td>\n",
       "      <td>0</td>\n",
       "      <td>0</td>\n",
       "      <td>0</td>\n",
       "      <td>0</td>\n",
       "      <td>1</td>\n",
       "    </tr>\n",
       "    <tr>\n",
       "      <th>5502</th>\n",
       "      <td>29838</td>\n",
       "      <td>12.037654</td>\n",
       "      <td>12</td>\n",
       "      <td>0</td>\n",
       "      <td>1</td>\n",
       "      <td>0</td>\n",
       "      <td>1</td>\n",
       "      <td>1</td>\n",
       "      <td>0</td>\n",
       "      <td>0</td>\n",
       "      <td>...</td>\n",
       "      <td>0</td>\n",
       "      <td>1</td>\n",
       "      <td>0</td>\n",
       "      <td>1</td>\n",
       "      <td>0</td>\n",
       "      <td>0</td>\n",
       "      <td>0</td>\n",
       "      <td>0</td>\n",
       "      <td>0</td>\n",
       "      <td>1</td>\n",
       "    </tr>\n",
       "    <tr>\n",
       "      <th>5503</th>\n",
       "      <td>58200</td>\n",
       "      <td>12.966878</td>\n",
       "      <td>5</td>\n",
       "      <td>0</td>\n",
       "      <td>1</td>\n",
       "      <td>0</td>\n",
       "      <td>1</td>\n",
       "      <td>1</td>\n",
       "      <td>0</td>\n",
       "      <td>1</td>\n",
       "      <td>...</td>\n",
       "      <td>0</td>\n",
       "      <td>0</td>\n",
       "      <td>1</td>\n",
       "      <td>0</td>\n",
       "      <td>0</td>\n",
       "      <td>0</td>\n",
       "      <td>0</td>\n",
       "      <td>0</td>\n",
       "      <td>0</td>\n",
       "      <td>1</td>\n",
       "    </tr>\n",
       "    <tr>\n",
       "      <th>5504</th>\n",
       "      <td>1102</td>\n",
       "      <td>14.255055</td>\n",
       "      <td>1</td>\n",
       "      <td>0</td>\n",
       "      <td>1</td>\n",
       "      <td>0</td>\n",
       "      <td>1</td>\n",
       "      <td>1</td>\n",
       "      <td>0</td>\n",
       "      <td>0</td>\n",
       "      <td>...</td>\n",
       "      <td>0</td>\n",
       "      <td>1</td>\n",
       "      <td>1</td>\n",
       "      <td>0</td>\n",
       "      <td>0</td>\n",
       "      <td>0</td>\n",
       "      <td>0</td>\n",
       "      <td>0</td>\n",
       "      <td>0</td>\n",
       "      <td>1</td>\n",
       "    </tr>\n",
       "    <tr>\n",
       "      <th>5505</th>\n",
       "      <td>25519</td>\n",
       "      <td>12.823957</td>\n",
       "      <td>4</td>\n",
       "      <td>0</td>\n",
       "      <td>1</td>\n",
       "      <td>0</td>\n",
       "      <td>1</td>\n",
       "      <td>1</td>\n",
       "      <td>0</td>\n",
       "      <td>0</td>\n",
       "      <td>...</td>\n",
       "      <td>0</td>\n",
       "      <td>1</td>\n",
       "      <td>0</td>\n",
       "      <td>1</td>\n",
       "      <td>0</td>\n",
       "      <td>0</td>\n",
       "      <td>0</td>\n",
       "      <td>0</td>\n",
       "      <td>0</td>\n",
       "      <td>1</td>\n",
       "    </tr>\n",
       "  </tbody>\n",
       "</table>\n",
       "<p>5506 rows × 21 columns</p>\n",
       "</div>"
      ],
      "text/plain": [
       "      Driven Kilometer  log_Price  Age  brand_model_category_few_models  \\\n",
       "0                 5999  14.358997    3                                1   \n",
       "1                 9417  14.334899    3                                1   \n",
       "2                19964  13.128345    4                                0   \n",
       "3                12030  12.066811   12                                0   \n",
       "4                20969  13.176852    4                                0   \n",
       "...                ...        ...  ...                              ...   \n",
       "5501             20700  13.384728    4                                1   \n",
       "5502             29838  12.037654   12                                0   \n",
       "5503             58200  12.966878    5                                0   \n",
       "5504              1102  14.255055    1                                0   \n",
       "5505             25519  12.823957    4                                0   \n",
       "\n",
       "      brand_model_category_many_models  brand_variant_category_few_variants  \\\n",
       "0                                    0                                    0   \n",
       "1                                    0                                    0   \n",
       "2                                    1                                    0   \n",
       "3                                    1                                    0   \n",
       "4                                    1                                    0   \n",
       "...                                ...                                  ...   \n",
       "5501                                 0                                    1   \n",
       "5502                                 1                                    0   \n",
       "5503                                 1                                    0   \n",
       "5504                                 1                                    0   \n",
       "5505                                 1                                    0   \n",
       "\n",
       "      brand_variant_category_many_variants  brand_category_budget  \\\n",
       "0                                        1                      0   \n",
       "1                                        1                      0   \n",
       "2                                        1                      1   \n",
       "3                                        1                      1   \n",
       "4                                        1                      1   \n",
       "...                                    ...                    ...   \n",
       "5501                                     0                      0   \n",
       "5502                                     1                      1   \n",
       "5503                                     1                      1   \n",
       "5504                                     1                      1   \n",
       "5505                                     1                      1   \n",
       "\n",
       "      brand_category_high-end  Fuels_cng  ...  Fuels_hybrid  Fuels_petrol  \\\n",
       "0                           1          0  ...             0             1   \n",
       "1                           1          0  ...             0             1   \n",
       "2                           0          0  ...             0             1   \n",
       "3                           0          0  ...             0             1   \n",
       "4                           0          0  ...             0             1   \n",
       "...                       ...        ...  ...           ...           ...   \n",
       "5501                        1          0  ...             0             1   \n",
       "5502                        0          0  ...             0             1   \n",
       "5503                        0          1  ...             0             0   \n",
       "5504                        0          0  ...             0             1   \n",
       "5505                        0          0  ...             0             1   \n",
       "\n",
       "      No. of Owner_1st owner  No. of Owner_2nd owner  No. of Owner_3rd owner  \\\n",
       "0                          1                       0                       0   \n",
       "1                          1                       0                       0   \n",
       "2                          1                       0                       0   \n",
       "3                          0                       1                       0   \n",
       "4                          1                       0                       0   \n",
       "...                      ...                     ...                     ...   \n",
       "5501                       1                       0                       0   \n",
       "5502                       0                       1                       0   \n",
       "5503                       1                       0                       0   \n",
       "5504                       1                       0                       0   \n",
       "5505                       0                       1                       0   \n",
       "\n",
       "      Location_Bangalore  Location_Gurgaon  Location_Mumbai  \\\n",
       "0                      0                 0                0   \n",
       "1                      0                 0                0   \n",
       "2                      0                 0                0   \n",
       "3                      0                 0                0   \n",
       "4                      0                 0                0   \n",
       "...                  ...               ...              ...   \n",
       "5501                   0                 0                0   \n",
       "5502                   0                 0                0   \n",
       "5503                   0                 0                0   \n",
       "5504                   0                 0                0   \n",
       "5505                   0                 0                0   \n",
       "\n",
       "      Location_New Delhi  Location_Noida  \n",
       "0                      1               0  \n",
       "1                      1               0  \n",
       "2                      1               0  \n",
       "3                      1               0  \n",
       "4                      1               0  \n",
       "...                  ...             ...  \n",
       "5501                   0               1  \n",
       "5502                   0               1  \n",
       "5503                   0               1  \n",
       "5504                   0               1  \n",
       "5505                   0               1  \n",
       "\n",
       "[5506 rows x 21 columns]"
      ]
     },
     "execution_count": 46,
     "metadata": {},
     "output_type": "execute_result"
    }
   ],
   "source": [
    "car.drop(['Price'],axis=1) #Dropping price and using log_price instead of it in dataframe"
   ]
  },
  {
   "cell_type": "code",
   "execution_count": 47,
   "id": "9c7225d7",
   "metadata": {},
   "outputs": [
    {
     "data": {
      "text/plain": [
       "False"
      ]
     },
     "execution_count": 47,
     "metadata": {},
     "output_type": "execute_result"
    }
   ],
   "source": [
    "car['log_Price'].isnull().any()"
   ]
  },
  {
   "cell_type": "markdown",
   "id": "7b7be36f",
   "metadata": {},
   "source": [
    "# Model Training and Testing"
   ]
  },
  {
   "cell_type": "code",
   "execution_count": 48,
   "id": "55295286",
   "metadata": {},
   "outputs": [],
   "source": [
    "from sklearn.linear_model import LinearRegression\n",
    "model=LinearRegression()"
   ]
  },
  {
   "cell_type": "code",
   "execution_count": 49,
   "id": "3e0c419d",
   "metadata": {},
   "outputs": [
    {
     "data": {
      "text/plain": [
       "LinearRegression()"
      ]
     },
     "execution_count": 49,
     "metadata": {},
     "output_type": "execute_result"
    }
   ],
   "source": [
    "# Checking for non-numeric values\n",
    "try:\n",
    "    car['log_Price'] = car['log_Price'].astype(float)\n",
    "except ValueError:\n",
    "    # Remove non-numeric values\n",
    "    car = car[car['log_Price'].apply(lambda x: x.replace(',', '').replace('.', '').isnumeric())]\n",
    "    car['log_Price'] = car['log_Price'].astype(float)\n",
    "\n",
    "# Checking the data type\n",
    "if not np.issubdtype(car['log_Price'].dtype, np.number):\n",
    "    # Converting to numeric data type\n",
    "    car['log_Price'] = pd.to_numeric(car['log_Price'], errors='coerce')\n",
    "\n",
    "# Checking for outliers\n",
    "Q1 = car['log_Price'].quantile(0.25)\n",
    "Q3 = car['log_Price'].quantile(0.75)\n",
    "IQR = Q3 - Q1\n",
    "car = car[~((car['log_Price'] < (Q1 - 1.5 * IQR)) | (car['log_Price'] > (Q3 + 1.5 * IQR)))]\n",
    "\n",
    "# Fiting the model using the cleaned data\n",
    "model.fit(car.drop(columns='log_Price'), car['log_Price'])\n",
    "\n",
    "\n",
    "\n"
   ]
  },
  {
   "cell_type": "markdown",
   "id": "1274a1c7",
   "metadata": {},
   "source": [
    "# RandomForest Regressor Model"
   ]
  },
  {
   "cell_type": "code",
   "execution_count": 50,
   "id": "8342ebca",
   "metadata": {},
   "outputs": [
    {
     "name": "stdout",
     "output_type": "stream",
     "text": [
      "Test R^2 score: 1.00\n",
      "R_squared : 0.9999897489472591\n",
      "RMSE : 0.0012940085977529805\n"
     ]
    }
   ],
   "source": [
    "from sklearn.metrics import r2_score\n",
    "from sklearn.metrics import mean_squared_error\n",
    "# Split the data into features (X) and target (y)\n",
    "X = car.drop(\"log_Price\", axis=1)\n",
    "y = car[\"log_Price\"]\n",
    "\n",
    "# Split the data into training and test sets\n",
    "X_train, X_test, y_train, y_test = train_test_split(X, y, test_size=0.3, random_state=42)\n",
    "\n",
    "from sklearn.ensemble import RandomForestRegressor\n",
    "reg_rf = RandomForestRegressor()\n",
    "reg_rf.fit(X_train, y_train)\n",
    "\n",
    "\n",
    "# Evaluate the model on the test data\n",
    "score = reg_rf.score(X_test, y_test)\n",
    "print(\"Test R^2 score: {:.2f}\".format(score))\n",
    "\n",
    "y_pred_rf = reg_rf.predict(X_test)\n",
    "r_squared = r2_score(y_test,y_pred_rf)\n",
    "rmse = np.sqrt(mean_squared_error(y_test,y_pred_rf))\n",
    "print(\"R_squared :\",r_squared)\n",
    "print(\"RMSE :\",rmse)\n"
   ]
  },
  {
   "cell_type": "markdown",
   "id": "840cd7a0",
   "metadata": {},
   "source": [
    "# LinearRegression Model"
   ]
  },
  {
   "cell_type": "code",
   "execution_count": 51,
   "id": "112e2e47",
   "metadata": {},
   "outputs": [
    {
     "name": "stdout",
     "output_type": "stream",
     "text": [
      "Test R^2 score: 0.93\n"
     ]
    }
   ],
   "source": [
    "from sklearn.linear_model import LinearRegression\n",
    "model=LinearRegression()\n",
    "model.fit(X_train, y_train)\n",
    "\n",
    "score = model.score(X_test, y_test)\n",
    "print(\"Test R^2 score: {:.2f}\".format(score))"
   ]
  },
  {
   "cell_type": "code",
   "execution_count": 52,
   "id": "6fad4018",
   "metadata": {},
   "outputs": [
    {
     "name": "stdout",
     "output_type": "stream",
     "text": [
      "R_squared : 0.9293233277857043\n",
      "RMSE : 0.10744617864840313\n"
     ]
    }
   ],
   "source": [
    "\n",
    "\n",
    "# Model Summary\n",
    "y_pred_model = model.predict(X_test)\n",
    "\n",
    "r_squared = r2_score(y_test,y_pred_model)\n",
    "rmse = np.sqrt(mean_squared_error(y_test,y_pred_model))\n",
    "print(\"R_squared :\",r_squared)\n",
    "print(\"RMSE :\",rmse)"
   ]
  },
  {
   "cell_type": "markdown",
   "id": "186dc8f0",
   "metadata": {},
   "source": [
    "# GBT Regressor Model"
   ]
  },
  {
   "cell_type": "code",
   "execution_count": 53,
   "id": "feb9f122",
   "metadata": {},
   "outputs": [
    {
     "name": "stdout",
     "output_type": "stream",
     "text": [
      "R_squared : 0.999889224742368\n",
      "RMSE : 0.004253773019559795\n"
     ]
    }
   ],
   "source": [
    "# Model Building\n",
    "from sklearn.ensemble import GradientBoostingRegressor\n",
    "gbt = GradientBoostingRegressor()\n",
    "\n",
    "# Training Model\n",
    "gbt.fit(X_train,y_train)\n",
    "\n",
    "# Model Summary\n",
    "y_pred_gbt = gbt.predict(X_test)\n",
    "\n",
    "r_squared = r2_score(y_test,y_pred_gbt)\n",
    "rmse = np.sqrt(mean_squared_error(y_test,y_pred_gbt))\n",
    "print(\"R_squared :\",r_squared)\n",
    "print(\"RMSE :\",rmse)"
   ]
  },
  {
   "cell_type": "markdown",
   "id": "9947f067",
   "metadata": {},
   "source": [
    "# Hyperparameter Tuning"
   ]
  },
  {
   "cell_type": "code",
   "execution_count": 54,
   "id": "980bf60a",
   "metadata": {},
   "outputs": [
    {
     "name": "stdout",
     "output_type": "stream",
     "text": [
      "{'n_estimators': [100, 200, 300, 400, 500, 600, 700, 800, 900, 1000, 1100, 1200], 'max_features': ['auto', 'sqrt'], 'max_depth': [5, 10, 15, 20, 25, 30], 'min_samples_split': [2, 5, 10, 15, 100], 'min_samples_leaf': [1, 2, 5, 10]}\n"
     ]
    }
   ],
   "source": [
    "#Randomized Search CV\n",
    "from sklearn.model_selection import RandomizedSearchCV\n",
    "# Number of trees in random forest\n",
    "n_estimators = [int(x) for x in np.linspace(start = 100, stop = 1200, num = 12)]\n",
    "# Number of features to consider at every split\n",
    "max_features = ['auto', 'sqrt']\n",
    "# Maximum number of levels in tree\n",
    "max_depth = [int(x) for x in np.linspace(5, 30, num = 6)]\n",
    "# max_depth.append(None)\n",
    "# Minimum number of samples required to split a node\n",
    "min_samples_split = [2, 5, 10, 15, 100]\n",
    "# Minimum number of samples required at each leaf node\n",
    "min_samples_leaf = [1, 2, 5, 10]\n",
    "\n",
    "# Create the random grid\n",
    "random_grid = {'n_estimators': n_estimators,\n",
    "               'max_features': max_features,\n",
    "               'max_depth': max_depth,\n",
    "               'min_samples_split': min_samples_split,\n",
    "               'min_samples_leaf': min_samples_leaf}\n",
    "\n",
    "print(random_grid)"
   ]
  },
  {
   "cell_type": "code",
   "execution_count": 55,
   "id": "b47a6392",
   "metadata": {},
   "outputs": [
    {
     "name": "stdout",
     "output_type": "stream",
     "text": [
      "Fitting 5 folds for each of 10 candidates, totalling 50 fits\n",
      "[CV] END max_depth=10, max_features=sqrt, min_samples_leaf=5, min_samples_split=5, n_estimators=900; total time=   1.2s\n",
      "[CV] END max_depth=10, max_features=sqrt, min_samples_leaf=5, min_samples_split=5, n_estimators=900; total time=   1.2s\n",
      "[CV] END max_depth=10, max_features=sqrt, min_samples_leaf=5, min_samples_split=5, n_estimators=900; total time=   1.1s\n",
      "[CV] END max_depth=10, max_features=sqrt, min_samples_leaf=5, min_samples_split=5, n_estimators=900; total time=   1.2s\n",
      "[CV] END max_depth=10, max_features=sqrt, min_samples_leaf=5, min_samples_split=5, n_estimators=900; total time=   1.2s\n",
      "[CV] END max_depth=15, max_features=sqrt, min_samples_leaf=2, min_samples_split=10, n_estimators=1100; total time=   1.9s\n",
      "[CV] END max_depth=15, max_features=sqrt, min_samples_leaf=2, min_samples_split=10, n_estimators=1100; total time=   1.8s\n",
      "[CV] END max_depth=15, max_features=sqrt, min_samples_leaf=2, min_samples_split=10, n_estimators=1100; total time=   1.9s\n",
      "[CV] END max_depth=15, max_features=sqrt, min_samples_leaf=2, min_samples_split=10, n_estimators=1100; total time=   1.9s\n",
      "[CV] END max_depth=15, max_features=sqrt, min_samples_leaf=2, min_samples_split=10, n_estimators=1100; total time=   1.8s\n",
      "[CV] END max_depth=15, max_features=auto, min_samples_leaf=5, min_samples_split=100, n_estimators=300; total time=   0.7s\n",
      "[CV] END max_depth=15, max_features=auto, min_samples_leaf=5, min_samples_split=100, n_estimators=300; total time=   0.7s\n",
      "[CV] END max_depth=15, max_features=auto, min_samples_leaf=5, min_samples_split=100, n_estimators=300; total time=   0.7s\n",
      "[CV] END max_depth=15, max_features=auto, min_samples_leaf=5, min_samples_split=100, n_estimators=300; total time=   0.7s\n",
      "[CV] END max_depth=15, max_features=auto, min_samples_leaf=5, min_samples_split=100, n_estimators=300; total time=   0.6s\n",
      "[CV] END max_depth=15, max_features=auto, min_samples_leaf=5, min_samples_split=5, n_estimators=400; total time=   1.4s\n",
      "[CV] END max_depth=15, max_features=auto, min_samples_leaf=5, min_samples_split=5, n_estimators=400; total time=   1.4s\n",
      "[CV] END max_depth=15, max_features=auto, min_samples_leaf=5, min_samples_split=5, n_estimators=400; total time=   1.4s\n",
      "[CV] END max_depth=15, max_features=auto, min_samples_leaf=5, min_samples_split=5, n_estimators=400; total time=   1.4s\n",
      "[CV] END max_depth=15, max_features=auto, min_samples_leaf=5, min_samples_split=5, n_estimators=400; total time=   1.4s\n",
      "[CV] END max_depth=20, max_features=auto, min_samples_leaf=10, min_samples_split=5, n_estimators=700; total time=   2.3s\n",
      "[CV] END max_depth=20, max_features=auto, min_samples_leaf=10, min_samples_split=5, n_estimators=700; total time=   2.4s\n",
      "[CV] END max_depth=20, max_features=auto, min_samples_leaf=10, min_samples_split=5, n_estimators=700; total time=   2.4s\n",
      "[CV] END max_depth=20, max_features=auto, min_samples_leaf=10, min_samples_split=5, n_estimators=700; total time=   2.2s\n",
      "[CV] END max_depth=20, max_features=auto, min_samples_leaf=10, min_samples_split=5, n_estimators=700; total time=   2.4s\n",
      "[CV] END max_depth=25, max_features=sqrt, min_samples_leaf=1, min_samples_split=2, n_estimators=1000; total time=   2.5s\n",
      "[CV] END max_depth=25, max_features=sqrt, min_samples_leaf=1, min_samples_split=2, n_estimators=1000; total time=   2.6s\n",
      "[CV] END max_depth=25, max_features=sqrt, min_samples_leaf=1, min_samples_split=2, n_estimators=1000; total time=   2.6s\n",
      "[CV] END max_depth=25, max_features=sqrt, min_samples_leaf=1, min_samples_split=2, n_estimators=1000; total time=   2.5s\n",
      "[CV] END max_depth=25, max_features=sqrt, min_samples_leaf=1, min_samples_split=2, n_estimators=1000; total time=   2.8s\n",
      "[CV] END max_depth=5, max_features=sqrt, min_samples_leaf=10, min_samples_split=15, n_estimators=1100; total time=   1.2s\n",
      "[CV] END max_depth=5, max_features=sqrt, min_samples_leaf=10, min_samples_split=15, n_estimators=1100; total time=   1.1s\n",
      "[CV] END max_depth=5, max_features=sqrt, min_samples_leaf=10, min_samples_split=15, n_estimators=1100; total time=   1.1s\n",
      "[CV] END max_depth=5, max_features=sqrt, min_samples_leaf=10, min_samples_split=15, n_estimators=1100; total time=   1.1s\n",
      "[CV] END max_depth=5, max_features=sqrt, min_samples_leaf=10, min_samples_split=15, n_estimators=1100; total time=   1.1s\n",
      "[CV] END max_depth=15, max_features=sqrt, min_samples_leaf=1, min_samples_split=15, n_estimators=300; total time=   0.4s\n",
      "[CV] END max_depth=15, max_features=sqrt, min_samples_leaf=1, min_samples_split=15, n_estimators=300; total time=   0.4s\n",
      "[CV] END max_depth=15, max_features=sqrt, min_samples_leaf=1, min_samples_split=15, n_estimators=300; total time=   0.4s\n",
      "[CV] END max_depth=15, max_features=sqrt, min_samples_leaf=1, min_samples_split=15, n_estimators=300; total time=   0.4s\n",
      "[CV] END max_depth=15, max_features=sqrt, min_samples_leaf=1, min_samples_split=15, n_estimators=300; total time=   0.4s\n",
      "[CV] END max_depth=5, max_features=sqrt, min_samples_leaf=2, min_samples_split=10, n_estimators=700; total time=   0.7s\n",
      "[CV] END max_depth=5, max_features=sqrt, min_samples_leaf=2, min_samples_split=10, n_estimators=700; total time=   0.7s\n",
      "[CV] END max_depth=5, max_features=sqrt, min_samples_leaf=2, min_samples_split=10, n_estimators=700; total time=   0.7s\n",
      "[CV] END max_depth=5, max_features=sqrt, min_samples_leaf=2, min_samples_split=10, n_estimators=700; total time=   0.7s\n",
      "[CV] END max_depth=5, max_features=sqrt, min_samples_leaf=2, min_samples_split=10, n_estimators=700; total time=   0.7s\n",
      "[CV] END max_depth=20, max_features=auto, min_samples_leaf=1, min_samples_split=15, n_estimators=700; total time=   2.4s\n",
      "[CV] END max_depth=20, max_features=auto, min_samples_leaf=1, min_samples_split=15, n_estimators=700; total time=   2.4s\n",
      "[CV] END max_depth=20, max_features=auto, min_samples_leaf=1, min_samples_split=15, n_estimators=700; total time=   2.4s\n",
      "[CV] END max_depth=20, max_features=auto, min_samples_leaf=1, min_samples_split=15, n_estimators=700; total time=   2.4s\n",
      "[CV] END max_depth=20, max_features=auto, min_samples_leaf=1, min_samples_split=15, n_estimators=700; total time=   2.4s\n"
     ]
    },
    {
     "data": {
      "text/plain": [
       "RandomizedSearchCV(cv=5, estimator=RandomForestRegressor(), n_jobs=1,\n",
       "                   param_distributions={'max_depth': [5, 10, 15, 20, 25, 30],\n",
       "                                        'max_features': ['auto', 'sqrt'],\n",
       "                                        'min_samples_leaf': [1, 2, 5, 10],\n",
       "                                        'min_samples_split': [2, 5, 10, 15,\n",
       "                                                              100],\n",
       "                                        'n_estimators': [100, 200, 300, 400,\n",
       "                                                         500, 600, 700, 800,\n",
       "                                                         900, 1000, 1100,\n",
       "                                                         1200]},\n",
       "                   random_state=42, verbose=2)"
      ]
     },
     "execution_count": 55,
     "metadata": {},
     "output_type": "execute_result"
    }
   ],
   "source": [
    "# Random search of parameters, using 3 fold cross validation, \n",
    "# search across 100 different combinations\n",
    "rf_random = RandomizedSearchCV(estimator = reg_rf, param_distributions = random_grid, n_iter = 10, cv = 5, verbose=2, random_state=42, n_jobs = 1)\n",
    "rf_random.fit(X_train,y_train)"
   ]
  },
  {
   "cell_type": "code",
   "execution_count": 56,
   "id": "ee14fa45",
   "metadata": {},
   "outputs": [
    {
     "data": {
      "text/plain": [
       "{'n_estimators': 400,\n",
       " 'min_samples_split': 5,\n",
       " 'min_samples_leaf': 5,\n",
       " 'max_features': 'auto',\n",
       " 'max_depth': 15}"
      ]
     },
     "execution_count": 56,
     "metadata": {},
     "output_type": "execute_result"
    }
   ],
   "source": [
    "rf_random.best_params_"
   ]
  },
  {
   "cell_type": "code",
   "execution_count": 57,
   "id": "7fd6e9bc",
   "metadata": {},
   "outputs": [],
   "source": [
    "predictions=rf_random.predict(X_test)"
   ]
  },
  {
   "cell_type": "code",
   "execution_count": 58,
   "id": "0eeaddbe",
   "metadata": {},
   "outputs": [
    {
     "name": "stdout",
     "output_type": "stream",
     "text": [
      "R_squared : 0.9999554600383493\n"
     ]
    }
   ],
   "source": [
    "r_squared = r2_score(y_test,predictions)\n",
    "rmse = np.sqrt(mean_squared_error(y_test,predictions))\n",
    "print(\"R_squared :\",r_squared)"
   ]
  },
  {
   "cell_type": "code",
   "execution_count": 59,
   "id": "90c4e4cf",
   "metadata": {},
   "outputs": [
    {
     "name": "stdout",
     "output_type": "stream",
     "text": [
      "MAE: 0.00040539306881191107\n",
      "MSE: 1.674458251058635e-06\n",
      "RMSE: 0.0012940085977529805\n"
     ]
    }
   ],
   "source": [
    "from sklearn import metrics\n",
    "\n",
    "print('MAE:', metrics.mean_absolute_error(y_test, y_pred_rf))\n",
    "print('MSE:', metrics.mean_squared_error(y_test, y_pred_rf))\n",
    "print('RMSE:', np.sqrt(metrics.mean_squared_error(y_test, y_pred_rf)))"
   ]
  },
  {
   "cell_type": "code",
   "execution_count": 60,
   "id": "73549c1c",
   "metadata": {},
   "outputs": [
    {
     "data": {
      "text/html": [
       "<div>\n",
       "<style scoped>\n",
       "    .dataframe tbody tr th:only-of-type {\n",
       "        vertical-align: middle;\n",
       "    }\n",
       "\n",
       "    .dataframe tbody tr th {\n",
       "        vertical-align: top;\n",
       "    }\n",
       "\n",
       "    .dataframe thead th {\n",
       "        text-align: right;\n",
       "    }\n",
       "</style>\n",
       "<table border=\"1\" class=\"dataframe\">\n",
       "  <thead>\n",
       "    <tr style=\"text-align: right;\">\n",
       "      <th></th>\n",
       "      <th>Predicted Price</th>\n",
       "      <th>Actual Price</th>\n",
       "      <th>Residual</th>\n",
       "      <th>Difference%</th>\n",
       "    </tr>\n",
       "  </thead>\n",
       "  <tbody>\n",
       "    <tr>\n",
       "      <th>1418</th>\n",
       "      <td>394009.94</td>\n",
       "      <td>394000.00</td>\n",
       "      <td>-9.94</td>\n",
       "      <td>0.00</td>\n",
       "    </tr>\n",
       "    <tr>\n",
       "      <th>1419</th>\n",
       "      <td>417029.89</td>\n",
       "      <td>417000.00</td>\n",
       "      <td>-29.89</td>\n",
       "      <td>0.01</td>\n",
       "    </tr>\n",
       "    <tr>\n",
       "      <th>1420</th>\n",
       "      <td>718813.37</td>\n",
       "      <td>719000.00</td>\n",
       "      <td>186.63</td>\n",
       "      <td>0.03</td>\n",
       "    </tr>\n",
       "    <tr>\n",
       "      <th>1421</th>\n",
       "      <td>807199.68</td>\n",
       "      <td>807000.00</td>\n",
       "      <td>-199.68</td>\n",
       "      <td>0.02</td>\n",
       "    </tr>\n",
       "    <tr>\n",
       "      <th>1422</th>\n",
       "      <td>614099.85</td>\n",
       "      <td>614000.00</td>\n",
       "      <td>-99.85</td>\n",
       "      <td>0.02</td>\n",
       "    </tr>\n",
       "  </tbody>\n",
       "</table>\n",
       "</div>"
      ],
      "text/plain": [
       "      Predicted Price  Actual Price  Residual  Difference%\n",
       "1418        394009.94     394000.00     -9.94         0.00\n",
       "1419        417029.89     417000.00    -29.89         0.01\n",
       "1420        718813.37     719000.00    186.63         0.03\n",
       "1421        807199.68     807000.00   -199.68         0.02\n",
       "1422        614099.85     614000.00    -99.85         0.02"
      ]
     },
     "execution_count": 60,
     "metadata": {},
     "output_type": "execute_result"
    }
   ],
   "source": [
    "# Finally, let's manually check these predictions\n",
    "# To obtain the actual prices, we take the exponential of the log_price\n",
    "df_ev = pd.DataFrame(np.exp(y_pred_rf), columns=['Predicted Price'])\n",
    "\n",
    "# We can also include the Actual price column in that data frame (so we can manually compare them)\n",
    "y_test = y_test.reset_index(drop=True)\n",
    "df_ev['Actual Price'] = np.exp(y_test)\n",
    "\n",
    "# we can calculate the difference between the targets and the predictions\n",
    "df_ev['Residual'] = df_ev['Actual Price'] - df_ev['Predicted Price']\n",
    "df_ev['Difference%'] = np.absolute(df_ev['Residual']/df_ev['Actual Price']*100)\n",
    "\n",
    "pd.set_option('display.float_format', lambda x: '%.2f' % x)\n",
    "df_ev.sort_values(by=['Difference%'])\n",
    "\n",
    "df_ev.tail(5)"
   ]
  },
  {
   "cell_type": "markdown",
   "id": "34976e7f",
   "metadata": {},
   "source": [
    "Models looks good and have ability to give the result at 99.99% accuracy."
   ]
  },
  {
   "cell_type": "code",
   "execution_count": null,
   "id": "e90c59d8",
   "metadata": {},
   "outputs": [],
   "source": []
  }
 ],
 "metadata": {
  "kernelspec": {
   "display_name": "Python 3 (ipykernel)",
   "language": "python",
   "name": "python3"
  },
  "language_info": {
   "codemirror_mode": {
    "name": "ipython",
    "version": 3
   },
   "file_extension": ".py",
   "mimetype": "text/x-python",
   "name": "python",
   "nbconvert_exporter": "python",
   "pygments_lexer": "ipython3",
   "version": "3.9.12"
  }
 },
 "nbformat": 4,
 "nbformat_minor": 5
}
